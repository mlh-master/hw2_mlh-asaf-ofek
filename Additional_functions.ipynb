{
 "cells": [
  {
   "cell_type": "code",
   "execution_count": null,
   "metadata": {},
   "outputs": [],
   "source": []
  },
  {
   "cell_type": "code",
   "execution_count": 4,
   "metadata": {},
   "outputs": [],
   "source": [
    "def nan2num(dataframe):\n",
    "    \"\"\"\n",
    "    :param dataframe: Pandas series of features\n",
    "    :return: A pandas dataframe of the dictionary c_cdf containing the \"clean\" features\n",
    "    \"\"\"\n",
    "    #dataframe = pd.DataFrame(dataframe).drop(extra_feature, 1)\n",
    "    c_cdf = {}\n",
    "    for column in dataframe.columns:\n",
    "        replacing_value = np.random.choice(dataframe[column])\n",
    "        c_cdf[column] = pd.to_numeric(dataframe[column], errors='coerce').fillna(replacing_value)\n",
    "    return pd.DataFrame(c_cdf)"
   ]
  }
 ],
 "metadata": {
  "kernelspec": {
   "display_name": "Python 3",
   "language": "python",
   "name": "python3"
  },
  "language_info": {
   "codemirror_mode": {
    "name": "ipython",
    "version": 3
   },
   "file_extension": ".py",
   "mimetype": "text/x-python",
   "name": "python",
   "nbconvert_exporter": "python",
   "pygments_lexer": "ipython3",
   "version": "3.7.9"
  }
 },
 "nbformat": 4,
 "nbformat_minor": 4
}
