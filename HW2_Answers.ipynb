{
 "cells": [
  {
   "cell_type": "markdown",
   "metadata": {},
   "source": [
    "***HW2 - Detecting Type 1 Diabetes***"
   ]
  },
  {
   "cell_type": "markdown",
   "metadata": {},
   "source": [
    "# Theory Assignment"
   ]
  },
  {
   "cell_type": "markdown",
   "metadata": {},
   "source": [
    "**A1**\n",
    "\n",
    "For our opinion, when it comes to healthcare ML algorithms, Accuracy is more important than performance.\n",
    "Because we're speaking on human lives, it is better to be more precise than, for example, when estimating house value.\n",
    "\n",
    "האם התכוונו כאן לביצועיות של המודל? כלומר למהירות בה הוא מגיע לתוצאות?"
   ]
  },
  {
   "cell_type": "markdown",
   "metadata": {},
   "source": [
    "**A2**\n",
    "\n",
    "Too many features is often a bad thing. It may lead to Overfitting, meaning that the fitting of your parameters is too tightly to the training data. This results in model discovering random noise in the finite training set instead of the wider relationship between the features and the output variable. Consequently, the model will often perform very well on the training data but perform quite poorly on the test data.\n",
    "In conclusion, overfitting may be done due to choosing all features, especially whenn taking irrelevant feature like income.\n",
    "\n",
    "On the other hand, choosing only 2 features for such complex problem may cause under-fitting. meaning that both training accuracy and testing accuracy will be poor.\n"
   ]
  },
  {
   "cell_type": "markdown",
   "metadata": {},
   "source": [
    "# Coding Assignment:"
   ]
  },
  {
   "cell_type": "markdown",
   "metadata": {},
   "source": [
    "Import and load packages:"
   ]
  },
  {
   "cell_type": "code",
   "execution_count": 1,
   "metadata": {},
   "outputs": [],
   "source": [
    "import pandas as pd \n",
    "import numpy as np\n",
    "from pathlib import Path\n",
    "import random\n",
    "import distutils\n",
    "from sklearn import metrics\n",
    "from sklearn.model_selection import train_test_split\n",
    "import matplotlib.pyplot as plt\n",
    "#from Additional_functions import *"
   ]
  },
  {
   "cell_type": "markdown",
   "metadata": {},
   "source": [
    "# **Q1 - Data loading and preprocessing:**"
   ]
  },
  {
   "cell_type": "code",
   "execution_count": 3,
   "metadata": {},
   "outputs": [],
   "source": [
    "def nan2num(dataframe):\n",
    "    \"\"\"\n",
    "    :param dataframe: Pandas series of features\n",
    "    :return: A pandas dataframe of the dictionary c_cdf containing the \"clean\" features\n",
    "    \"\"\"\n",
    "    # dataframe = pd.DataFrame(dataframe).drop(extra_feature, 1)\n",
    "    c_cdf = {}\n",
    "    c_cdf = dataframe\n",
    "    for column in dataframe.columns:\n",
    "        if column == 'Age':\n",
    "            i=0\n",
    "        else:\n",
    "            replacing_value = np.random.choice(dataframe[column])\n",
    "            c_cdf[column].replace(to_replace= np.nan , value=replacing_value, inplace = True)\n",
    "    return pd.DataFrame(c_cdf)\n",
    "\n",
    "def str_to_bool_series(s_orig):\n",
    "    s = s_orig.copy()\n",
    "    for index, value in s.items():\n",
    "        if(value=='Yes'):\n",
    "            s[index] = 1\n",
    "        elif(value=='No'):\n",
    "            s[index] = 0\n",
    "        elif(value=='Male'):\n",
    "            s[index] = 1\n",
    "        elif(value == 'Female'):\n",
    "            s[index] = 0\n",
    "        elif(value=='Positive'):\n",
    "            s[index] = 1\n",
    "        elif (value == 'Negative'):\n",
    "            s[index] = 0\n",
    "#         elif(value==1):\n",
    "#             s[index] = True\n",
    "#         elif(value==0):\n",
    "#             s[index] = False\n",
    "    return s"
   ]
  },
  {
   "cell_type": "markdown",
   "metadata": {},
   "source": [
    "Load data:"
   ]
  },
  {
   "cell_type": "code",
   "execution_count": 4,
   "metadata": {},
   "outputs": [],
   "source": [
    "df_orig = pd.read_csv('HW2_data.csv')"
   ]
  },
  {
   "cell_type": "markdown",
   "metadata": {},
   "source": [
    "Transfer all data to numeric values:"
   ]
  },
  {
   "cell_type": "code",
   "execution_count": 6,
   "metadata": {},
   "outputs": [
    {
     "data": {
      "text/html": [
       "<div>\n",
       "<style scoped>\n",
       "    .dataframe tbody tr th:only-of-type {\n",
       "        vertical-align: middle;\n",
       "    }\n",
       "\n",
       "    .dataframe tbody tr th {\n",
       "        vertical-align: top;\n",
       "    }\n",
       "\n",
       "    .dataframe thead th {\n",
       "        text-align: right;\n",
       "    }\n",
       "</style>\n",
       "<table border=\"1\" class=\"dataframe\">\n",
       "  <thead>\n",
       "    <tr style=\"text-align: right;\">\n",
       "      <th></th>\n",
       "      <th>Age</th>\n",
       "      <th>Gender</th>\n",
       "      <th>Increased Urination</th>\n",
       "      <th>Increased Thirst</th>\n",
       "      <th>Sudden Weight Loss</th>\n",
       "      <th>Weakness</th>\n",
       "      <th>Increased Hunger</th>\n",
       "      <th>Genital Thrush</th>\n",
       "      <th>Visual Blurring</th>\n",
       "      <th>Itching</th>\n",
       "      <th>Irritability</th>\n",
       "      <th>Delayed Healing</th>\n",
       "      <th>Partial Paresis</th>\n",
       "      <th>Muscle Stiffness</th>\n",
       "      <th>Hair Loss</th>\n",
       "      <th>Obesity</th>\n",
       "      <th>Diagnosis</th>\n",
       "      <th>Family History</th>\n",
       "    </tr>\n",
       "  </thead>\n",
       "  <tbody>\n",
       "    <tr>\n",
       "      <th>560</th>\n",
       "      <td>54</td>\n",
       "      <td>1</td>\n",
       "      <td>1</td>\n",
       "      <td>1</td>\n",
       "      <td>1</td>\n",
       "      <td>1</td>\n",
       "      <td>0</td>\n",
       "      <td>NaN</td>\n",
       "      <td>1</td>\n",
       "      <td>1</td>\n",
       "      <td>1</td>\n",
       "      <td>1</td>\n",
       "      <td>1</td>\n",
       "      <td>1</td>\n",
       "      <td>0</td>\n",
       "      <td>0</td>\n",
       "      <td>1</td>\n",
       "      <td>0</td>\n",
       "    </tr>\n",
       "    <tr>\n",
       "      <th>561</th>\n",
       "      <td>32</td>\n",
       "      <td>1</td>\n",
       "      <td>0</td>\n",
       "      <td>0</td>\n",
       "      <td>0</td>\n",
       "      <td>0</td>\n",
       "      <td>0</td>\n",
       "      <td>NaN</td>\n",
       "      <td>0</td>\n",
       "      <td>0</td>\n",
       "      <td>1</td>\n",
       "      <td>1</td>\n",
       "      <td>0</td>\n",
       "      <td>0</td>\n",
       "      <td>0</td>\n",
       "      <td>1</td>\n",
       "      <td>1</td>\n",
       "      <td>0</td>\n",
       "    </tr>\n",
       "    <tr>\n",
       "      <th>562</th>\n",
       "      <td>61</td>\n",
       "      <td>0</td>\n",
       "      <td>1</td>\n",
       "      <td>0</td>\n",
       "      <td>0</td>\n",
       "      <td>0</td>\n",
       "      <td>1</td>\n",
       "      <td>0</td>\n",
       "      <td>0</td>\n",
       "      <td>0</td>\n",
       "      <td>1</td>\n",
       "      <td>0</td>\n",
       "      <td>0</td>\n",
       "      <td>0</td>\n",
       "      <td>1</td>\n",
       "      <td>0</td>\n",
       "      <td>1</td>\n",
       "      <td>1</td>\n",
       "    </tr>\n",
       "    <tr>\n",
       "      <th>563</th>\n",
       "      <td>46</td>\n",
       "      <td>1</td>\n",
       "      <td>0</td>\n",
       "      <td>0</td>\n",
       "      <td>0</td>\n",
       "      <td>1</td>\n",
       "      <td>0</td>\n",
       "      <td>0</td>\n",
       "      <td>0</td>\n",
       "      <td>1</td>\n",
       "      <td>0</td>\n",
       "      <td>1</td>\n",
       "      <td>0</td>\n",
       "      <td>0</td>\n",
       "      <td>1</td>\n",
       "      <td>0</td>\n",
       "      <td>0</td>\n",
       "      <td>0</td>\n",
       "    </tr>\n",
       "    <tr>\n",
       "      <th>564</th>\n",
       "      <td>37</td>\n",
       "      <td>1</td>\n",
       "      <td>0</td>\n",
       "      <td>0</td>\n",
       "      <td>0</td>\n",
       "      <td>0</td>\n",
       "      <td>0</td>\n",
       "      <td>0</td>\n",
       "      <td>0</td>\n",
       "      <td>0</td>\n",
       "      <td>0</td>\n",
       "      <td>0</td>\n",
       "      <td>0</td>\n",
       "      <td>0</td>\n",
       "      <td>0</td>\n",
       "      <td>0</td>\n",
       "      <td>0</td>\n",
       "      <td>0</td>\n",
       "    </tr>\n",
       "  </tbody>\n",
       "</table>\n",
       "</div>"
      ],
      "text/plain": [
       "     Age Gender Increased Urination Increased Thirst Sudden Weight Loss  \\\n",
       "560   54      1                   1                1                  1   \n",
       "561   32      1                   0                0                  0   \n",
       "562   61      0                   1                0                  0   \n",
       "563   46      1                   0                0                  0   \n",
       "564   37      1                   0                0                  0   \n",
       "\n",
       "    Weakness Increased Hunger Genital Thrush Visual Blurring Itching  \\\n",
       "560        1                0            NaN               1       1   \n",
       "561        0                0            NaN               0       0   \n",
       "562        0                1              0               0       0   \n",
       "563        1                0              0               0       1   \n",
       "564        0                0              0               0       0   \n",
       "\n",
       "    Irritability Delayed Healing Partial Paresis Muscle Stiffness Hair Loss  \\\n",
       "560            1               1               1                1         0   \n",
       "561            1               1               0                0         0   \n",
       "562            1               0               0                0         1   \n",
       "563            0               1               0                0         1   \n",
       "564            0               0               0                0         0   \n",
       "\n",
       "    Obesity Diagnosis  Family History  \n",
       "560       0         1               0  \n",
       "561       1         1               0  \n",
       "562       0         1               1  \n",
       "563       0         0               0  \n",
       "564       0         0               0  "
      ]
     },
     "execution_count": 6,
     "metadata": {},
     "output_type": "execute_result"
    }
   ],
   "source": [
    "\n",
    "df = df_orig\n",
    "for column in df.columns:\n",
    "    df[column] = str_to_bool_series(df_orig[column])\n",
    "df.tail()"
   ]
  },
  {
   "cell_type": "markdown",
   "metadata": {},
   "source": [
    "Clean NaN's:\n"
   ]
  },
  {
   "cell_type": "code",
   "execution_count": 7,
   "metadata": {},
   "outputs": [
    {
     "data": {
      "text/html": [
       "<div>\n",
       "<style scoped>\n",
       "    .dataframe tbody tr th:only-of-type {\n",
       "        vertical-align: middle;\n",
       "    }\n",
       "\n",
       "    .dataframe tbody tr th {\n",
       "        vertical-align: top;\n",
       "    }\n",
       "\n",
       "    .dataframe thead th {\n",
       "        text-align: right;\n",
       "    }\n",
       "</style>\n",
       "<table border=\"1\" class=\"dataframe\">\n",
       "  <thead>\n",
       "    <tr style=\"text-align: right;\">\n",
       "      <th></th>\n",
       "      <th>Age</th>\n",
       "      <th>Gender</th>\n",
       "      <th>Increased Urination</th>\n",
       "      <th>Increased Thirst</th>\n",
       "      <th>Sudden Weight Loss</th>\n",
       "      <th>Weakness</th>\n",
       "      <th>Increased Hunger</th>\n",
       "      <th>Genital Thrush</th>\n",
       "      <th>Visual Blurring</th>\n",
       "      <th>Itching</th>\n",
       "      <th>Irritability</th>\n",
       "      <th>Delayed Healing</th>\n",
       "      <th>Partial Paresis</th>\n",
       "      <th>Muscle Stiffness</th>\n",
       "      <th>Hair Loss</th>\n",
       "      <th>Obesity</th>\n",
       "      <th>Diagnosis</th>\n",
       "      <th>Family History</th>\n",
       "    </tr>\n",
       "  </thead>\n",
       "  <tbody>\n",
       "    <tr>\n",
       "      <th>560</th>\n",
       "      <td>54</td>\n",
       "      <td>1</td>\n",
       "      <td>1</td>\n",
       "      <td>1</td>\n",
       "      <td>1</td>\n",
       "      <td>1</td>\n",
       "      <td>0</td>\n",
       "      <td>1</td>\n",
       "      <td>1</td>\n",
       "      <td>1</td>\n",
       "      <td>1</td>\n",
       "      <td>1</td>\n",
       "      <td>1</td>\n",
       "      <td>1</td>\n",
       "      <td>0</td>\n",
       "      <td>0</td>\n",
       "      <td>1</td>\n",
       "      <td>0</td>\n",
       "    </tr>\n",
       "    <tr>\n",
       "      <th>561</th>\n",
       "      <td>32</td>\n",
       "      <td>1</td>\n",
       "      <td>0</td>\n",
       "      <td>0</td>\n",
       "      <td>0</td>\n",
       "      <td>0</td>\n",
       "      <td>0</td>\n",
       "      <td>1</td>\n",
       "      <td>0</td>\n",
       "      <td>0</td>\n",
       "      <td>1</td>\n",
       "      <td>1</td>\n",
       "      <td>0</td>\n",
       "      <td>0</td>\n",
       "      <td>0</td>\n",
       "      <td>1</td>\n",
       "      <td>1</td>\n",
       "      <td>0</td>\n",
       "    </tr>\n",
       "    <tr>\n",
       "      <th>562</th>\n",
       "      <td>61</td>\n",
       "      <td>0</td>\n",
       "      <td>1</td>\n",
       "      <td>0</td>\n",
       "      <td>0</td>\n",
       "      <td>0</td>\n",
       "      <td>1</td>\n",
       "      <td>0</td>\n",
       "      <td>0</td>\n",
       "      <td>0</td>\n",
       "      <td>1</td>\n",
       "      <td>0</td>\n",
       "      <td>0</td>\n",
       "      <td>0</td>\n",
       "      <td>1</td>\n",
       "      <td>0</td>\n",
       "      <td>1</td>\n",
       "      <td>1</td>\n",
       "    </tr>\n",
       "    <tr>\n",
       "      <th>563</th>\n",
       "      <td>46</td>\n",
       "      <td>1</td>\n",
       "      <td>0</td>\n",
       "      <td>0</td>\n",
       "      <td>0</td>\n",
       "      <td>1</td>\n",
       "      <td>0</td>\n",
       "      <td>0</td>\n",
       "      <td>0</td>\n",
       "      <td>1</td>\n",
       "      <td>0</td>\n",
       "      <td>1</td>\n",
       "      <td>0</td>\n",
       "      <td>0</td>\n",
       "      <td>1</td>\n",
       "      <td>0</td>\n",
       "      <td>0</td>\n",
       "      <td>0</td>\n",
       "    </tr>\n",
       "    <tr>\n",
       "      <th>564</th>\n",
       "      <td>37</td>\n",
       "      <td>1</td>\n",
       "      <td>0</td>\n",
       "      <td>0</td>\n",
       "      <td>0</td>\n",
       "      <td>0</td>\n",
       "      <td>0</td>\n",
       "      <td>0</td>\n",
       "      <td>0</td>\n",
       "      <td>0</td>\n",
       "      <td>0</td>\n",
       "      <td>0</td>\n",
       "      <td>0</td>\n",
       "      <td>0</td>\n",
       "      <td>0</td>\n",
       "      <td>0</td>\n",
       "      <td>0</td>\n",
       "      <td>0</td>\n",
       "    </tr>\n",
       "  </tbody>\n",
       "</table>\n",
       "</div>"
      ],
      "text/plain": [
       "     Age  Gender  Increased Urination  Increased Thirst  Sudden Weight Loss  \\\n",
       "560   54       1                    1                 1                   1   \n",
       "561   32       1                    0                 0                   0   \n",
       "562   61       0                    1                 0                   0   \n",
       "563   46       1                    0                 0                   0   \n",
       "564   37       1                    0                 0                   0   \n",
       "\n",
       "     Weakness  Increased Hunger  Genital Thrush  Visual Blurring  Itching  \\\n",
       "560         1                 0               1                1        1   \n",
       "561         0                 0               1                0        0   \n",
       "562         0                 1               0                0        0   \n",
       "563         1                 0               0                0        1   \n",
       "564         0                 0               0                0        0   \n",
       "\n",
       "     Irritability  Delayed Healing  Partial Paresis  Muscle Stiffness  \\\n",
       "560             1                1                1                 1   \n",
       "561             1                1                0                 0   \n",
       "562             1                0                0                 0   \n",
       "563             0                1                0                 0   \n",
       "564             0                0                0                 0   \n",
       "\n",
       "     Hair Loss  Obesity  Diagnosis  Family History  \n",
       "560          0        0          1               0  \n",
       "561          0        1          1               0  \n",
       "562          1        0          1               1  \n",
       "563          1        0          0               0  \n",
       "564          0        0          0               0  "
      ]
     },
     "execution_count": 7,
     "metadata": {},
     "output_type": "execute_result"
    }
   ],
   "source": [
    "t1d_clean = nan2num(df)\n",
    "t1d_clean.tail()"
   ]
  },
  {
   "cell_type": "markdown",
   "metadata": {},
   "source": [
    "Scale Age column:"
   ]
  },
  {
   "cell_type": "code",
   "execution_count": null,
   "metadata": {},
   "outputs": [],
   "source": [
    "from sklearn.preprocessing import MinMaxScaler\n",
    "min_max_scaler = MinMaxScaler()\n",
    "min_max_scaler"
   ]
  },
  {
   "cell_type": "markdown",
   "metadata": {
    "pycharm": {
     "name": "#%% md\n"
    }
   },
   "source": [
    "# **Q2 -  Split the data into Test Train 20%**"
   ]
  },
  {
   "cell_type": "code",
   "execution_count": 12,
   "metadata": {
    "collapsed": false,
    "jupyter": {
     "outputs_hidden": false
    },
    "pycharm": {
     "name": "#%%\n"
    }
   },
   "outputs": [],
   "source": [
    "diagnosis = t1d_clean['Diagnosis']\n",
    "\n",
    "X_train, X_test, y_train, y_test = train_test_split(t1d_clean, np.ravel(diagnosis), test_size=0.2,\n",
    "                                                        random_state=0, stratify=np.ravel(diagnosis))"
   ]
  },
  {
   "cell_type": "markdown",
   "metadata": {},
   "source": [
    "# **Q3 - Visualization and exploration of the data**\n",
    "\n"
   ]
  },
  {
   "cell_type": "markdown",
   "metadata": {},
   "source": [
    "# Distribution of the features:"
   ]
  },
  {
   "cell_type": "code",
   "execution_count": 15,
   "metadata": {
    "collapsed": false,
    "jupyter": {
     "outputs_hidden": false
    },
    "pycharm": {
     "name": "#%%\n"
    }
   },
   "outputs": [
    {
     "name": "stdout",
     "output_type": "stream",
     "text": [
      "Feature            | Train % | Test % | Difference\n",
      "Age                  48.18     48.12     0.06     \n",
      "Gender               63.94     62.83     1.11\n",
      "Increased Urination  48.23     48.67     -0.44\n",
      "Increased Thirst     46.9      44.25     2.65\n",
      "Sudden Weight Loss   40.93     46.02     -5.09\n",
      "Weakness             56.42     60.18     -3.76\n",
      "Increased Hunger     44.03     41.59     2.44\n",
      "Genital Thrush       20.58     25.66     -5.08\n",
      "Visual Blurring      45.8      41.59     4.21\n",
      "Itching              50.22     46.02     4.2\n",
      "Irritability         23.01     25.66     -2.65\n",
      "Delayed Healing      46.9      43.36     3.54\n",
      "Partial Paresis      42.7      42.48     0.22\n",
      "Muscle Stiffness     38.27     38.94     -0.67\n",
      "Hair Loss            34.29     41.59     -7.3\n",
      "Obesity              17.48     14.16     3.32\n",
      "Diagnosis            60.62     61.06     -0.44\n",
      "Family History       50.22     52.21     -1.99\n"
     ]
    }
   ],
   "source": [
    "def print_dist_features(df, x_train, x_test):\n",
    "    print(\"Feature            | Train % | Test % | Difference\")\n",
    "    for column in df:\n",
    "        if(column=='Age'):\n",
    "            age_mean_train = round(x_train[column].mean(),2)\n",
    "            print(column ,end =  \" \"*(21-len(column))) \n",
    "            print(age_mean_train, end = \" \"*(5))\n",
    "            age_mean_test = round(X_test[column].mean(),2)\n",
    "            print(age_mean_test, end = \" \"*(5))\n",
    "            difference = round(age_mean_train-age_mean_test,2)\n",
    "            print(difference, end = \" \"*(5))\n",
    "            print()\n",
    "        elif(column=='Family History'):\n",
    "            train_count = round(x_train[column].value_counts(ascending = True)/len(x_train[column])*100,2)\n",
    "            test_count = round(x_test[column].value_counts(ascending = True)/len(x_test[column])*100,2)\n",
    "            difference = round(train_count[1]-test_count[1],2)\n",
    "            print(column, end=\" \"*(21-len(column)))\n",
    "            print(train_count[1], end = \" \"*(10-len(str(train_count[1]))))\n",
    "            print(test_count[1], end = \" \"*(10-len(str(test_count[1]))))\n",
    "            print(difference)\n",
    "        else:\n",
    "            train_count = round(x_train[column].value_counts(ascending = True)/len(x_train[column])*100,2)\n",
    "            test_count = round(x_test[column].value_counts(ascending = True)/len(x_test[column])*100,2)\n",
    "            difference = round(train_count[1]-test_count[1],2)\n",
    "            print(column, end=\" \"*(21-len(column)))\n",
    "            print(train_count[1], end = \" \"*(10-len(str(train_count[1]))))\n",
    "            print(test_count[1], end = \" \"*(10-len(str(test_count[1]))))\n",
    "            print(difference)\n",
    "\n",
    "print_dist_features(t1d_clean, X_train, X_test)"
   ]
  },
  {
   "cell_type": "markdown",
   "metadata": {},
   "source": [
    "**A3 Section a**\n",
    "\n",
    "Imbalance between train and test set could cause the learning algorithm to fail in classification of the test set.\n",
    "Balance can be reached with stratification or normalization. in our case, due to the booleanic nature of the data, its better to do stratification."
   ]
  },
  {
   "cell_type": "markdown",
   "metadata": {},
   "source": [
    "# Relationship between feature and label:\n",
    "\n",
    "These plots shows the relationsship between each feature and label. The age feature is shown in zoom-in plot because it has many details and was not clear in a small plot"
   ]
  },
  {
   "cell_type": "code",
   "execution_count": 68,
   "metadata": {
    "collapsed": false,
    "jupyter": {
     "outputs_hidden": false
    },
    "pycharm": {
     "name": "#%%\n"
    }
   },
   "outputs": [
    {
     "data": {
      "image/png": "[encoded data removed]",
      "text/plain": [
       "<Figure size 1440x720 with 20 Axes>"
      ]
     },
     "metadata": {},
     "output_type": "display_data"
    },
    {
     "data": {
      "image/png": "[encoded data removed]",
      "text/plain": [
       "<Figure size 1296x432 with 1 Axes>"
      ]
     },
     "metadata": {},
     "output_type": "display_data"
    }
   ],
   "source": [
    "import seaborn as sbn\n",
    "import matplotlib.ticker as ticker\n",
    "\n",
    "def feature_corr(t1d_df):\n",
    "    fig, axes = plt.subplots(4, 5,figsize=(20, 10) )\n",
    "    sbn.set_context(\"paper\", font_scale=0.7)\n",
    "    sbn.set_theme(style=\"darkgrid\", palette=\"Set1\")\n",
    "    fig.suptitle(\"Relationship between features and label\")\n",
    "    i=0\n",
    "    for column in t1d_df:\n",
    "        if(column=='Gender'):\n",
    "            feat_lab = sbn.countplot(ax = axes[i//5,i%5], x='Gender', hue = 'Diagnosis', data = t1d_df)\n",
    "            feat_lab.set(xticklabels=['Male', 'Female'])\n",
    "        elif(column=='Age'):\n",
    "            i-=1\n",
    "#             feat_lab = sbn.countplot(ax = axes[i//5,i%5], x='Age', hue = 'Diagnosis', data = t1d_df)\n",
    "#             feat_lab.xaxis.set_major_locator(ticker.LinearLocator(10))\n",
    "        elif(i>=1):\n",
    "            feat_lab = sbn.countplot(ax = axes[i//5,i%5], x=column, hue = 'Diagnosis', data = t1d_df)\n",
    "            feat_lab.set(xticklabels=['No', 'Yes'])\n",
    "        i+=1\n",
    "    plt.subplots_adjust\n",
    "    return()\n",
    "\n",
    "feature_corr(t1d_clean)\n",
    "\n",
    "fig, axes = plt.subplots(1, 1,figsize=(18, 6) )\n",
    "\n",
    "\n",
    "# Plot Age seperately:\n",
    "title_text = 'Number of patients as a function of age - Zoom in'\n",
    "feat_lab = sbn.countplot(ax = axes, x='Age', hue = 'Diagnosis', data = t1d_clean)\n",
    "feat_lab.xaxis.set_major_locator(ticker.LinearLocator(10))\n",
    "feat_lab.set_title(title_text, fontsize=15)\n",
    "axes.tick_params(axis='both', which='major', labelsize=15)"
   ]
  },
  {
   "cell_type": "markdown",
   "metadata": {},
   "source": [
    "Additional plots:"
   ]
  },
  {
   "cell_type": "code",
   "execution_count": 32,
   "metadata": {
    "collapsed": false,
    "jupyter": {
     "outputs_hidden": false
    },
    "pycharm": {
     "name": "#%%\n"
    }
   },
   "outputs": [
    {
     "ename": "KeyError",
     "evalue": "\"['Diagnosis'] not found in axis\"",
     "output_type": "error",
     "traceback": [
      "\u001b[1;31m---------------------------------------------------------------------------\u001b[0m",
      "\u001b[1;31mKeyError\u001b[0m                                  Traceback (most recent call last)",
      "\u001b[1;32m<ipython-input-32-013bd93c80d1>\u001b[0m in \u001b[0;36m<module>\u001b[1;34m\u001b[0m\n\u001b[1;32m----> 1\u001b[1;33m \u001b[0mX_train\u001b[0m \u001b[1;33m=\u001b[0m \u001b[0mX_train\u001b[0m\u001b[1;33m.\u001b[0m\u001b[0mdrop\u001b[0m\u001b[1;33m(\u001b[0m\u001b[0mcolumns\u001b[0m\u001b[1;33m=\u001b[0m\u001b[1;33m[\u001b[0m\u001b[1;34m'Diagnosis'\u001b[0m\u001b[1;33m]\u001b[0m\u001b[1;33m)\u001b[0m\u001b[1;33m\u001b[0m\u001b[1;33m\u001b[0m\u001b[0m\n\u001b[0m\u001b[0;32m      2\u001b[0m \u001b[0mX_test\u001b[0m \u001b[1;33m=\u001b[0m \u001b[0mX_test\u001b[0m\u001b[1;33m.\u001b[0m\u001b[0mdrop\u001b[0m\u001b[1;33m(\u001b[0m\u001b[0mcolumns\u001b[0m\u001b[1;33m=\u001b[0m\u001b[1;33m[\u001b[0m\u001b[1;34m'Diagnosis'\u001b[0m\u001b[1;33m]\u001b[0m\u001b[1;33m)\u001b[0m\u001b[1;33m\u001b[0m\u001b[1;33m\u001b[0m\u001b[0m\n",
      "\u001b[1;32m~\\anaconda3\\envs\\bm-336546\\lib\\site-packages\\pandas\\core\\frame.py\u001b[0m in \u001b[0;36mdrop\u001b[1;34m(self, labels, axis, index, columns, level, inplace, errors)\u001b[0m\n\u001b[0;32m   4172\u001b[0m             \u001b[0mlevel\u001b[0m\u001b[1;33m=\u001b[0m\u001b[0mlevel\u001b[0m\u001b[1;33m,\u001b[0m\u001b[1;33m\u001b[0m\u001b[1;33m\u001b[0m\u001b[0m\n\u001b[0;32m   4173\u001b[0m             \u001b[0minplace\u001b[0m\u001b[1;33m=\u001b[0m\u001b[0minplace\u001b[0m\u001b[1;33m,\u001b[0m\u001b[1;33m\u001b[0m\u001b[1;33m\u001b[0m\u001b[0m\n\u001b[1;32m-> 4174\u001b[1;33m             \u001b[0merrors\u001b[0m\u001b[1;33m=\u001b[0m\u001b[0merrors\u001b[0m\u001b[1;33m,\u001b[0m\u001b[1;33m\u001b[0m\u001b[1;33m\u001b[0m\u001b[0m\n\u001b[0m\u001b[0;32m   4175\u001b[0m         )\n\u001b[0;32m   4176\u001b[0m \u001b[1;33m\u001b[0m\u001b[0m\n",
      "\u001b[1;32m~\\anaconda3\\envs\\bm-336546\\lib\\site-packages\\pandas\\core\\generic.py\u001b[0m in \u001b[0;36mdrop\u001b[1;34m(self, labels, axis, index, columns, level, inplace, errors)\u001b[0m\n\u001b[0;32m   3885\u001b[0m         \u001b[1;32mfor\u001b[0m \u001b[0maxis\u001b[0m\u001b[1;33m,\u001b[0m \u001b[0mlabels\u001b[0m \u001b[1;32min\u001b[0m \u001b[0maxes\u001b[0m\u001b[1;33m.\u001b[0m\u001b[0mitems\u001b[0m\u001b[1;33m(\u001b[0m\u001b[1;33m)\u001b[0m\u001b[1;33m:\u001b[0m\u001b[1;33m\u001b[0m\u001b[1;33m\u001b[0m\u001b[0m\n\u001b[0;32m   3886\u001b[0m             \u001b[1;32mif\u001b[0m \u001b[0mlabels\u001b[0m \u001b[1;32mis\u001b[0m \u001b[1;32mnot\u001b[0m \u001b[1;32mNone\u001b[0m\u001b[1;33m:\u001b[0m\u001b[1;33m\u001b[0m\u001b[1;33m\u001b[0m\u001b[0m\n\u001b[1;32m-> 3887\u001b[1;33m                 \u001b[0mobj\u001b[0m \u001b[1;33m=\u001b[0m \u001b[0mobj\u001b[0m\u001b[1;33m.\u001b[0m\u001b[0m_drop_axis\u001b[0m\u001b[1;33m(\u001b[0m\u001b[0mlabels\u001b[0m\u001b[1;33m,\u001b[0m \u001b[0maxis\u001b[0m\u001b[1;33m,\u001b[0m \u001b[0mlevel\u001b[0m\u001b[1;33m=\u001b[0m\u001b[0mlevel\u001b[0m\u001b[1;33m,\u001b[0m \u001b[0merrors\u001b[0m\u001b[1;33m=\u001b[0m\u001b[0merrors\u001b[0m\u001b[1;33m)\u001b[0m\u001b[1;33m\u001b[0m\u001b[1;33m\u001b[0m\u001b[0m\n\u001b[0m\u001b[0;32m   3888\u001b[0m \u001b[1;33m\u001b[0m\u001b[0m\n\u001b[0;32m   3889\u001b[0m         \u001b[1;32mif\u001b[0m \u001b[0minplace\u001b[0m\u001b[1;33m:\u001b[0m\u001b[1;33m\u001b[0m\u001b[1;33m\u001b[0m\u001b[0m\n",
      "\u001b[1;32m~\\anaconda3\\envs\\bm-336546\\lib\\site-packages\\pandas\\core\\generic.py\u001b[0m in \u001b[0;36m_drop_axis\u001b[1;34m(self, labels, axis, level, errors)\u001b[0m\n\u001b[0;32m   3919\u001b[0m                 \u001b[0mnew_axis\u001b[0m \u001b[1;33m=\u001b[0m \u001b[0maxis\u001b[0m\u001b[1;33m.\u001b[0m\u001b[0mdrop\u001b[0m\u001b[1;33m(\u001b[0m\u001b[0mlabels\u001b[0m\u001b[1;33m,\u001b[0m \u001b[0mlevel\u001b[0m\u001b[1;33m=\u001b[0m\u001b[0mlevel\u001b[0m\u001b[1;33m,\u001b[0m \u001b[0merrors\u001b[0m\u001b[1;33m=\u001b[0m\u001b[0merrors\u001b[0m\u001b[1;33m)\u001b[0m\u001b[1;33m\u001b[0m\u001b[1;33m\u001b[0m\u001b[0m\n\u001b[0;32m   3920\u001b[0m             \u001b[1;32melse\u001b[0m\u001b[1;33m:\u001b[0m\u001b[1;33m\u001b[0m\u001b[1;33m\u001b[0m\u001b[0m\n\u001b[1;32m-> 3921\u001b[1;33m                 \u001b[0mnew_axis\u001b[0m \u001b[1;33m=\u001b[0m \u001b[0maxis\u001b[0m\u001b[1;33m.\u001b[0m\u001b[0mdrop\u001b[0m\u001b[1;33m(\u001b[0m\u001b[0mlabels\u001b[0m\u001b[1;33m,\u001b[0m \u001b[0merrors\u001b[0m\u001b[1;33m=\u001b[0m\u001b[0merrors\u001b[0m\u001b[1;33m)\u001b[0m\u001b[1;33m\u001b[0m\u001b[1;33m\u001b[0m\u001b[0m\n\u001b[0m\u001b[0;32m   3922\u001b[0m             \u001b[0mresult\u001b[0m \u001b[1;33m=\u001b[0m \u001b[0mself\u001b[0m\u001b[1;33m.\u001b[0m\u001b[0mreindex\u001b[0m\u001b[1;33m(\u001b[0m\u001b[1;33m**\u001b[0m\u001b[1;33m{\u001b[0m\u001b[0maxis_name\u001b[0m\u001b[1;33m:\u001b[0m \u001b[0mnew_axis\u001b[0m\u001b[1;33m}\u001b[0m\u001b[1;33m)\u001b[0m\u001b[1;33m\u001b[0m\u001b[1;33m\u001b[0m\u001b[0m\n\u001b[0;32m   3923\u001b[0m \u001b[1;33m\u001b[0m\u001b[0m\n",
      "\u001b[1;32m~\\anaconda3\\envs\\bm-336546\\lib\\site-packages\\pandas\\core\\indexes\\base.py\u001b[0m in \u001b[0;36mdrop\u001b[1;34m(self, labels, errors)\u001b[0m\n\u001b[0;32m   5282\u001b[0m         \u001b[1;32mif\u001b[0m \u001b[0mmask\u001b[0m\u001b[1;33m.\u001b[0m\u001b[0many\u001b[0m\u001b[1;33m(\u001b[0m\u001b[1;33m)\u001b[0m\u001b[1;33m:\u001b[0m\u001b[1;33m\u001b[0m\u001b[1;33m\u001b[0m\u001b[0m\n\u001b[0;32m   5283\u001b[0m             \u001b[1;32mif\u001b[0m \u001b[0merrors\u001b[0m \u001b[1;33m!=\u001b[0m \u001b[1;34m\"ignore\"\u001b[0m\u001b[1;33m:\u001b[0m\u001b[1;33m\u001b[0m\u001b[1;33m\u001b[0m\u001b[0m\n\u001b[1;32m-> 5284\u001b[1;33m                 \u001b[1;32mraise\u001b[0m \u001b[0mKeyError\u001b[0m\u001b[1;33m(\u001b[0m\u001b[1;34mf\"{labels[mask]} not found in axis\"\u001b[0m\u001b[1;33m)\u001b[0m\u001b[1;33m\u001b[0m\u001b[1;33m\u001b[0m\u001b[0m\n\u001b[0m\u001b[0;32m   5285\u001b[0m             \u001b[0mindexer\u001b[0m \u001b[1;33m=\u001b[0m \u001b[0mindexer\u001b[0m\u001b[1;33m[\u001b[0m\u001b[1;33m~\u001b[0m\u001b[0mmask\u001b[0m\u001b[1;33m]\u001b[0m\u001b[1;33m\u001b[0m\u001b[1;33m\u001b[0m\u001b[0m\n\u001b[0;32m   5286\u001b[0m         \u001b[1;32mreturn\u001b[0m \u001b[0mself\u001b[0m\u001b[1;33m.\u001b[0m\u001b[0mdelete\u001b[0m\u001b[1;33m(\u001b[0m\u001b[0mindexer\u001b[0m\u001b[1;33m)\u001b[0m\u001b[1;33m\u001b[0m\u001b[1;33m\u001b[0m\u001b[0m\n",
      "\u001b[1;31mKeyError\u001b[0m: \"['Diagnosis'] not found in axis\""
     ]
    }
   ],
   "source": [
    "X_train = X_train.drop(columns=['Diagnosis'])\n",
    "X_test = X_test.drop(columns=['Diagnosis'])"
   ]
  },
  {
   "cell_type": "markdown",
   "metadata": {},
   "source": [
    "# **Q4 - One Hot Vector**"
   ]
  },
  {
   "cell_type": "markdown",
   "metadata": {},
   "source": [
    "**We have already done this step - manually - in the data pre-processing stage**"
   ]
  },
  {
   "cell_type": "code",
   "execution_count": 35,
   "metadata": {
    "collapsed": false,
    "jupyter": {
     "outputs_hidden": false
    },
    "pycharm": {
     "name": "#%%\n"
    }
   },
   "outputs": [
    {
     "name": "stdout",
     "output_type": "stream",
     "text": [
      "     Age  Gender  Increased Urination  Increased Thirst  Sudden Weight Loss  \\\n",
      "6     43       1                    0                 0                   0   \n",
      "404   38       1                    0                 0                   0   \n",
      "359   46       1                    0                 0                   0   \n",
      "322   52       1                    1                 1                   1   \n",
      "97    55       0                    1                 1                   1   \n",
      "..   ...     ...                  ...               ...                 ...   \n",
      "271   53       1                    0                 0                   0   \n",
      "147   39       0                    1                 1                   1   \n",
      "24    40       1                    0                 0                   0   \n",
      "269   35       1                    0                 0                   1   \n",
      "547   50       0                    0                 1                   0   \n",
      "\n",
      "     Weakness  Increased Hunger  Genital Thrush  Visual Blurring  Itching  \\\n",
      "6           1                 0               1                0        1   \n",
      "404         0                 0               0                0        0   \n",
      "359         1                 0               0                0        1   \n",
      "322         1                 1               0                1        1   \n",
      "97          0                 1               0                0        1   \n",
      "..        ...               ...             ...              ...      ...   \n",
      "271         1                 1               0                1        1   \n",
      "147         1                 1               0                0        1   \n",
      "24          1                 0               0                0        0   \n",
      "269         1                 0               1                0        0   \n",
      "547         1                 0               0                1        1   \n",
      "\n",
      "     Irritability  Delayed Healing  Partial Paresis  Muscle Stiffness  \\\n",
      "6               0                1                0                 0   \n",
      "404             0                0                0                 0   \n",
      "359             0                1                0                 0   \n",
      "322             0                1                1                 1   \n",
      "97              0                1                1                 0   \n",
      "..            ...              ...              ...               ...   \n",
      "271             0                1                1                 1   \n",
      "147             1                1                1                 0   \n",
      "24              1                0                0                 0   \n",
      "269             0                0                0                 0   \n",
      "547             0                1                0                 0   \n",
      "\n",
      "     Hair Loss  Obesity  Family History  \n",
      "6            1        0               1  \n",
      "404          0        0               1  \n",
      "359          1        0               0  \n",
      "322          0        0               0  \n",
      "97           0        0               0  \n",
      "..         ...      ...             ...  \n",
      "271          1        0               0  \n",
      "147          0        0               0  \n",
      "24           0        0               0  \n",
      "269          0        0               1  \n",
      "547          1        0               1  \n",
      "\n",
      "[452 rows x 17 columns]\n"
     ]
    }
   ],
   "source": [
    "# Encode y_train and y_test and\n",
    "\n",
    "from sklearn.preprocessing import OneHotEncoder\n",
    "\n",
    "\n",
    "encoder = OneHotEncoder(sparse=False)\n",
    "y_train_ohe = encoder.fit_transform(pd.DataFrame(y_train))\n",
    "y_test_ohe = encoder.fit_transform(pd.DataFrame(y_test))\n",
    "\n",
    "\n",
    "# transform data\n",
    "onehot = encoder.fit_transform(t1d_clean.drop(columns = ['Age']).drop(columns = ['Diagnosis']))\n",
    "ohv_df = pd.DataFrame(onehot)\n",
    "\n",
    "X_train_ohv, X_test_ohv, y_train_ohv, y_test_ohv = train_test_split(ohv_df, np.ravel(diagnosis), test_size=0.2,\n",
    "                                                        random_state=0, stratify=np.ravel(diagnosis))\n",
    "#print(X_train_ohv)\n",
    "print(X_train)\n",
    "\n",
    "X_train_ohv = X_train\n",
    "X_test_ohv = X_test\n",
    "y_train_ohv = y_train\n",
    "y_test_ohv = y_test"
   ]
  },
  {
   "cell_type": "markdown",
   "metadata": {},
   "source": [
    "Additional plots:"
   ]
  },
  {
   "cell_type": "code",
   "execution_count": 36,
   "metadata": {},
   "outputs": [],
   "source": [
    "from sklearn.model_selection import StratifiedKFold\n",
    "from sklearn.linear_model import LogisticRegression\n",
    "from sklearn.svm import NuSVC\n",
    "from sklearn.ensemble import RandomForestClassifier\n",
    "from sklearn.linear_model import SGDClassifier"
   ]
  },
  {
   "cell_type": "code",
   "execution_count": 37,
   "metadata": {},
   "outputs": [],
   "source": [
    "from sklearn.metrics import log_loss, roc_auc_score\n",
    "def cv_kfold(X, y, C, penalty, K):\n",
    "    \"\"\"   \n",
    "    :param X: Training set samples\n",
    "    :param y: Training set labels \n",
    "    :param C: A list of regularization parameters\n",
    "    :param penalty: A list of types of norm\n",
    "    :param K: Number of folds\n",
    "    :return: A dictionary as explained in the notebook\n",
    "    \"\"\"\n",
    "    kf = StratifiedKFold(n_splits=K)\n",
    "    validation_dict = []\n",
    "    for c in C:\n",
    "        for p in penalty:\n",
    "            logreg = LogisticRegression(solver='saga', penalty=p, C=c, max_iter=10000, multi_class='ovr')\n",
    "            loss_val_vec = np.zeros(K)\n",
    "            auc_vec = np.zeros(K)\n",
    "            score_vec = np.zeros(K)\n",
    "            k = 0\n",
    "            for train_idx, val_idx in kf.split(X, y):\n",
    "                x_train, x_val = X.iloc[train_idx], X.iloc[val_idx]\n",
    "                y_train, y_val = y[train_idx],y[val_idx]\n",
    "                y_pred,_=pred_log(logreg,x_train,y_train,x_val,flag = True)\n",
    "                loss_val_vec[k]=log_loss(y_val,y_pred)\n",
    "                auc_vec[k] = roc_auc_score(y_val, y_pred[:, 1])\n",
    "                score_vec[k] = logreg.score(x_val, y_val)\n",
    "                k=k+1\n",
    "            validation_dict.append({'C':c,'penalty':p,'Mu':np.mean(loss_val_vec),'Sigma':np.std(loss_val_vec), \n",
    "                                   'AUC':auc_vec.max(), 'Score':score_vec.max()})\n",
    "    return validation_dict\n",
    "\n",
    "\n",
    "def pred_log(logreg, X_train, y_train, X_test, flag=False):\n",
    "    \"\"\"\n",
    "    :param logreg: An object of the class LogisticRegression\n",
    "    :param X_train: Training set samples\n",
    "    :param y_train: Training set labels \n",
    "    :param X_test: Testing set samples\n",
    "    :param flag: A boolean determining whether to return the predicted he probabilities of the classes (relevant after Q11)\n",
    "    :return: A two elements tuple containing the predictions and the weightning matrix\n",
    "    \"\"\"\n",
    "    # ------------------ IMPLEMENT YOUR CODE HERE:-----------------------------\n",
    "    logreg.fit(X_train,y_train)\n",
    "    if flag==True:\n",
    "        y_pred_log = logreg.predict_proba(X_test)\n",
    "    else:\n",
    "        y_pred_log=logreg.predict(X_test)\n",
    "    w_log=logreg.coef_\n",
    "    # -------------------------------------------------------------------------\n",
    "    return y_pred_log, w_log"
   ]
  },
  {
   "cell_type": "code",
   "execution_count": 38,
   "metadata": {},
   "outputs": [],
   "source": [
    "def get_logreg_score(model, X_train_gs, X_test_gs, y_train_gs, y_test_gs):\n",
    "    model.fit(X_train_gs, y_train_gs)\n",
    "    scores = []\n",
    "    y_pred = model.predict(X_test_gs)    \n",
    "    scores.append(model.score(X_test_gs, y_test_gs))\n",
    "    scores.append(roc_auc_score(y_test_gs,y_pred))\n",
    "    scores.append(log_loss(y_test,y_pred))"
   ]
  },
  {
   "cell_type": "markdown",
   "metadata": {},
   "source": [
    "**Test and Fit the models**"
   ]
  },
  {
   "cell_type": "code",
   "execution_count": 39,
   "metadata": {},
   "outputs": [
    {
     "name": "stdout",
     "output_type": "stream",
     "text": [
      "         C penalty        Mu     Sigma       AUC     Score\n",
      "0     0.01      l1  0.667225  0.010342  0.714646  0.611111\n",
      "1     0.01      l2  0.485152  0.014136  0.974747  0.923077\n",
      "2     0.10      l1  0.317495  0.045153  0.986869  0.923077\n",
      "3     0.10      l2  0.296270  0.026425  0.980967  0.912088\n",
      "4     1.00      l1  0.220255  0.041645  0.989198  0.955556\n",
      "5     1.00      l2  0.225024  0.032167  0.985597  0.933333\n",
      "6     5.00      l1  0.216916  0.039447  0.988169  0.933333\n",
      "7     5.00      l2  0.217687  0.036550  0.985597  0.923077\n",
      "8    10.00      l1  0.216924  0.039169  0.986111  0.933333\n",
      "9    10.00      l2  0.217228  0.037611  0.986111  0.933333\n",
      "10  100.00      l1  0.217021  0.038952  0.986626  0.933333\n",
      "11  100.00      l2  0.217042  0.038784  0.986626  0.933333\n"
     ]
    }
   ],
   "source": [
    "C = np.array([0.01, 0.1, 1, 5, 10, 100]) \n",
    "K = 5  \n",
    "penalty = ['l1', 'l2']\n",
    "val_dict = cv_kfold(X_train_ohv, y_train_ohv, C=C, penalty=penalty, K=K)\n",
    "print(pd.DataFrame(val_dict))\n",
    "\n",
    "# Insert best parameters to get the best model:\n",
    "\n",
    "c = 1\n",
    "p = 'l1'\n",
    "lr_best_model = LogisticRegression(solver='saga', multi_class='ovr', penalty=p, C=c, max_iter=10000, random_state=10)\n",
    "y_pred_best, _ = pred_log(lr_best_model, X_train_ohv, y_train_ohv, X_test_ohv)\n",
    "y_pred_p_best, _ = pred_log(lr_best_model, X_train_ohv, y_train_ohv, X_test_ohv, flag=True)"
   ]
  },
  {
   "cell_type": "code",
   "execution_count": 42,
   "metadata": {},
   "outputs": [
    {
     "name": "stdout",
     "output_type": "stream",
     "text": [
      "Parameters to get best svm are: {'svm__C': 100, 'svm__gamma': 'auto', 'svm__kernel': 'rbf'}\n"
     ]
    }
   ],
   "source": [
    "from sklearn.pipeline import Pipeline\n",
    "from sklearn.preprocessing import StandardScaler\n",
    "from sklearn.model_selection import GridSearchCV\n",
    "from sklearn.svm import SVC\n",
    "\n",
    "n_splits = K\n",
    "skfold = StratifiedKFold(n_splits=n_splits, random_state=10, shuffle=True)\n",
    "svc_model = SVC(probability=True)\n",
    "C = np.array([1, 100, 1000])\n",
    "pipeline = Pipeline(steps=[('scale', StandardScaler()), ('svm', svc_model)])\n",
    "svm_nonlinear = GridSearchCV(estimator=pipeline, param_grid={'svm__C': C, 'svm__kernel': ['rbf', 'poly'],\n",
    "                        'svm__gamma': ['auto', 'scale']}, scoring=['roc_auc'],\n",
    "                        cv=skfold, refit='roc_auc', verbose=0, return_train_score=True)\n",
    "svm_nonlinear.fit(X_train_ohv, y_train_ohv)\n",
    "\n",
    "best_svm_nonlin = svm_nonlinear.best_estimator_\n",
    "print('Parameters to get best svm are:', svm_nonlinear.best_params_)"
   ]
  },
  {
   "cell_type": "code",
   "execution_count": 43,
   "metadata": {},
   "outputs": [
    {
     "data": {
      "image/png": "[encoded data removed]",
      "text/plain": [
       "<Figure size 432x288 with 2 Axes>"
      ]
     },
     "metadata": {},
     "output_type": "display_data"
    },
    {
     "data": {
      "image/png": "[encoded data removed]",
      "text/plain": [
       "<Figure size 432x288 with 2 Axes>"
      ]
     },
     "metadata": {},
     "output_type": "display_data"
    }
   ],
   "source": [
    "from sklearn.metrics import plot_confusion_matrix\n",
    "\n",
    "\n",
    "disp_lr = plot_confusion_matrix(lr_best_model, X_test_ohv, y_test_ohv,\n",
    "                                 display_labels=['Negative', 'Positive'],\n",
    "                                 cmap=plt.cm.Blues)\n",
    "disp_lr.ax_.set_title(\"Confusion Matrix - Logistic Regression\")\n",
    "\n",
    "disp_svm = plot_confusion_matrix(best_svm_nonlin, X_test_ohv, y_test_ohv,\n",
    "                                 display_labels=['Negative', 'Positive'],\n",
    "                                 cmap=plt.cm.Blues)\n",
    "disp_svm.ax_.set_title(\"Confusion Matrix - Non-linear SVM\")\n",
    "\n",
    "plt.show()"
   ]
  },
  {
   "cell_type": "markdown",
   "metadata": {},
   "source": [
    "# Q5 part b\n",
    "\n",
    "Plot statistics for all algorithms:"
   ]
  },
  {
   "cell_type": "code",
   "execution_count": 44,
   "metadata": {},
   "outputs": [],
   "source": [
    "# function that prints different parameters to evaluate the model \n",
    "def parameter_evaluation(y_test,y_train,y_test_pred,y_train_pred):\n",
    "    print('Test set results:')\n",
    "    print(\"Accuracy is: \" + str(\"{0:.2f}\".format(100 * metrics.accuracy_score(y_test, y_test_pred))) + \"%\")\n",
    "    print(\"Precision is: \" + str(\"{0:.2f}\".format(100 * metrics.precision_score(y_test, y_test_pred))) + \"%\")\n",
    "    print(\"recall is: \" + str(\"{0:.2f}\".format(100 * metrics.recall_score(y_test, y_test_pred))) + \"%\")\n",
    "    print(\"F1 score is: \" + str(\"{0:.2f}\".format(100 * metrics.f1_score(y_test, y_test_pred, average='macro'))) + \"%\")\n",
    "    print(\"AUC is: \" + str(\"{0:.2f}\".format(100 * metrics.roc_auc_score(y_test,y_test_pred))) + \"%\"+'\\n')\n",
    "    print('Train set results:')\n",
    "    print(\"Train accuracy is: \" + str(\"{0:.2f}\".format(100 * metrics.accuracy_score(y_train, y_train_pred))) + \"%\")\n",
    "    print(\"Train precision is: \" + str(\"{0:.2f}\".format(100 * metrics.precision_score(y_train, y_train_pred))) + \"%\")\n",
    "    print(\"Train recall is: \" + str(\"{0:.2f}\".format(100 * metrics.recall_score(y_train, y_train_pred))) + \"%\")\n",
    "    print(\"Train F1 score is: \" + str(\"{0:.2f}\".format(100 * metrics.f1_score(y_train, y_train_pred, average='macro'))) + \"%\")\n",
    "    print(\"Train AUC is: \" + str(\"{0:.2f}\".format(100 * metrics.roc_auc_score(y_train,y_train_pred))) + \"%\")"
   ]
  },
  {
   "cell_type": "code",
   "execution_count": 48,
   "metadata": {},
   "outputs": [
    {
     "data": {
      "image/png": "[encoded data removed]",
      "text/plain": [
       "<Figure size 500x500 with 1 Axes>"
      ]
     },
     "metadata": {},
     "output_type": "display_data"
    },
    {
     "name": "stdout",
     "output_type": "stream",
     "text": [
      "Logistic Regression Results:\n",
      "Test set results:\n",
      "Accuracy is: 87.61%\n",
      "Precision is: 87.67%\n",
      "recall is: 92.75%\n",
      "F1 score is: 86.74%\n",
      "AUC is: 86.15%\n",
      "\n",
      "Train set results:\n",
      "Train accuracy is: 91.37%\n",
      "Train precision is: 92.11%\n",
      "Train recall is: 93.80%\n",
      "Train F1 score is: 90.92%\n",
      "Train AUC is: 90.72%\n",
      "\n",
      "SVM Results:\n",
      "Test set results:\n",
      "Accuracy is: 95.58%\n",
      "Precision is: 95.71%\n",
      "recall is: 97.10%\n",
      "F1 score is: 95.33%\n",
      "AUC is: 95.14%\n",
      "\n",
      "Train set results:\n",
      "Train accuracy is: 99.56%\n",
      "Train precision is: 99.28%\n",
      "Train recall is: 100.00%\n",
      "Train F1 score is: 99.54%\n",
      "Train AUC is: 99.44%\n"
     ]
    }
   ],
   "source": [
    "from sklearn.metrics import roc_curve, auc\n",
    "from sklearn.metrics import f1_score, precision_score, recall_score, confusion_matrix\n",
    "# lr = Logistic Regression\n",
    "# svm = Support Vector Machine\n",
    "model_lr = lr_best_model\n",
    "model_svm = best_svm_nonlin\n",
    "y_pred_lr = model_lr.decision_function(X_test_ohv)\n",
    "lr_fpr, lr_tpr, threshold = roc_curve(y_test_ohv, y_pred_lr)\n",
    "auc_lr = auc(lr_fpr, lr_tpr)\n",
    "\n",
    "y_pred_svm = model_svm.decision_function(X_test_ohv)\n",
    "svm_fpr, svm_tpr, threshold = roc_curve(y_test_ohv, y_pred_svm)\n",
    "auc_svm = auc(svm_fpr, svm_tpr)\n",
    "\n",
    "plt.figure(figsize = (5,5), dpi = 100)\n",
    "plt.plot(svm_fpr, svm_tpr, linestyle = '-', label = 'SVM (auc=%0.3f)' %auc_svm)\n",
    "plt.plot(lr_fpr, lr_tpr,marker='.' ,label = 'Logistic Reg (auc=%0.3f)' %auc_lr)\n",
    "plt.xlabel('False Positive Rate -->')\n",
    "plt.ylabel('True Positive Rate -->')\n",
    "plt.legend()\n",
    "plt.show()\n",
    "\n",
    "print('Logistic Regression Results:')\n",
    "y_pred_lr_train = (model_lr.predict(X_train_ohv)>0.5).astype(\"int32\")\n",
    "y_pred_lr_test = (model_lr.predict(X_test_ohv)>0.5).astype(\"int32\")\n",
    "parameter_evaluation(y_test_ohv,y_train_ohv,y_pred_lr_test,y_pred_lr_train)\n",
    "\n",
    "print()\n",
    "print('SVM Results:')\n",
    "y_pred_svm_train = (model_svm.predict(X_train_ohv)>0.5).astype(\"int32\")\n",
    "y_pred_svm_test = (model_svm.predict(X_test_ohv)>0.5).astype(\"int32\")\n",
    "parameter_evaluation(y_test_ohv,y_train_ohv,y_pred_svm_test,y_pred_svm_train)"
   ]
  },
  {
   "cell_type": "markdown",
   "metadata": {},
   "source": [
    "# **Q6 - Feature importance**"
   ]
  },
  {
   "cell_type": "code",
   "execution_count": 71,
   "metadata": {},
   "outputs": [
    {
     "name": "stdout",
     "output_type": "stream",
     "text": [
      "Feature: 0, Score: 0.10248\n",
      "Feature: 1, Score: 0.10582\n",
      "Feature: 2, Score: 0.26730\n",
      "Feature: 3, Score: 0.12113\n",
      "Feature: 4, Score: 0.04405\n",
      "Feature: 5, Score: 0.02519\n",
      "Feature: 6, Score: 0.02143\n",
      "Feature: 7, Score: 0.02116\n",
      "Feature: 8, Score: 0.02938\n",
      "Feature: 9, Score: 0.03086\n",
      "Feature: 10, Score: 0.03992\n",
      "Feature: 11, Score: 0.03630\n",
      "Feature: 12, Score: 0.06365\n",
      "Feature: 13, Score: 0.01991\n",
      "Feature: 14, Score: 0.03969\n",
      "Feature: 15, Score: 0.02323\n",
      "Feature: 16, Score: 0.00850\n"
     ]
    },
    {
     "data": {
      "image/png": "[encoded data removed]",
      "text/plain": [
       "<Figure size 432x288 with 1 Axes>"
      ]
     },
     "metadata": {},
     "output_type": "display_data"
    },
    {
     "name": "stdout",
     "output_type": "stream",
     "text": [
      "     Age  Gender  Increased Urination  Increased Thirst  Sudden Weight Loss  \\\n",
      "6     43       1                    0                 0                   0   \n",
      "404   38       1                    0                 0                   0   \n",
      "359   46       1                    0                 0                   0   \n",
      "322   52       1                    1                 1                   1   \n",
      "97    55       0                    1                 1                   1   \n",
      "..   ...     ...                  ...               ...                 ...   \n",
      "271   53       1                    0                 0                   0   \n",
      "147   39       0                    1                 1                   1   \n",
      "24    40       1                    0                 0                   0   \n",
      "269   35       1                    0                 0                   1   \n",
      "547   50       0                    0                 1                   0   \n",
      "\n",
      "     Weakness  Increased Hunger  Genital Thrush  Visual Blurring  Itching  \\\n",
      "6           1                 0               1                0        1   \n",
      "404         0                 0               0                0        0   \n",
      "359         1                 0               0                0        1   \n",
      "322         1                 1               0                1        1   \n",
      "97          0                 1               0                0        1   \n",
      "..        ...               ...             ...              ...      ...   \n",
      "271         1                 1               0                1        1   \n",
      "147         1                 1               0                0        1   \n",
      "24          1                 0               0                0        0   \n",
      "269         1                 0               1                0        0   \n",
      "547         1                 0               0                1        1   \n",
      "\n",
      "     Irritability  Delayed Healing  Partial Paresis  Muscle Stiffness  \\\n",
      "6               0                1                0                 0   \n",
      "404             0                0                0                 0   \n",
      "359             0                1                0                 0   \n",
      "322             0                1                1                 1   \n",
      "97              0                1                1                 0   \n",
      "..            ...              ...              ...               ...   \n",
      "271             0                1                1                 1   \n",
      "147             1                1                1                 0   \n",
      "24              1                0                0                 0   \n",
      "269             0                0                0                 0   \n",
      "547             0                1                0                 0   \n",
      "\n",
      "     Hair Loss  Obesity  Family History  \n",
      "6            1        0               1  \n",
      "404          0        0               1  \n",
      "359          1        0               0  \n",
      "322          0        0               0  \n",
      "97           0        0               0  \n",
      "..         ...      ...             ...  \n",
      "271          1        0               0  \n",
      "147          0        0               0  \n",
      "24           0        0               0  \n",
      "269          0        0               1  \n",
      "547          1        0               1  \n",
      "\n",
      "[452 rows x 17 columns]\n"
     ]
    }
   ],
   "source": [
    "from sklearn.ensemble import RandomForestClassifier\n",
    "model_rf = RandomForestClassifier()\n",
    "model_rf.fit(X_train,y_train)\n",
    "# get importance\n",
    "importance = model_rf.feature_importances_\n",
    "# summarize feature importance\n",
    "for i,v in enumerate(importance):\n",
    " \tprint('Feature: %0d, Score: %.5f' % (i,v))\n",
    "# plot feature importance\n",
    "labels = ['Age','Gender_M', 'Increased Urination_T', 'Increased Thirst_T',\n",
    "       'Sudden Weight Loss_T', 'Weakness_T',\n",
    "        'Increased Hunger_T','Genital Thrush_T', 'Visual Blurring_T',  \n",
    "        'Itching_T', 'Irritability_T','Delayed Healing_T',\n",
    "        'Partial Paresis_T', 'Muscle Stiffness_T', 'Hair Loss_T',\n",
    "        'Obesity_T','Family History_T']\n",
    "t= np.arange(0,17)\n",
    "plt.bar([x for x in range(len(importance))], importance)\n",
    "plt.xticks(t,labels, rotation='vertical')\n",
    "plt.show()\n",
    "print(X_train_ohv)"
   ]
  },
  {
   "cell_type": "code",
   "execution_count": null,
   "metadata": {},
   "outputs": [],
   "source": []
  }
 ],
 "metadata": {
  "kernelspec": {
   "display_name": "Python 3",
   "language": "python",
   "name": "python3"
  },
  "language_info": {
   "codemirror_mode": {
    "name": "ipython",
    "version": 3
   },
   "file_extension": ".py",
   "mimetype": "text/x-python",
   "name": "python",
   "nbconvert_exporter": "python",
   "pygments_lexer": "ipython3",
   "version": "3.7.9"
  }
 },
 "nbformat": 4,
 "nbformat_minor": 4
}
