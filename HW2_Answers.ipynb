{
 "cells": [
  {
   "cell_type": "markdown",
   "metadata": {},
   "source": [
    "***HW2 - Detecting Type 1 Diabetes***"
   ]
  },
  {
   "cell_type": "markdown",
   "metadata": {},
   "source": [
    "# Theory Assignment"
   ]
  },
  {
   "cell_type": "markdown",
   "metadata": {},
   "source": [
    "**A1**\n",
    "\n",
    "For our opinion, when it comes to healthcare ML algorithms, Accuracy is more important than performance.\n",
    "Because we're speaking on human lives, it is better to be more precise than, for example, when estimating house value.\n",
    "\n",
    "האם התכוונו כאן לביצועיות של המודל? כלומר למהירות בה הוא מגיע לתוצאות?"
   ]
  },
  {
   "cell_type": "markdown",
   "metadata": {},
   "source": [
    "**A2**\n",
    "\n",
    "Too many features is often a bad thing. It may lead to Overfitting, meaning that the fitting of your parameters is too tightly to the training data. This results in model discovering random noise in the finite training set instead of the wider relationship between the features and the output variable. Consequently, the model will often perform very well on the training data but perform quite poorly on the test data.\n",
    "In conclusion, overfitting may be done due to choosing all features, especially whenn taking irrelevant feature like income.\n",
    "\n",
    "On the other hand, choosing only 2 features for such complex problem may cause under-fitting. meaning that both training accuracy and testing accuracy will be poor.\n"
   ]
  },
  {
   "cell_type": "markdown",
   "metadata": {},
   "source": [
    "# Coding Assignment:"
   ]
  },
  {
   "cell_type": "markdown",
   "metadata": {},
   "source": [
    "Import and load packages:"
   ]
  },
  {
   "cell_type": "code",
   "execution_count": 1,
   "metadata": {},
   "outputs": [],
   "source": [
    "import pandas as pd \n",
    "import numpy as np\n",
    "from pathlib import Path\n",
    "import random\n",
    "import distutils\n",
    "from Additional_functions import *\n",
    "from sklearn import metrics\n",
    "from sklearn.model_selection import train_test_split\n",
    "import matplotlib.pyplot as plt"
   ]
  },
  {
   "cell_type": "markdown",
   "metadata": {},
   "source": [
    "# **Q1 - Data loading and preprocessing:**"
   ]
  },
  {
   "cell_type": "code",
   "execution_count": 2,
   "metadata": {},
   "outputs": [],
   "source": [
    "def nan2num(dataframe):\n",
    "    \"\"\"\n",
    "    :param dataframe: Pandas series of features\n",
    "    :return: A pandas dataframe of the dictionary c_cdf containing the \"clean\" features\n",
    "    \"\"\"\n",
    "    # dataframe = pd.DataFrame(dataframe).drop(extra_feature, 1)\n",
    "    c_cdf = {}\n",
    "    c_cdf = dataframe\n",
    "    for column in dataframe.columns:\n",
    "        if column == 'Age':\n",
    "            i=0\n",
    "        else:\n",
    "            replacing_value = np.random.choice(dataframe[column])\n",
    "            c_cdf[column].replace(to_replace= np.nan , value=replacing_value, inplace = True)\n",
    "    return pd.DataFrame(c_cdf)\n",
    "\n",
    "def str_to_bool_series(s):\n",
    "    for index, value in s.items():\n",
    "        if(value=='Yes'):\n",
    "            s[index] = True\n",
    "        elif(value=='No'):\n",
    "            s[index] = False\n",
    "        elif(value=='Male'):\n",
    "            s[index] = True\n",
    "        elif(value == 'Female'):\n",
    "            s[index] = False\n",
    "        elif(value=='Positive'):\n",
    "            s[index] = True\n",
    "        elif (value == 'Negative'):\n",
    "            s[index] = False\n",
    "#         elif(value==1):\n",
    "#             s[index] = True\n",
    "#         elif(value==0):\n",
    "#             s[index] = False\n",
    "    return s"
   ]
  },
  {
   "cell_type": "code",
   "execution_count": 3,
   "metadata": {},
   "outputs": [],
   "source": [
    "df = pd.read_csv('HW2_data.csv')"
   ]
  },
  {
   "cell_type": "code",
   "execution_count": 4,
   "metadata": {},
   "outputs": [
    {
     "name": "stderr",
     "output_type": "stream",
     "text": [
      "C:\\Users\\ofeka\\anaconda3\\envs\\bm-336546\\lib\\site-packages\\ipykernel_launcher.py:24: SettingWithCopyWarning: \n",
      "A value is trying to be set on a copy of a slice from a DataFrame\n",
      "\n",
      "See the caveats in the documentation: https://pandas.pydata.org/pandas-docs/stable/user_guide/indexing.html#returning-a-view-versus-a-copy\n",
      "C:\\Users\\ofeka\\anaconda3\\envs\\bm-336546\\lib\\site-packages\\ipykernel_launcher.py:26: SettingWithCopyWarning: \n",
      "A value is trying to be set on a copy of a slice from a DataFrame\n",
      "\n",
      "See the caveats in the documentation: https://pandas.pydata.org/pandas-docs/stable/user_guide/indexing.html#returning-a-view-versus-a-copy\n",
      "C:\\Users\\ofeka\\anaconda3\\envs\\bm-336546\\lib\\site-packages\\ipykernel_launcher.py:22: SettingWithCopyWarning: \n",
      "A value is trying to be set on a copy of a slice from a DataFrame\n",
      "\n",
      "See the caveats in the documentation: https://pandas.pydata.org/pandas-docs/stable/user_guide/indexing.html#returning-a-view-versus-a-copy\n",
      "C:\\Users\\ofeka\\anaconda3\\envs\\bm-336546\\lib\\site-packages\\ipykernel_launcher.py:20: SettingWithCopyWarning: \n",
      "A value is trying to be set on a copy of a slice from a DataFrame\n",
      "\n",
      "See the caveats in the documentation: https://pandas.pydata.org/pandas-docs/stable/user_guide/indexing.html#returning-a-view-versus-a-copy\n",
      "C:\\Users\\ofeka\\anaconda3\\envs\\bm-336546\\lib\\site-packages\\ipykernel_launcher.py:30: SettingWithCopyWarning: \n",
      "A value is trying to be set on a copy of a slice from a DataFrame\n",
      "\n",
      "See the caveats in the documentation: https://pandas.pydata.org/pandas-docs/stable/user_guide/indexing.html#returning-a-view-versus-a-copy\n",
      "C:\\Users\\ofeka\\anaconda3\\envs\\bm-336546\\lib\\site-packages\\ipykernel_launcher.py:28: SettingWithCopyWarning: \n",
      "A value is trying to be set on a copy of a slice from a DataFrame\n",
      "\n",
      "See the caveats in the documentation: https://pandas.pydata.org/pandas-docs/stable/user_guide/indexing.html#returning-a-view-versus-a-copy\n"
     ]
    },
    {
     "data": {
      "text/html": [
       "<div>\n",
       "<style scoped>\n",
       "    .dataframe tbody tr th:only-of-type {\n",
       "        vertical-align: middle;\n",
       "    }\n",
       "\n",
       "    .dataframe tbody tr th {\n",
       "        vertical-align: top;\n",
       "    }\n",
       "\n",
       "    .dataframe thead th {\n",
       "        text-align: right;\n",
       "    }\n",
       "</style>\n",
       "<table border=\"1\" class=\"dataframe\">\n",
       "  <thead>\n",
       "    <tr style=\"text-align: right;\">\n",
       "      <th></th>\n",
       "      <th>Age</th>\n",
       "      <th>Gender</th>\n",
       "      <th>Increased Urination</th>\n",
       "      <th>Increased Thirst</th>\n",
       "      <th>Sudden Weight Loss</th>\n",
       "      <th>Weakness</th>\n",
       "      <th>Increased Hunger</th>\n",
       "      <th>Genital Thrush</th>\n",
       "      <th>Visual Blurring</th>\n",
       "      <th>Itching</th>\n",
       "      <th>Irritability</th>\n",
       "      <th>Delayed Healing</th>\n",
       "      <th>Partial Paresis</th>\n",
       "      <th>Muscle Stiffness</th>\n",
       "      <th>Hair Loss</th>\n",
       "      <th>Obesity</th>\n",
       "      <th>Diagnosis</th>\n",
       "      <th>Family History</th>\n",
       "    </tr>\n",
       "  </thead>\n",
       "  <tbody>\n",
       "    <tr>\n",
       "      <th>560</th>\n",
       "      <td>54</td>\n",
       "      <td>True</td>\n",
       "      <td>True</td>\n",
       "      <td>True</td>\n",
       "      <td>True</td>\n",
       "      <td>True</td>\n",
       "      <td>False</td>\n",
       "      <td>NaN</td>\n",
       "      <td>True</td>\n",
       "      <td>True</td>\n",
       "      <td>True</td>\n",
       "      <td>True</td>\n",
       "      <td>True</td>\n",
       "      <td>True</td>\n",
       "      <td>False</td>\n",
       "      <td>False</td>\n",
       "      <td>True</td>\n",
       "      <td>0</td>\n",
       "    </tr>\n",
       "    <tr>\n",
       "      <th>561</th>\n",
       "      <td>32</td>\n",
       "      <td>True</td>\n",
       "      <td>False</td>\n",
       "      <td>False</td>\n",
       "      <td>False</td>\n",
       "      <td>False</td>\n",
       "      <td>False</td>\n",
       "      <td>NaN</td>\n",
       "      <td>False</td>\n",
       "      <td>False</td>\n",
       "      <td>True</td>\n",
       "      <td>True</td>\n",
       "      <td>False</td>\n",
       "      <td>False</td>\n",
       "      <td>False</td>\n",
       "      <td>True</td>\n",
       "      <td>True</td>\n",
       "      <td>0</td>\n",
       "    </tr>\n",
       "    <tr>\n",
       "      <th>562</th>\n",
       "      <td>61</td>\n",
       "      <td>False</td>\n",
       "      <td>True</td>\n",
       "      <td>False</td>\n",
       "      <td>False</td>\n",
       "      <td>False</td>\n",
       "      <td>True</td>\n",
       "      <td>False</td>\n",
       "      <td>False</td>\n",
       "      <td>False</td>\n",
       "      <td>True</td>\n",
       "      <td>False</td>\n",
       "      <td>False</td>\n",
       "      <td>False</td>\n",
       "      <td>True</td>\n",
       "      <td>False</td>\n",
       "      <td>True</td>\n",
       "      <td>1</td>\n",
       "    </tr>\n",
       "    <tr>\n",
       "      <th>563</th>\n",
       "      <td>46</td>\n",
       "      <td>True</td>\n",
       "      <td>False</td>\n",
       "      <td>False</td>\n",
       "      <td>False</td>\n",
       "      <td>True</td>\n",
       "      <td>False</td>\n",
       "      <td>False</td>\n",
       "      <td>False</td>\n",
       "      <td>True</td>\n",
       "      <td>False</td>\n",
       "      <td>True</td>\n",
       "      <td>False</td>\n",
       "      <td>False</td>\n",
       "      <td>True</td>\n",
       "      <td>False</td>\n",
       "      <td>False</td>\n",
       "      <td>0</td>\n",
       "    </tr>\n",
       "    <tr>\n",
       "      <th>564</th>\n",
       "      <td>37</td>\n",
       "      <td>True</td>\n",
       "      <td>False</td>\n",
       "      <td>False</td>\n",
       "      <td>False</td>\n",
       "      <td>False</td>\n",
       "      <td>False</td>\n",
       "      <td>False</td>\n",
       "      <td>False</td>\n",
       "      <td>False</td>\n",
       "      <td>False</td>\n",
       "      <td>False</td>\n",
       "      <td>False</td>\n",
       "      <td>False</td>\n",
       "      <td>False</td>\n",
       "      <td>False</td>\n",
       "      <td>False</td>\n",
       "      <td>0</td>\n",
       "    </tr>\n",
       "  </tbody>\n",
       "</table>\n",
       "</div>"
      ],
      "text/plain": [
       "     Age Gender Increased Urination Increased Thirst Sudden Weight Loss  \\\n",
       "560   54   True                True             True               True   \n",
       "561   32   True               False            False              False   \n",
       "562   61  False                True            False              False   \n",
       "563   46   True               False            False              False   \n",
       "564   37   True               False            False              False   \n",
       "\n",
       "    Weakness Increased Hunger Genital Thrush Visual Blurring Itching  \\\n",
       "560     True            False            NaN            True    True   \n",
       "561    False            False            NaN           False   False   \n",
       "562    False             True          False           False   False   \n",
       "563     True            False          False           False    True   \n",
       "564    False            False          False           False   False   \n",
       "\n",
       "    Irritability Delayed Healing Partial Paresis Muscle Stiffness Hair Loss  \\\n",
       "560         True            True            True             True     False   \n",
       "561         True            True           False            False     False   \n",
       "562         True           False           False            False      True   \n",
       "563        False            True           False            False      True   \n",
       "564        False           False           False            False     False   \n",
       "\n",
       "    Obesity Diagnosis  Family History  \n",
       "560   False      True               0  \n",
       "561    True      True               0  \n",
       "562   False      True               1  \n",
       "563   False     False               0  \n",
       "564   False     False               0  "
      ]
     },
     "execution_count": 4,
     "metadata": {},
     "output_type": "execute_result"
    }
   ],
   "source": [
    "for column in df.columns:\n",
    "    str_to_bool_series(df[column])\n",
    "df.tail()"
   ]
  },
  {
   "cell_type": "code",
   "execution_count": 5,
   "metadata": {},
   "outputs": [
    {
     "data": {
      "text/html": [
       "<div>\n",
       "<style scoped>\n",
       "    .dataframe tbody tr th:only-of-type {\n",
       "        vertical-align: middle;\n",
       "    }\n",
       "\n",
       "    .dataframe tbody tr th {\n",
       "        vertical-align: top;\n",
       "    }\n",
       "\n",
       "    .dataframe thead th {\n",
       "        text-align: right;\n",
       "    }\n",
       "</style>\n",
       "<table border=\"1\" class=\"dataframe\">\n",
       "  <thead>\n",
       "    <tr style=\"text-align: right;\">\n",
       "      <th></th>\n",
       "      <th>Age</th>\n",
       "      <th>Gender</th>\n",
       "      <th>Increased Urination</th>\n",
       "      <th>Increased Thirst</th>\n",
       "      <th>Sudden Weight Loss</th>\n",
       "      <th>Weakness</th>\n",
       "      <th>Increased Hunger</th>\n",
       "      <th>Genital Thrush</th>\n",
       "      <th>Visual Blurring</th>\n",
       "      <th>Itching</th>\n",
       "      <th>Irritability</th>\n",
       "      <th>Delayed Healing</th>\n",
       "      <th>Partial Paresis</th>\n",
       "      <th>Muscle Stiffness</th>\n",
       "      <th>Hair Loss</th>\n",
       "      <th>Obesity</th>\n",
       "      <th>Diagnosis</th>\n",
       "      <th>Family History</th>\n",
       "    </tr>\n",
       "  </thead>\n",
       "  <tbody>\n",
       "    <tr>\n",
       "      <th>560</th>\n",
       "      <td>54</td>\n",
       "      <td>True</td>\n",
       "      <td>True</td>\n",
       "      <td>True</td>\n",
       "      <td>True</td>\n",
       "      <td>True</td>\n",
       "      <td>False</td>\n",
       "      <td>False</td>\n",
       "      <td>True</td>\n",
       "      <td>True</td>\n",
       "      <td>True</td>\n",
       "      <td>True</td>\n",
       "      <td>True</td>\n",
       "      <td>True</td>\n",
       "      <td>False</td>\n",
       "      <td>False</td>\n",
       "      <td>True</td>\n",
       "      <td>0</td>\n",
       "    </tr>\n",
       "    <tr>\n",
       "      <th>561</th>\n",
       "      <td>32</td>\n",
       "      <td>True</td>\n",
       "      <td>False</td>\n",
       "      <td>False</td>\n",
       "      <td>False</td>\n",
       "      <td>False</td>\n",
       "      <td>False</td>\n",
       "      <td>False</td>\n",
       "      <td>False</td>\n",
       "      <td>False</td>\n",
       "      <td>True</td>\n",
       "      <td>True</td>\n",
       "      <td>False</td>\n",
       "      <td>False</td>\n",
       "      <td>False</td>\n",
       "      <td>True</td>\n",
       "      <td>True</td>\n",
       "      <td>0</td>\n",
       "    </tr>\n",
       "    <tr>\n",
       "      <th>562</th>\n",
       "      <td>61</td>\n",
       "      <td>False</td>\n",
       "      <td>True</td>\n",
       "      <td>False</td>\n",
       "      <td>False</td>\n",
       "      <td>False</td>\n",
       "      <td>True</td>\n",
       "      <td>False</td>\n",
       "      <td>False</td>\n",
       "      <td>False</td>\n",
       "      <td>True</td>\n",
       "      <td>False</td>\n",
       "      <td>False</td>\n",
       "      <td>False</td>\n",
       "      <td>True</td>\n",
       "      <td>False</td>\n",
       "      <td>True</td>\n",
       "      <td>1</td>\n",
       "    </tr>\n",
       "    <tr>\n",
       "      <th>563</th>\n",
       "      <td>46</td>\n",
       "      <td>True</td>\n",
       "      <td>False</td>\n",
       "      <td>False</td>\n",
       "      <td>False</td>\n",
       "      <td>True</td>\n",
       "      <td>False</td>\n",
       "      <td>False</td>\n",
       "      <td>False</td>\n",
       "      <td>True</td>\n",
       "      <td>False</td>\n",
       "      <td>True</td>\n",
       "      <td>False</td>\n",
       "      <td>False</td>\n",
       "      <td>True</td>\n",
       "      <td>False</td>\n",
       "      <td>False</td>\n",
       "      <td>0</td>\n",
       "    </tr>\n",
       "    <tr>\n",
       "      <th>564</th>\n",
       "      <td>37</td>\n",
       "      <td>True</td>\n",
       "      <td>False</td>\n",
       "      <td>False</td>\n",
       "      <td>False</td>\n",
       "      <td>False</td>\n",
       "      <td>False</td>\n",
       "      <td>False</td>\n",
       "      <td>False</td>\n",
       "      <td>False</td>\n",
       "      <td>False</td>\n",
       "      <td>False</td>\n",
       "      <td>False</td>\n",
       "      <td>False</td>\n",
       "      <td>False</td>\n",
       "      <td>False</td>\n",
       "      <td>False</td>\n",
       "      <td>0</td>\n",
       "    </tr>\n",
       "  </tbody>\n",
       "</table>\n",
       "</div>"
      ],
      "text/plain": [
       "     Age  Gender  Increased Urination  Increased Thirst  Sudden Weight Loss  \\\n",
       "560   54    True                 True              True                True   \n",
       "561   32    True                False             False               False   \n",
       "562   61   False                 True             False               False   \n",
       "563   46    True                False             False               False   \n",
       "564   37    True                False             False               False   \n",
       "\n",
       "     Weakness  Increased Hunger  Genital Thrush  Visual Blurring  Itching  \\\n",
       "560      True             False           False             True     True   \n",
       "561     False             False           False            False    False   \n",
       "562     False              True           False            False    False   \n",
       "563      True             False           False            False     True   \n",
       "564     False             False           False            False    False   \n",
       "\n",
       "     Irritability  Delayed Healing  Partial Paresis  Muscle Stiffness  \\\n",
       "560          True             True             True              True   \n",
       "561          True             True            False             False   \n",
       "562          True            False            False             False   \n",
       "563         False             True            False             False   \n",
       "564         False            False            False             False   \n",
       "\n",
       "     Hair Loss  Obesity  Diagnosis  Family History  \n",
       "560      False    False       True               0  \n",
       "561      False     True       True               0  \n",
       "562       True    False       True               1  \n",
       "563       True    False      False               0  \n",
       "564      False    False      False               0  "
      ]
     },
     "execution_count": 5,
     "metadata": {},
     "output_type": "execute_result"
    }
   ],
   "source": [
    "t1d_clean = nan2num(df)\n",
    "\n",
    "#df.fillna(value = False, inplace = True)\n",
    "t1d_clean.tail()\n"
   ]
  },
  {
   "cell_type": "markdown",
   "metadata": {
    "pycharm": {
     "name": "#%% md\n"
    }
   },
   "source": [
    "# **Q2 -  Split the data into Test Train 20%**"
   ]
  },
  {
   "cell_type": "code",
   "execution_count": 6,
   "metadata": {
    "collapsed": false,
    "jupyter": {
     "outputs_hidden": false
    },
    "pycharm": {
     "name": "#%%\n"
    }
   },
   "outputs": [],
   "source": [
    "diagnosis = t1d_clean['Diagnosis']\n",
    "\n",
    "\n",
    "X_train, X_test, y_train, y_test = train_test_split(t1d_clean, np.ravel(diagnosis), test_size=0.2,\n",
    "                                                        random_state=0, stratify=np.ravel(diagnosis))"
   ]
  },
  {
   "cell_type": "markdown",
   "metadata": {},
   "source": [
    "# **Q3 - Visualization and exploration of the data**\n",
    "\n"
   ]
  },
  {
   "cell_type": "markdown",
   "metadata": {},
   "source": [
    "# Distribution of the features:"
   ]
  },
  {
   "cell_type": "code",
   "execution_count": 7,
   "metadata": {
    "collapsed": false,
    "jupyter": {
     "outputs_hidden": false
    },
    "pycharm": {
     "name": "#%%\n"
    }
   },
   "outputs": [
    {
     "name": "stdout",
     "output_type": "stream",
     "text": [
      "Feature            | Train % | Test % | Difference\n",
      "Age                  48.18     48.12     0.06     \n",
      "Gender               63.94     62.83     1.11\n",
      "Increased Urination  48.23     48.67     -0.44\n",
      "Increased Thirst     44.03     38.05     5.98\n",
      "Sudden Weight Loss   40.93     46.02     -5.09\n",
      "Weakness             56.42     60.18     -3.76\n",
      "Increased Hunger     46.46     43.36     3.1\n",
      "Genital Thrush       20.58     25.66     -5.08\n",
      "Visual Blurring      45.8      41.59     4.21\n",
      "Itching              48.23     44.25     3.98\n",
      "Irritability         23.01     25.66     -2.65\n",
      "Delayed Healing      46.9      43.36     3.54\n",
      "Partial Paresis      42.7      42.48     0.22\n",
      "Muscle Stiffness     38.27     38.94     -0.67\n",
      "Hair Loss            34.29     41.59     -7.3\n",
      "Obesity              17.48     14.16     3.32\n",
      "Diagnosis            60.62     61.06     -0.44\n",
      "Family History       50.22     52.21     -1.99\n"
     ]
    }
   ],
   "source": [
    "def print_dist_features(df, x_train, x_test):\n",
    "    print(\"Feature            | Train % | Test % | Difference\")\n",
    "    for column in df:\n",
    "        if(column=='Age'):\n",
    "            age_mean_train = round(x_train[column].mean(),2)\n",
    "            print(column ,end =  \" \"*(21-len(column))) \n",
    "            print(age_mean_train, end = \" \"*(5))\n",
    "            age_mean_test = round(X_test[column].mean(),2)\n",
    "            print(age_mean_test, end = \" \"*(5))\n",
    "            difference = round(age_mean_train-age_mean_test,2)\n",
    "            print(difference, end = \" \"*(5))\n",
    "            print()\n",
    "        elif(column=='Family History'):\n",
    "            train_count = round(x_train[column].value_counts(ascending = True)/len(x_train[column])*100,2)\n",
    "            test_count = round(x_test[column].value_counts(ascending = True)/len(x_test[column])*100,2)\n",
    "            difference = round(train_count[1]-test_count[1],2)\n",
    "            print(column, end=\" \"*(21-len(column)))\n",
    "            print(train_count[1], end = \" \"*(10-len(str(train_count[1]))))\n",
    "            print(test_count[1], end = \" \"*(10-len(str(test_count[1]))))\n",
    "            print(difference)\n",
    "        else:\n",
    "            train_count = round(x_train[column].value_counts(ascending = True)/len(x_train[column])*100,2)\n",
    "            test_count = round(x_test[column].value_counts(ascending = True)/len(x_test[column])*100,2)\n",
    "            difference = round(train_count[True]-test_count[True],2)\n",
    "            print(column, end=\" \"*(21-len(column)))\n",
    "            print(train_count[True], end = \" \"*(10-len(str(train_count[True]))))\n",
    "            print(test_count[True], end = \" \"*(10-len(str(test_count[True]))))\n",
    "            print(difference)\n",
    "\n",
    "print_dist_features(t1d_clean, X_train, X_test)"
   ]
  },
  {
   "cell_type": "markdown",
   "metadata": {},
   "source": [
    "**A3 Section a**\n",
    "\n",
    "Imbalance between train and test set could cause the learning algorithm to fail in classification of the test set.\n",
    "Balance can be reached with stratification or normalization. in our case, due to the booleanic nature of the data, its better to do stratification."
   ]
  },
  {
   "cell_type": "markdown",
   "metadata": {},
   "source": [
    "# Relationship between feature and label:"
   ]
  },
  {
   "cell_type": "code",
   "execution_count": 8,
   "metadata": {
    "collapsed": false,
    "jupyter": {
     "outputs_hidden": false
    },
    "pycharm": {
     "name": "#%%\n"
    }
   },
   "outputs": [
    {
     "data": {
      "image/png": "[encoded data removed]",
      "text/plain": [
       "<Figure size 864x432 with 18 Axes>"
      ]
     },
     "metadata": {
      "needs_background": "light"
     },
     "output_type": "display_data"
    },
    {
     "data": {
      "text/plain": [
       "()"
      ]
     },
     "execution_count": 8,
     "metadata": {},
     "output_type": "execute_result"
    }
   ],
   "source": [
    "import seaborn as sbn\n",
    "import matplotlib.ticker as ticker\n",
    "\n",
    "def feature_corr(t1d_df):\n",
    "    fig, axes = plt.subplots(3, 6,figsize=(12, 6) )\n",
    "    sbn.set_context(\"paper\", font_scale=0.7)\n",
    "    fig.suptitle(\"Relationship between features and label\")\n",
    "    i=0\n",
    "    for column in t1d_df:\n",
    "        if(column=='Gender'):\n",
    "            feat_lab = sbn.countplot(ax = axes[i//6,i%6], x='Gender', hue = 'Diagnosis', data = t1d_df)\n",
    "            feat_lab.set(xticklabels=['Male', 'Female'])\n",
    "        elif(column=='Age'):\n",
    "            feat_lab = sbn.countplot(ax = axes[i//6,i%6], x='Age', hue = 'Diagnosis', data = t1d_df)\n",
    "            feat_lab.xaxis.set_major_locator(ticker.LinearLocator(10))\n",
    "        elif(i>1):\n",
    "            feat_lab = sbn.countplot(ax = axes[i//6,i%6], x=column, hue = 'Diagnosis', data = t1d_df)\n",
    "            feat_lab.set(xticklabels=['No', 'Yes'])\n",
    "        i+=1\n",
    "    plt.show()    \n",
    "    return()\n",
    "\n",
    "feature_corr(t1d_clean)\n",
    "# from functions import feat_lab_cor\n",
    "# feat_lab_cor(t1d_clean)\n",
    "\n"
   ]
  },
  {
   "cell_type": "markdown",
   "metadata": {},
   "source": [
    "Additional plots:"
   ]
  },
  {
   "cell_type": "code",
   "execution_count": 9,
   "metadata": {
    "collapsed": false,
    "jupyter": {
     "outputs_hidden": false
    },
    "pycharm": {
     "name": "#%%\n"
    }
   },
   "outputs": [],
   "source": [
    "X_train = X_train.drop(columns=['Diagnosis'])\n",
    "X_test = X_test.drop(columns=['Diagnosis'])"
   ]
  },
  {
   "cell_type": "markdown",
   "metadata": {},
   "source": [
    "# **Q4 - One Hot Vector**"
   ]
  },
  {
   "cell_type": "code",
   "execution_count": 10,
   "metadata": {
    "collapsed": false,
    "jupyter": {
     "outputs_hidden": false
    },
    "pycharm": {
     "name": "#%%\n"
    }
   },
   "outputs": [
    {
     "name": "stdout",
     "output_type": "stream",
     "text": [
      "[0. 1. 1. 0. 1. 0. 1. 0. 1. 0. 1. 0. 1. 0. 1. 0. 1. 0. 1. 0. 1. 0. 1. 0.\n",
      " 1. 0. 0. 1. 1. 0. 1. 0. 1. 0.]\n"
     ]
    }
   ],
   "source": [
    "from numpy import asarray\n",
    "from sklearn.preprocessing import OneHotEncoder\n",
    "\n",
    "encoder = OneHotEncoder(sparse=False)\n",
    "# transform data\n",
    "onehot = encoder.fit_transform(t1d_clean.drop(columns = ['Age']))\n",
    "# print(onehot)\n",
    "print(onehot[1])\n"
   ]
  },
  {
   "cell_type": "markdown",
   "metadata": {},
   "source": [
    "Additional plots:"
   ]
  },
  {
   "cell_type": "markdown",
   "metadata": {},
   "source": [
    "# **Q5 - K cross fold**"
   ]
  },
  {
   "cell_type": "code",
   "execution_count": 52,
   "metadata": {},
   "outputs": [],
   "source": [
    "from sklearn.model_selection import KFold\n",
    "from sklearn.linear_model import LogisticRegression\n",
    "from sklearn.svm import SVC\n",
    "from sklearn.ensemble import RandomForestClassifier\n",
    "from sklearn.linear_model import SGDClassifier"
   ]
  },
  {
   "cell_type": "code",
   "execution_count": 19,
   "metadata": {},
   "outputs": [],
   "source": [
    "def get_score(model, X_train_gs, X_test_gs, y_train_gs, y_test_gs):\n",
    "    model.fit(X_train_gs, y_train_gs)\n",
    "    return model.score(X_test_gs, y_test_gs)"
   ]
  },
  {
   "cell_type": "code",
   "execution_count": 59,
   "metadata": {},
   "outputs": [
    {
     "name": "stderr",
     "output_type": "stream",
     "text": [
      "C:\\Users\\ofeka\\anaconda3\\envs\\bm-336546\\lib\\site-packages\\sklearn\\linear_model\\_logistic.py:764: ConvergenceWarning: lbfgs failed to converge (status=1):\n",
      "STOP: TOTAL NO. of ITERATIONS REACHED LIMIT.\n",
      "\n",
      "Increase the number of iterations (max_iter) or scale the data as shown in:\n",
      "    https://scikit-learn.org/stable/modules/preprocessing.html\n",
      "Please also refer to the documentation for alternative solver options:\n",
      "    https://scikit-learn.org/stable/modules/linear_model.html#logistic-regression\n",
      "  extra_warning_msg=_LOGISTIC_SOLVER_CONVERGENCE_MSG)\n",
      "C:\\Users\\ofeka\\anaconda3\\envs\\bm-336546\\lib\\site-packages\\sklearn\\linear_model\\_logistic.py:764: ConvergenceWarning: lbfgs failed to converge (status=1):\n",
      "STOP: TOTAL NO. of ITERATIONS REACHED LIMIT.\n",
      "\n",
      "Increase the number of iterations (max_iter) or scale the data as shown in:\n",
      "    https://scikit-learn.org/stable/modules/preprocessing.html\n",
      "Please also refer to the documentation for alternative solver options:\n",
      "    https://scikit-learn.org/stable/modules/linear_model.html#logistic-regression\n",
      "  extra_warning_msg=_LOGISTIC_SOLVER_CONVERGENCE_MSG)\n",
      "C:\\Users\\ofeka\\anaconda3\\envs\\bm-336546\\lib\\site-packages\\sklearn\\linear_model\\_logistic.py:764: ConvergenceWarning: lbfgs failed to converge (status=1):\n",
      "STOP: TOTAL NO. of ITERATIONS REACHED LIMIT.\n",
      "\n",
      "Increase the number of iterations (max_iter) or scale the data as shown in:\n",
      "    https://scikit-learn.org/stable/modules/preprocessing.html\n",
      "Please also refer to the documentation for alternative solver options:\n",
      "    https://scikit-learn.org/stable/modules/linear_model.html#logistic-regression\n",
      "  extra_warning_msg=_LOGISTIC_SOLVER_CONVERGENCE_MSG)\n",
      "C:\\Users\\ofeka\\anaconda3\\envs\\bm-336546\\lib\\site-packages\\sklearn\\linear_model\\_logistic.py:764: ConvergenceWarning: lbfgs failed to converge (status=1):\n",
      "STOP: TOTAL NO. of ITERATIONS REACHED LIMIT.\n",
      "\n",
      "Increase the number of iterations (max_iter) or scale the data as shown in:\n",
      "    https://scikit-learn.org/stable/modules/preprocessing.html\n",
      "Please also refer to the documentation for alternative solver options:\n",
      "    https://scikit-learn.org/stable/modules/linear_model.html#logistic-regression\n",
      "  extra_warning_msg=_LOGISTIC_SOLVER_CONVERGENCE_MSG)\n"
     ]
    }
   ],
   "source": [
    "kfold = KFold(n_splits = 5)\n",
    "\n",
    "#Define algorithms:\n",
    "model_lr = LogisticRegression()\n",
    "model_sgd = SGDClassifier()\n",
    "model_svm = SVC()\n",
    "model_rf = RandomForestClassifier()\n",
    "\n",
    "\n",
    "\n",
    "#Define lists for each algorithm\n",
    "score_lr = []\n",
    "score_svm = []\n",
    "score_rf = []\n",
    "score_sgd = []\n",
    "\n",
    "X_split = X_train\n",
    "y_split = y_train\n",
    "for train_index, test_index in kfold.split(X_train):\n",
    "    X_train_kf, X_test_kf, y_train_kf, y_test_kf = X_split.iloc[train_index],X_split.iloc[test_index], y_split[train_index],y_split[test_index]\n",
    "    score_lr.append(get_score(model_lr,X_train_kf,X_test_kf,y_train_kf,y_test_kf))\n",
    "    score_svm.append(get_score(model_svm,X_train_kf,X_test_kf,y_train_kf,y_test_kf))\n",
    "    score_rf.append(get_score(model_rf,X_train_kf,X_test_kf,y_train_kf,y_test_kf))\n",
    "    score_sgd.append(get_score(model_sgd,X_train_kf,X_test_kf,y_train_kf,y_test_kf))\n",
    "    "
   ]
  },
  {
   "cell_type": "code",
   "execution_count": 65,
   "metadata": {},
   "outputs": [
    {
     "name": "stdout",
     "output_type": "stream",
     "text": [
      "LR: 0.914\n",
      "SGD: 0.801\n",
      "SVM: 0.606\n",
      "RF: 0.971\n",
      "0.945054945054945\n",
      "0.9120879120879121\n",
      "0.6483516483516484\n",
      "0.989010989010989\n"
     ]
    }
   ],
   "source": [
    "import statistics\n",
    "\n",
    "print('LR: %.3f' %statistics.mean(score_lr))\n",
    "print('SGD: %.3f' %statistics.mean(score_sgd))\n",
    "print('SVM: %.3f' %statistics.mean(score_svm))\n",
    "print('RF: %.3f' %statistics.mean(score_rf))\n",
    "print(max(score_lr))\n",
    "print(max(score_sgd))\n",
    "print(max(score_svm))\n",
    "print(max(score_rf))"
   ]
  }
 ],
 "metadata": {
  "kernelspec": {
   "display_name": "Python 3",
   "language": "python",
   "name": "python3"
  },
  "language_info": {
   "codemirror_mode": {
    "name": "ipython",
    "version": 3
   },
   "file_extension": ".py",
   "mimetype": "text/x-python",
   "name": "python",
   "nbconvert_exporter": "python",
   "pygments_lexer": "ipython3",
   "version": "3.7.9"
  }
 },
 "nbformat": 4,
 "nbformat_minor": 4
}
