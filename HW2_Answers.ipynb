{
 "cells": [
  {
   "cell_type": "markdown",
   "metadata": {},
   "source": [
    "***HW2 - Detecting Type 1 Diabetes***"
   ]
  },
  {
   "cell_type": "markdown",
   "metadata": {},
   "source": [
    "# Theory Assignment"
   ]
  },
  {
   "cell_type": "markdown",
   "metadata": {},
   "source": [
    "Theoretical questions\n",
    "Q1: To evaluate how well our model performs at T1D classification, we need to have evaluation metrics that measures of its performances/accuracy. Which evaluation metric is more important to us: model accuracy or model performance? Give a simple example that illustrates your claim.\n",
    "\n",
    "A1: Performance means how good our model is doing its job. Accuracy is the number of correct predictions made by the model by the total number of records. For us, performance is more important beacuse accuracy can be deceiving if the data is not representive enough.\n",
    "For instance, if we use a binary naive classifier to determine whether a person has cancer, However the data only includes 5 positive cases out of 100 patients, we get 95% accuracy.\n",
    "\n",
    "Q2: T1D is often associated with other comorbidities such as a heart attack. You are asked to design a ML algorithm to predict which patients are going to suffer a heart attack. Relevant patient features for the algorithm may include blood pressure (BP), body-mass index (BMI), age (A), level of physical activity (P), and income (I). You should choose between two classifiers: the first uses only BP and BMI features and the other one uses all of the features available to you. Explain the pros and cons of each choice.\n",
    "\n",
    "A2: \n",
    "\n",
    "Using BMI and BP:\n",
    "    \n",
    "    pros\n",
    "      - Weights will be easier to find.\n",
    "      - The calculations will be simpler.\n",
    "      - Data cleanning will only include two coloumns.\n",
    "    cons\n",
    "      - We can't be sure that these are the most important features. This can lead to diminished performance and crucial mistakes. \n",
    "        For example, a false negative case; One may not be treated well which can lead to devastating consequences.\n",
    "    \n",
    "Using all features:\n",
    "\n",
    "    pros\n",
    "      - The model will most likely perform better and will have better accuracy (under the assumption that our data is reliable enough)\n",
    "    cons\n",
    "      - Data exploration and cleanning will be difficult.\n",
    "      - We'll have a lot of data meanning extended computation time.\n",
    "    \n",
    "        \n",
    "\n",
    "Q3: A histologist wants to use machine learning to tell the difference between pancreas biopsies that show signs of T1D and those that do not. She has already come up with dozens of measurements to take, such as color, size, uniformity and cell-count, but she isn’t sure which model to use. The biopsies are really similar, and it is difficult to distinguish them from the human eye, or by just looking at the features. Which of the following is better: logistic regression, linear SVM or nonlinear SVM? Explain your answer.\n",
    "\n",
    "A3:\n",
    "\n",
    "We can assume that the data won't be linearly seperable since the samples look alike and have similar properties.\n",
    "Thus, we will use nonlinear SVM to find the correct boundary line.\n",
    "\n",
    "Q4: What are the differences between LR and linear SVM and what is the difference in the effect/concept of their hyper-parameters tuning?\n",
    "\n",
    "A4: LR - returns the probabilities to be a part of a certain class. \n",
    "\n",
    "Linear SVM - returns where each patient will be labeled.\n",
    "\n",
    "There is one hyperparameter to tune - lambda (or C in python which is 1/lambda). \n",
    "This hyperparameter determines the bias - variance tradeoff, meaning that for low values of lambda (or high values of C), our model can be complex and we risk overfitting our training examples(high variance). in this case the model will memorise, not learn.\n",
    "\n",
    "For high values of lambda (or low values of C) we \"punish\" harder our model for each misclassification and risk having an underfit condition, meaning that our model will be too simple (high bias).\n"
   ]
  },
  {
   "cell_type": "markdown",
   "metadata": {},
   "source": [
    "# Coding Assignment:"
   ]
  },
  {
   "cell_type": "markdown",
   "metadata": {},
   "source": [
    "Import and load packages:"
   ]
  },
  {
   "cell_type": "code",
   "execution_count": 1,
   "metadata": {},
   "outputs": [],
   "source": [
    "import pandas as pd \n",
    "import numpy as np\n",
    "from pathlib import Path\n",
    "import random\n",
    "import distutils\n",
    "# from Additional_functions import *\n",
    "from sklearn import metrics\n",
    "from sklearn.model_selection import train_test_split\n",
    "import matplotlib.pyplot as plt"
   ]
  },
  {
   "cell_type": "markdown",
   "metadata": {},
   "source": [
    "# **Q1 - Data loading and preprocessing:**"
   ]
  },
  {
   "cell_type": "code",
   "execution_count": 2,
   "metadata": {},
   "outputs": [],
   "source": [
    "def nan2num(dataframe):\n",
    "    \"\"\"\n",
    "    :param dataframe: Pandas series of features\n",
    "    :return: A pandas dataframe of the dictionary c_cdf containing the \"clean\" features\n",
    "    \"\"\"\n",
    "    # dataframe = pd.DataFrame(dataframe).drop(extra_feature, 1)\n",
    "    c_cdf = {}\n",
    "    c_cdf = dataframe\n",
    "    for column in dataframe.columns:\n",
    "        if column == 'Age':\n",
    "            i=0\n",
    "        else:\n",
    "            replacing_value = np.random.choice(dataframe[column])\n",
    "            c_cdf[column].replace(to_replace= np.nan , value=replacing_value, inplace = True)\n",
    "    return pd.DataFrame(c_cdf)\n",
    "\n",
    "def str_to_bool_series(s):\n",
    "    for index, value in s.items():\n",
    "        if(value=='Yes'):\n",
    "            s[index] = True\n",
    "        elif(value=='No'):\n",
    "            s[index] = False\n",
    "        elif(value=='Male'):\n",
    "            s[index] = True\n",
    "        elif(value == 'Female'):\n",
    "            s[index] = False\n",
    "        elif(value=='Positive'):\n",
    "            s[index] = True\n",
    "        elif (value == 'Negative'):\n",
    "            s[index] = False\n",
    "#         elif(value==1):\n",
    "#             s[index] = True\n",
    "#         elif(value==0):\n",
    "#             s[index] = False\n",
    "    return s"
   ]
  },
  {
   "cell_type": "code",
   "execution_count": 3,
   "metadata": {},
   "outputs": [],
   "source": [
    "df = pd.read_csv('HW2_data.csv')"
   ]
  },
  {
   "cell_type": "code",
   "execution_count": 4,
   "metadata": {},
   "outputs": [
    {
     "name": "stderr",
     "output_type": "stream",
     "text": [
      "C:\\Users\\Asaf\\anaconda3\\envs\\bm-336546\\lib\\site-packages\\ipykernel_launcher.py:24: SettingWithCopyWarning: \n",
      "A value is trying to be set on a copy of a slice from a DataFrame\n",
      "\n",
      "See the caveats in the documentation: https://pandas.pydata.org/pandas-docs/stable/user_guide/indexing.html#returning-a-view-versus-a-copy\n",
      "C:\\Users\\Asaf\\anaconda3\\envs\\bm-336546\\lib\\site-packages\\ipykernel_launcher.py:26: SettingWithCopyWarning: \n",
      "A value is trying to be set on a copy of a slice from a DataFrame\n",
      "\n",
      "See the caveats in the documentation: https://pandas.pydata.org/pandas-docs/stable/user_guide/indexing.html#returning-a-view-versus-a-copy\n",
      "C:\\Users\\Asaf\\anaconda3\\envs\\bm-336546\\lib\\site-packages\\ipykernel_launcher.py:22: SettingWithCopyWarning: \n",
      "A value is trying to be set on a copy of a slice from a DataFrame\n",
      "\n",
      "See the caveats in the documentation: https://pandas.pydata.org/pandas-docs/stable/user_guide/indexing.html#returning-a-view-versus-a-copy\n",
      "C:\\Users\\Asaf\\anaconda3\\envs\\bm-336546\\lib\\site-packages\\ipykernel_launcher.py:20: SettingWithCopyWarning: \n",
      "A value is trying to be set on a copy of a slice from a DataFrame\n",
      "\n",
      "See the caveats in the documentation: https://pandas.pydata.org/pandas-docs/stable/user_guide/indexing.html#returning-a-view-versus-a-copy\n",
      "C:\\Users\\Asaf\\anaconda3\\envs\\bm-336546\\lib\\site-packages\\ipykernel_launcher.py:30: SettingWithCopyWarning: \n",
      "A value is trying to be set on a copy of a slice from a DataFrame\n",
      "\n",
      "See the caveats in the documentation: https://pandas.pydata.org/pandas-docs/stable/user_guide/indexing.html#returning-a-view-versus-a-copy\n",
      "C:\\Users\\Asaf\\anaconda3\\envs\\bm-336546\\lib\\site-packages\\ipykernel_launcher.py:28: SettingWithCopyWarning: \n",
      "A value is trying to be set on a copy of a slice from a DataFrame\n",
      "\n",
      "See the caveats in the documentation: https://pandas.pydata.org/pandas-docs/stable/user_guide/indexing.html#returning-a-view-versus-a-copy\n"
     ]
    },
    {
     "data": {
      "text/html": [
       "<div>\n",
       "<style scoped>\n",
       "    .dataframe tbody tr th:only-of-type {\n",
       "        vertical-align: middle;\n",
       "    }\n",
       "\n",
       "    .dataframe tbody tr th {\n",
       "        vertical-align: top;\n",
       "    }\n",
       "\n",
       "    .dataframe thead th {\n",
       "        text-align: right;\n",
       "    }\n",
       "</style>\n",
       "<table border=\"1\" class=\"dataframe\">\n",
       "  <thead>\n",
       "    <tr style=\"text-align: right;\">\n",
       "      <th></th>\n",
       "      <th>Age</th>\n",
       "      <th>Gender</th>\n",
       "      <th>Increased Urination</th>\n",
       "      <th>Increased Thirst</th>\n",
       "      <th>Sudden Weight Loss</th>\n",
       "      <th>Weakness</th>\n",
       "      <th>Increased Hunger</th>\n",
       "      <th>Genital Thrush</th>\n",
       "      <th>Visual Blurring</th>\n",
       "      <th>Itching</th>\n",
       "      <th>Irritability</th>\n",
       "      <th>Delayed Healing</th>\n",
       "      <th>Partial Paresis</th>\n",
       "      <th>Muscle Stiffness</th>\n",
       "      <th>Hair Loss</th>\n",
       "      <th>Obesity</th>\n",
       "      <th>Diagnosis</th>\n",
       "      <th>Family History</th>\n",
       "    </tr>\n",
       "  </thead>\n",
       "  <tbody>\n",
       "    <tr>\n",
       "      <th>560</th>\n",
       "      <td>54</td>\n",
       "      <td>True</td>\n",
       "      <td>True</td>\n",
       "      <td>True</td>\n",
       "      <td>True</td>\n",
       "      <td>True</td>\n",
       "      <td>False</td>\n",
       "      <td>NaN</td>\n",
       "      <td>True</td>\n",
       "      <td>True</td>\n",
       "      <td>True</td>\n",
       "      <td>True</td>\n",
       "      <td>True</td>\n",
       "      <td>True</td>\n",
       "      <td>False</td>\n",
       "      <td>False</td>\n",
       "      <td>True</td>\n",
       "      <td>0</td>\n",
       "    </tr>\n",
       "    <tr>\n",
       "      <th>561</th>\n",
       "      <td>32</td>\n",
       "      <td>True</td>\n",
       "      <td>False</td>\n",
       "      <td>False</td>\n",
       "      <td>False</td>\n",
       "      <td>False</td>\n",
       "      <td>False</td>\n",
       "      <td>NaN</td>\n",
       "      <td>False</td>\n",
       "      <td>False</td>\n",
       "      <td>True</td>\n",
       "      <td>True</td>\n",
       "      <td>False</td>\n",
       "      <td>False</td>\n",
       "      <td>False</td>\n",
       "      <td>True</td>\n",
       "      <td>True</td>\n",
       "      <td>0</td>\n",
       "    </tr>\n",
       "    <tr>\n",
       "      <th>562</th>\n",
       "      <td>61</td>\n",
       "      <td>False</td>\n",
       "      <td>True</td>\n",
       "      <td>False</td>\n",
       "      <td>False</td>\n",
       "      <td>False</td>\n",
       "      <td>True</td>\n",
       "      <td>False</td>\n",
       "      <td>False</td>\n",
       "      <td>False</td>\n",
       "      <td>True</td>\n",
       "      <td>False</td>\n",
       "      <td>False</td>\n",
       "      <td>False</td>\n",
       "      <td>True</td>\n",
       "      <td>False</td>\n",
       "      <td>True</td>\n",
       "      <td>1</td>\n",
       "    </tr>\n",
       "    <tr>\n",
       "      <th>563</th>\n",
       "      <td>46</td>\n",
       "      <td>True</td>\n",
       "      <td>False</td>\n",
       "      <td>False</td>\n",
       "      <td>False</td>\n",
       "      <td>True</td>\n",
       "      <td>False</td>\n",
       "      <td>False</td>\n",
       "      <td>False</td>\n",
       "      <td>True</td>\n",
       "      <td>False</td>\n",
       "      <td>True</td>\n",
       "      <td>False</td>\n",
       "      <td>False</td>\n",
       "      <td>True</td>\n",
       "      <td>False</td>\n",
       "      <td>False</td>\n",
       "      <td>0</td>\n",
       "    </tr>\n",
       "    <tr>\n",
       "      <th>564</th>\n",
       "      <td>37</td>\n",
       "      <td>True</td>\n",
       "      <td>False</td>\n",
       "      <td>False</td>\n",
       "      <td>False</td>\n",
       "      <td>False</td>\n",
       "      <td>False</td>\n",
       "      <td>False</td>\n",
       "      <td>False</td>\n",
       "      <td>False</td>\n",
       "      <td>False</td>\n",
       "      <td>False</td>\n",
       "      <td>False</td>\n",
       "      <td>False</td>\n",
       "      <td>False</td>\n",
       "      <td>False</td>\n",
       "      <td>False</td>\n",
       "      <td>0</td>\n",
       "    </tr>\n",
       "  </tbody>\n",
       "</table>\n",
       "</div>"
      ],
      "text/plain": [
       "     Age Gender Increased Urination Increased Thirst Sudden Weight Loss  \\\n",
       "560   54   True                True             True               True   \n",
       "561   32   True               False            False              False   \n",
       "562   61  False                True            False              False   \n",
       "563   46   True               False            False              False   \n",
       "564   37   True               False            False              False   \n",
       "\n",
       "    Weakness Increased Hunger Genital Thrush Visual Blurring Itching  \\\n",
       "560     True            False            NaN            True    True   \n",
       "561    False            False            NaN           False   False   \n",
       "562    False             True          False           False   False   \n",
       "563     True            False          False           False    True   \n",
       "564    False            False          False           False   False   \n",
       "\n",
       "    Irritability Delayed Healing Partial Paresis Muscle Stiffness Hair Loss  \\\n",
       "560         True            True            True             True     False   \n",
       "561         True            True           False            False     False   \n",
       "562         True           False           False            False      True   \n",
       "563        False            True           False            False      True   \n",
       "564        False           False           False            False     False   \n",
       "\n",
       "    Obesity Diagnosis  Family History  \n",
       "560   False      True               0  \n",
       "561    True      True               0  \n",
       "562   False      True               1  \n",
       "563   False     False               0  \n",
       "564   False     False               0  "
      ]
     },
     "execution_count": 4,
     "metadata": {},
     "output_type": "execute_result"
    }
   ],
   "source": [
    "for column in df.columns:\n",
    "    str_to_bool_series(df[column])\n",
    "df.tail()"
   ]
  },
  {
   "cell_type": "code",
   "execution_count": 5,
   "metadata": {},
   "outputs": [
    {
     "data": {
      "text/html": [
       "<div>\n",
       "<style scoped>\n",
       "    .dataframe tbody tr th:only-of-type {\n",
       "        vertical-align: middle;\n",
       "    }\n",
       "\n",
       "    .dataframe tbody tr th {\n",
       "        vertical-align: top;\n",
       "    }\n",
       "\n",
       "    .dataframe thead th {\n",
       "        text-align: right;\n",
       "    }\n",
       "</style>\n",
       "<table border=\"1\" class=\"dataframe\">\n",
       "  <thead>\n",
       "    <tr style=\"text-align: right;\">\n",
       "      <th></th>\n",
       "      <th>Age</th>\n",
       "      <th>Gender</th>\n",
       "      <th>Increased Urination</th>\n",
       "      <th>Increased Thirst</th>\n",
       "      <th>Sudden Weight Loss</th>\n",
       "      <th>Weakness</th>\n",
       "      <th>Increased Hunger</th>\n",
       "      <th>Genital Thrush</th>\n",
       "      <th>Visual Blurring</th>\n",
       "      <th>Itching</th>\n",
       "      <th>Irritability</th>\n",
       "      <th>Delayed Healing</th>\n",
       "      <th>Partial Paresis</th>\n",
       "      <th>Muscle Stiffness</th>\n",
       "      <th>Hair Loss</th>\n",
       "      <th>Obesity</th>\n",
       "      <th>Diagnosis</th>\n",
       "      <th>Family History</th>\n",
       "    </tr>\n",
       "  </thead>\n",
       "  <tbody>\n",
       "    <tr>\n",
       "      <th>560</th>\n",
       "      <td>54</td>\n",
       "      <td>True</td>\n",
       "      <td>True</td>\n",
       "      <td>True</td>\n",
       "      <td>True</td>\n",
       "      <td>True</td>\n",
       "      <td>False</td>\n",
       "      <td>False</td>\n",
       "      <td>True</td>\n",
       "      <td>True</td>\n",
       "      <td>True</td>\n",
       "      <td>True</td>\n",
       "      <td>True</td>\n",
       "      <td>True</td>\n",
       "      <td>False</td>\n",
       "      <td>False</td>\n",
       "      <td>True</td>\n",
       "      <td>0</td>\n",
       "    </tr>\n",
       "    <tr>\n",
       "      <th>561</th>\n",
       "      <td>32</td>\n",
       "      <td>True</td>\n",
       "      <td>False</td>\n",
       "      <td>False</td>\n",
       "      <td>False</td>\n",
       "      <td>False</td>\n",
       "      <td>False</td>\n",
       "      <td>False</td>\n",
       "      <td>False</td>\n",
       "      <td>False</td>\n",
       "      <td>True</td>\n",
       "      <td>True</td>\n",
       "      <td>False</td>\n",
       "      <td>False</td>\n",
       "      <td>False</td>\n",
       "      <td>True</td>\n",
       "      <td>True</td>\n",
       "      <td>0</td>\n",
       "    </tr>\n",
       "    <tr>\n",
       "      <th>562</th>\n",
       "      <td>61</td>\n",
       "      <td>False</td>\n",
       "      <td>True</td>\n",
       "      <td>False</td>\n",
       "      <td>False</td>\n",
       "      <td>False</td>\n",
       "      <td>True</td>\n",
       "      <td>False</td>\n",
       "      <td>False</td>\n",
       "      <td>False</td>\n",
       "      <td>True</td>\n",
       "      <td>False</td>\n",
       "      <td>False</td>\n",
       "      <td>False</td>\n",
       "      <td>True</td>\n",
       "      <td>False</td>\n",
       "      <td>True</td>\n",
       "      <td>1</td>\n",
       "    </tr>\n",
       "    <tr>\n",
       "      <th>563</th>\n",
       "      <td>46</td>\n",
       "      <td>True</td>\n",
       "      <td>False</td>\n",
       "      <td>False</td>\n",
       "      <td>False</td>\n",
       "      <td>True</td>\n",
       "      <td>False</td>\n",
       "      <td>False</td>\n",
       "      <td>False</td>\n",
       "      <td>True</td>\n",
       "      <td>False</td>\n",
       "      <td>True</td>\n",
       "      <td>False</td>\n",
       "      <td>False</td>\n",
       "      <td>True</td>\n",
       "      <td>False</td>\n",
       "      <td>False</td>\n",
       "      <td>0</td>\n",
       "    </tr>\n",
       "    <tr>\n",
       "      <th>564</th>\n",
       "      <td>37</td>\n",
       "      <td>True</td>\n",
       "      <td>False</td>\n",
       "      <td>False</td>\n",
       "      <td>False</td>\n",
       "      <td>False</td>\n",
       "      <td>False</td>\n",
       "      <td>False</td>\n",
       "      <td>False</td>\n",
       "      <td>False</td>\n",
       "      <td>False</td>\n",
       "      <td>False</td>\n",
       "      <td>False</td>\n",
       "      <td>False</td>\n",
       "      <td>False</td>\n",
       "      <td>False</td>\n",
       "      <td>False</td>\n",
       "      <td>0</td>\n",
       "    </tr>\n",
       "  </tbody>\n",
       "</table>\n",
       "</div>"
      ],
      "text/plain": [
       "     Age  Gender  Increased Urination  Increased Thirst  Sudden Weight Loss  \\\n",
       "560   54    True                 True              True                True   \n",
       "561   32    True                False             False               False   \n",
       "562   61   False                 True             False               False   \n",
       "563   46    True                False             False               False   \n",
       "564   37    True                False             False               False   \n",
       "\n",
       "     Weakness  Increased Hunger  Genital Thrush  Visual Blurring  Itching  \\\n",
       "560      True             False           False             True     True   \n",
       "561     False             False           False            False    False   \n",
       "562     False              True           False            False    False   \n",
       "563      True             False           False            False     True   \n",
       "564     False             False           False            False    False   \n",
       "\n",
       "     Irritability  Delayed Healing  Partial Paresis  Muscle Stiffness  \\\n",
       "560          True             True             True              True   \n",
       "561          True             True            False             False   \n",
       "562          True            False            False             False   \n",
       "563         False             True            False             False   \n",
       "564         False            False            False             False   \n",
       "\n",
       "     Hair Loss  Obesity  Diagnosis  Family History  \n",
       "560      False    False       True               0  \n",
       "561      False     True       True               0  \n",
       "562       True    False       True               1  \n",
       "563       True    False      False               0  \n",
       "564      False    False      False               0  "
      ]
     },
     "execution_count": 5,
     "metadata": {},
     "output_type": "execute_result"
    }
   ],
   "source": [
    "t1d_clean = nan2num(df)\n",
    "\n",
    "#df.fillna(value = False, inplace = True)\n",
    "t1d_clean.tail()\n"
   ]
  },
  {
   "cell_type": "markdown",
   "metadata": {
    "pycharm": {
     "name": "#%% md\n"
    }
   },
   "source": [
    "# **Q2 -  Split the data into Test Train 20%**"
   ]
  },
  {
   "cell_type": "code",
   "execution_count": 6,
   "metadata": {
    "collapsed": false,
    "jupyter": {
     "outputs_hidden": false
    },
    "pycharm": {
     "name": "#%%\n"
    }
   },
   "outputs": [],
   "source": [
    "diagnosis = t1d_clean['Diagnosis']\n",
    "\n",
    "\n",
    "X_train, X_test, y_train, y_test = train_test_split(t1d_clean, np.ravel(diagnosis), test_size=0.2,\n",
    "                                                        random_state=0, stratify=np.ravel(diagnosis))\n"
   ]
  },
  {
   "cell_type": "markdown",
   "metadata": {},
   "source": [
    "# **Q3 - Visualization and exploration of the data**\n",
    "\n"
   ]
  },
  {
   "cell_type": "markdown",
   "metadata": {},
   "source": [
    "# Distribution of the features:"
   ]
  },
  {
   "cell_type": "code",
   "execution_count": 7,
   "metadata": {
    "collapsed": false,
    "jupyter": {
     "outputs_hidden": false
    },
    "pycharm": {
     "name": "#%%\n"
    }
   },
   "outputs": [
    {
     "name": "stdout",
     "output_type": "stream",
     "text": [
      "Feature            | Train % | Test % | Difference\n",
      "Age                  48.18     48.12     0.06     \n",
      "Gender               63.94     62.83     1.11\n",
      "Increased Urination  48.23     48.67     -0.44\n",
      "Increased Thirst     44.03     38.05     5.98\n",
      "Sudden Weight Loss   39.16     45.13     -5.97\n",
      "Weakness             56.42     60.18     -3.76\n",
      "Increased Hunger     44.03     41.59     2.44\n",
      "Genital Thrush       20.58     25.66     -5.08\n",
      "Visual Blurring      45.8      41.59     4.21\n",
      "Itching              50.22     46.02     4.2\n",
      "Irritability         23.01     25.66     -2.65\n",
      "Delayed Healing      46.9      43.36     3.54\n",
      "Partial Paresis      42.7      42.48     0.22\n",
      "Muscle Stiffness     35.62     36.28     -0.66\n",
      "Hair Loss            34.29     41.59     -7.3\n",
      "Obesity              17.48     14.16     3.32\n",
      "Diagnosis            60.62     61.06     -0.44\n",
      "Family History       50.22     52.21     -1.99\n"
     ]
    }
   ],
   "source": [
    "def print_dist_features(df, x_train, x_test):\n",
    "    print(\"Feature            | Train % | Test % | Difference\")\n",
    "    for column in df:\n",
    "        if(column=='Age'):\n",
    "            age_mean_train = round(x_train[column].mean(),2)\n",
    "            print(column ,end =  \" \"*(21-len(column))) \n",
    "            print(age_mean_train, end = \" \"*(5))\n",
    "            age_mean_test = round(X_test[column].mean(),2)\n",
    "            print(age_mean_test, end = \" \"*(5))\n",
    "            difference = round(age_mean_train-age_mean_test,2)\n",
    "            print(difference, end = \" \"*(5))\n",
    "            print()\n",
    "        elif(column=='Family History'):\n",
    "            train_count = round(x_train[column].value_counts(ascending = True)/len(x_train[column])*100,2)\n",
    "            test_count = round(x_test[column].value_counts(ascending = True)/len(x_test[column])*100,2)\n",
    "            difference = round(train_count[1]-test_count[1],2)\n",
    "            print(column, end=\" \"*(21-len(column)))\n",
    "            print(train_count[1], end = \" \"*(10-len(str(train_count[1]))))\n",
    "            print(test_count[1], end = \" \"*(10-len(str(test_count[1]))))\n",
    "            print(difference)\n",
    "        else:\n",
    "            train_count = round(x_train[column].value_counts(ascending = True)/len(x_train[column])*100,2)\n",
    "            test_count = round(x_test[column].value_counts(ascending = True)/len(x_test[column])*100,2)\n",
    "            difference = round(train_count[True]-test_count[True],2)\n",
    "            print(column, end=\" \"*(21-len(column)))\n",
    "            print(train_count[True], end = \" \"*(10-len(str(train_count[True]))))\n",
    "            print(test_count[True], end = \" \"*(10-len(str(test_count[True]))))\n",
    "            print(difference)\n",
    "\n",
    "print_dist_features(t1d_clean, X_train, X_test)"
   ]
  },
  {
   "cell_type": "markdown",
   "metadata": {},
   "source": [
    "**A3 Section a**\n",
    "\n",
    "Imbalance between train and test set could cause the learning algorithm to fail in classification of the test set.\n",
    "Balance can be reached with stratification or normalization. in our case, due to the booleanic nature of the data, its better to do stratification."
   ]
  },
  {
   "cell_type": "markdown",
   "metadata": {},
   "source": [
    "# Relationship between feature and label:"
   ]
  },
  {
   "cell_type": "code",
   "execution_count": 8,
   "metadata": {
    "collapsed": false,
    "jupyter": {
     "outputs_hidden": false
    },
    "pycharm": {
     "name": "#%%\n"
    }
   },
   "outputs": [
    {
     "data": {
      "image/png": "[encoded data removed]",
      "text/plain": [
       "<Figure size 1080x576 with 18 Axes>"
      ]
     },
     "metadata": {
      "needs_background": "light"
     },
     "output_type": "display_data"
    },
    {
     "data": {
      "text/plain": [
       "()"
      ]
     },
     "execution_count": 8,
     "metadata": {},
     "output_type": "execute_result"
    }
   ],
   "source": [
    "import seaborn as sbn\n",
    "import matplotlib.ticker as ticker\n",
    "\n",
    "def feature_corr(t1d_df):\n",
    "    fig, axes = plt.subplots(3, 6,figsize=(15, 8) )\n",
    "    sbn.set_context(\"paper\", font_scale=0.7)\n",
    "    fig.suptitle(\"Relationship between features and label\")\n",
    "    i=0\n",
    "    for column in t1d_df:\n",
    "        if(column=='Gender'):\n",
    "            feat_lab = sbn.countplot(ax = axes[i//6,i%6], x='Gender', hue = 'Diagnosis', data = t1d_df)\n",
    "            feat_lab.set(xticklabels=['Male', 'Female'])\n",
    "        elif(column=='Age'):\n",
    "            feat_lab = sbn.countplot(ax = axes[i//6,i%6], x='Age', hue = 'Diagnosis', data = t1d_df)\n",
    "            feat_lab.xaxis.set_major_locator(ticker.LinearLocator(10))\n",
    "        elif(i>1):\n",
    "            feat_lab = sbn.countplot(ax = axes[i//6,i%6], x=column, hue = 'Diagnosis', data = t1d_df)\n",
    "            feat_lab.set(xticklabels=['No', 'Yes'])\n",
    "        i+=1\n",
    "    plt.show()    \n",
    "    return()\n",
    "\n",
    "feature_corr(t1d_clean)\n",
    "# from functions import feat_lab_cor\n",
    "# feat_lab_cor(t1d_clean)\n",
    "\n"
   ]
  },
  {
   "cell_type": "markdown",
   "metadata": {},
   "source": [
    "Additional plots:"
   ]
  },
  {
   "cell_type": "code",
   "execution_count": 9,
   "metadata": {
    "collapsed": false,
    "jupyter": {
     "outputs_hidden": false
    },
    "pycharm": {
     "name": "#%%\n"
    }
   },
   "outputs": [],
   "source": [
    "X_train = X_train.drop(columns=['Diagnosis'])\n",
    "X_test = X_test.drop(columns=['Diagnosis'])"
   ]
  },
  {
   "cell_type": "markdown",
   "metadata": {},
   "source": [
    "# **Q4 - One Hot Vector**"
   ]
  },
  {
   "cell_type": "code",
   "execution_count": 10,
   "metadata": {
    "collapsed": false,
    "jupyter": {
     "outputs_hidden": false
    },
    "pycharm": {
     "name": "#%%\n"
    }
   },
   "outputs": [
    {
     "data": {
      "text/html": [
       "<div>\n",
       "<style scoped>\n",
       "    .dataframe tbody tr th:only-of-type {\n",
       "        vertical-align: middle;\n",
       "    }\n",
       "\n",
       "    .dataframe tbody tr th {\n",
       "        vertical-align: top;\n",
       "    }\n",
       "\n",
       "    .dataframe thead th {\n",
       "        text-align: right;\n",
       "    }\n",
       "</style>\n",
       "<table border=\"1\" class=\"dataframe\">\n",
       "  <thead>\n",
       "    <tr style=\"text-align: right;\">\n",
       "      <th></th>\n",
       "      <th>0</th>\n",
       "      <th>1</th>\n",
       "      <th>2</th>\n",
       "      <th>3</th>\n",
       "      <th>4</th>\n",
       "      <th>5</th>\n",
       "      <th>6</th>\n",
       "      <th>7</th>\n",
       "      <th>8</th>\n",
       "      <th>9</th>\n",
       "      <th>...</th>\n",
       "      <th>22</th>\n",
       "      <th>23</th>\n",
       "      <th>24</th>\n",
       "      <th>25</th>\n",
       "      <th>26</th>\n",
       "      <th>27</th>\n",
       "      <th>28</th>\n",
       "      <th>29</th>\n",
       "      <th>30</th>\n",
       "      <th>31</th>\n",
       "    </tr>\n",
       "  </thead>\n",
       "  <tbody>\n",
       "    <tr>\n",
       "      <th>65</th>\n",
       "      <td>0.0</td>\n",
       "      <td>1.0</td>\n",
       "      <td>0.0</td>\n",
       "      <td>1.0</td>\n",
       "      <td>1.0</td>\n",
       "      <td>0.0</td>\n",
       "      <td>1.0</td>\n",
       "      <td>0.0</td>\n",
       "      <td>0.0</td>\n",
       "      <td>1.0</td>\n",
       "      <td>...</td>\n",
       "      <td>0.0</td>\n",
       "      <td>1.0</td>\n",
       "      <td>0.0</td>\n",
       "      <td>1.0</td>\n",
       "      <td>0.0</td>\n",
       "      <td>1.0</td>\n",
       "      <td>0.0</td>\n",
       "      <td>1.0</td>\n",
       "      <td>1.0</td>\n",
       "      <td>0.0</td>\n",
       "    </tr>\n",
       "    <tr>\n",
       "      <th>435</th>\n",
       "      <td>0.0</td>\n",
       "      <td>1.0</td>\n",
       "      <td>1.0</td>\n",
       "      <td>0.0</td>\n",
       "      <td>1.0</td>\n",
       "      <td>0.0</td>\n",
       "      <td>1.0</td>\n",
       "      <td>0.0</td>\n",
       "      <td>1.0</td>\n",
       "      <td>0.0</td>\n",
       "      <td>...</td>\n",
       "      <td>1.0</td>\n",
       "      <td>0.0</td>\n",
       "      <td>1.0</td>\n",
       "      <td>0.0</td>\n",
       "      <td>1.0</td>\n",
       "      <td>0.0</td>\n",
       "      <td>1.0</td>\n",
       "      <td>0.0</td>\n",
       "      <td>1.0</td>\n",
       "      <td>0.0</td>\n",
       "    </tr>\n",
       "    <tr>\n",
       "      <th>71</th>\n",
       "      <td>0.0</td>\n",
       "      <td>1.0</td>\n",
       "      <td>1.0</td>\n",
       "      <td>0.0</td>\n",
       "      <td>1.0</td>\n",
       "      <td>0.0</td>\n",
       "      <td>1.0</td>\n",
       "      <td>0.0</td>\n",
       "      <td>1.0</td>\n",
       "      <td>0.0</td>\n",
       "      <td>...</td>\n",
       "      <td>1.0</td>\n",
       "      <td>0.0</td>\n",
       "      <td>1.0</td>\n",
       "      <td>0.0</td>\n",
       "      <td>0.0</td>\n",
       "      <td>1.0</td>\n",
       "      <td>1.0</td>\n",
       "      <td>0.0</td>\n",
       "      <td>0.0</td>\n",
       "      <td>1.0</td>\n",
       "    </tr>\n",
       "    <tr>\n",
       "      <th>554</th>\n",
       "      <td>0.0</td>\n",
       "      <td>1.0</td>\n",
       "      <td>0.0</td>\n",
       "      <td>1.0</td>\n",
       "      <td>1.0</td>\n",
       "      <td>0.0</td>\n",
       "      <td>0.0</td>\n",
       "      <td>1.0</td>\n",
       "      <td>1.0</td>\n",
       "      <td>0.0</td>\n",
       "      <td>...</td>\n",
       "      <td>0.0</td>\n",
       "      <td>1.0</td>\n",
       "      <td>1.0</td>\n",
       "      <td>0.0</td>\n",
       "      <td>0.0</td>\n",
       "      <td>1.0</td>\n",
       "      <td>1.0</td>\n",
       "      <td>0.0</td>\n",
       "      <td>1.0</td>\n",
       "      <td>0.0</td>\n",
       "    </tr>\n",
       "    <tr>\n",
       "      <th>75</th>\n",
       "      <td>0.0</td>\n",
       "      <td>1.0</td>\n",
       "      <td>0.0</td>\n",
       "      <td>1.0</td>\n",
       "      <td>1.0</td>\n",
       "      <td>0.0</td>\n",
       "      <td>0.0</td>\n",
       "      <td>1.0</td>\n",
       "      <td>0.0</td>\n",
       "      <td>1.0</td>\n",
       "      <td>...</td>\n",
       "      <td>1.0</td>\n",
       "      <td>0.0</td>\n",
       "      <td>1.0</td>\n",
       "      <td>0.0</td>\n",
       "      <td>0.0</td>\n",
       "      <td>1.0</td>\n",
       "      <td>1.0</td>\n",
       "      <td>0.0</td>\n",
       "      <td>1.0</td>\n",
       "      <td>0.0</td>\n",
       "    </tr>\n",
       "    <tr>\n",
       "      <th>...</th>\n",
       "      <td>...</td>\n",
       "      <td>...</td>\n",
       "      <td>...</td>\n",
       "      <td>...</td>\n",
       "      <td>...</td>\n",
       "      <td>...</td>\n",
       "      <td>...</td>\n",
       "      <td>...</td>\n",
       "      <td>...</td>\n",
       "      <td>...</td>\n",
       "      <td>...</td>\n",
       "      <td>...</td>\n",
       "      <td>...</td>\n",
       "      <td>...</td>\n",
       "      <td>...</td>\n",
       "      <td>...</td>\n",
       "      <td>...</td>\n",
       "      <td>...</td>\n",
       "      <td>...</td>\n",
       "      <td>...</td>\n",
       "      <td>...</td>\n",
       "    </tr>\n",
       "    <tr>\n",
       "      <th>365</th>\n",
       "      <td>1.0</td>\n",
       "      <td>0.0</td>\n",
       "      <td>1.0</td>\n",
       "      <td>0.0</td>\n",
       "      <td>1.0</td>\n",
       "      <td>0.0</td>\n",
       "      <td>1.0</td>\n",
       "      <td>0.0</td>\n",
       "      <td>0.0</td>\n",
       "      <td>1.0</td>\n",
       "      <td>...</td>\n",
       "      <td>1.0</td>\n",
       "      <td>0.0</td>\n",
       "      <td>1.0</td>\n",
       "      <td>0.0</td>\n",
       "      <td>0.0</td>\n",
       "      <td>1.0</td>\n",
       "      <td>1.0</td>\n",
       "      <td>0.0</td>\n",
       "      <td>0.0</td>\n",
       "      <td>1.0</td>\n",
       "    </tr>\n",
       "    <tr>\n",
       "      <th>481</th>\n",
       "      <td>0.0</td>\n",
       "      <td>1.0</td>\n",
       "      <td>1.0</td>\n",
       "      <td>0.0</td>\n",
       "      <td>1.0</td>\n",
       "      <td>0.0</td>\n",
       "      <td>1.0</td>\n",
       "      <td>0.0</td>\n",
       "      <td>0.0</td>\n",
       "      <td>1.0</td>\n",
       "      <td>...</td>\n",
       "      <td>1.0</td>\n",
       "      <td>0.0</td>\n",
       "      <td>1.0</td>\n",
       "      <td>0.0</td>\n",
       "      <td>0.0</td>\n",
       "      <td>1.0</td>\n",
       "      <td>1.0</td>\n",
       "      <td>0.0</td>\n",
       "      <td>0.0</td>\n",
       "      <td>1.0</td>\n",
       "    </tr>\n",
       "    <tr>\n",
       "      <th>272</th>\n",
       "      <td>0.0</td>\n",
       "      <td>1.0</td>\n",
       "      <td>1.0</td>\n",
       "      <td>0.0</td>\n",
       "      <td>1.0</td>\n",
       "      <td>0.0</td>\n",
       "      <td>1.0</td>\n",
       "      <td>0.0</td>\n",
       "      <td>0.0</td>\n",
       "      <td>1.0</td>\n",
       "      <td>...</td>\n",
       "      <td>1.0</td>\n",
       "      <td>0.0</td>\n",
       "      <td>1.0</td>\n",
       "      <td>0.0</td>\n",
       "      <td>1.0</td>\n",
       "      <td>0.0</td>\n",
       "      <td>1.0</td>\n",
       "      <td>0.0</td>\n",
       "      <td>1.0</td>\n",
       "      <td>0.0</td>\n",
       "    </tr>\n",
       "    <tr>\n",
       "      <th>552</th>\n",
       "      <td>0.0</td>\n",
       "      <td>1.0</td>\n",
       "      <td>1.0</td>\n",
       "      <td>0.0</td>\n",
       "      <td>1.0</td>\n",
       "      <td>0.0</td>\n",
       "      <td>1.0</td>\n",
       "      <td>0.0</td>\n",
       "      <td>1.0</td>\n",
       "      <td>0.0</td>\n",
       "      <td>...</td>\n",
       "      <td>1.0</td>\n",
       "      <td>0.0</td>\n",
       "      <td>1.0</td>\n",
       "      <td>0.0</td>\n",
       "      <td>1.0</td>\n",
       "      <td>0.0</td>\n",
       "      <td>1.0</td>\n",
       "      <td>0.0</td>\n",
       "      <td>1.0</td>\n",
       "      <td>0.0</td>\n",
       "    </tr>\n",
       "    <tr>\n",
       "      <th>497</th>\n",
       "      <td>1.0</td>\n",
       "      <td>0.0</td>\n",
       "      <td>0.0</td>\n",
       "      <td>1.0</td>\n",
       "      <td>1.0</td>\n",
       "      <td>0.0</td>\n",
       "      <td>1.0</td>\n",
       "      <td>0.0</td>\n",
       "      <td>1.0</td>\n",
       "      <td>0.0</td>\n",
       "      <td>...</td>\n",
       "      <td>1.0</td>\n",
       "      <td>0.0</td>\n",
       "      <td>1.0</td>\n",
       "      <td>0.0</td>\n",
       "      <td>0.0</td>\n",
       "      <td>1.0</td>\n",
       "      <td>1.0</td>\n",
       "      <td>0.0</td>\n",
       "      <td>1.0</td>\n",
       "      <td>0.0</td>\n",
       "    </tr>\n",
       "  </tbody>\n",
       "</table>\n",
       "<p>113 rows × 32 columns</p>\n",
       "</div>"
      ],
      "text/plain": [
       "      0    1    2    3    4    5    6    7    8    9   ...   22   23   24  \\\n",
       "65   0.0  1.0  0.0  1.0  1.0  0.0  1.0  0.0  0.0  1.0  ...  0.0  1.0  0.0   \n",
       "435  0.0  1.0  1.0  0.0  1.0  0.0  1.0  0.0  1.0  0.0  ...  1.0  0.0  1.0   \n",
       "71   0.0  1.0  1.0  0.0  1.0  0.0  1.0  0.0  1.0  0.0  ...  1.0  0.0  1.0   \n",
       "554  0.0  1.0  0.0  1.0  1.0  0.0  0.0  1.0  1.0  0.0  ...  0.0  1.0  1.0   \n",
       "75   0.0  1.0  0.0  1.0  1.0  0.0  0.0  1.0  0.0  1.0  ...  1.0  0.0  1.0   \n",
       "..   ...  ...  ...  ...  ...  ...  ...  ...  ...  ...  ...  ...  ...  ...   \n",
       "365  1.0  0.0  1.0  0.0  1.0  0.0  1.0  0.0  0.0  1.0  ...  1.0  0.0  1.0   \n",
       "481  0.0  1.0  1.0  0.0  1.0  0.0  1.0  0.0  0.0  1.0  ...  1.0  0.0  1.0   \n",
       "272  0.0  1.0  1.0  0.0  1.0  0.0  1.0  0.0  0.0  1.0  ...  1.0  0.0  1.0   \n",
       "552  0.0  1.0  1.0  0.0  1.0  0.0  1.0  0.0  1.0  0.0  ...  1.0  0.0  1.0   \n",
       "497  1.0  0.0  0.0  1.0  1.0  0.0  1.0  0.0  1.0  0.0  ...  1.0  0.0  1.0   \n",
       "\n",
       "      25   26   27   28   29   30   31  \n",
       "65   1.0  0.0  1.0  0.0  1.0  1.0  0.0  \n",
       "435  0.0  1.0  0.0  1.0  0.0  1.0  0.0  \n",
       "71   0.0  0.0  1.0  1.0  0.0  0.0  1.0  \n",
       "554  0.0  0.0  1.0  1.0  0.0  1.0  0.0  \n",
       "75   0.0  0.0  1.0  1.0  0.0  1.0  0.0  \n",
       "..   ...  ...  ...  ...  ...  ...  ...  \n",
       "365  0.0  0.0  1.0  1.0  0.0  0.0  1.0  \n",
       "481  0.0  0.0  1.0  1.0  0.0  0.0  1.0  \n",
       "272  0.0  1.0  0.0  1.0  0.0  1.0  0.0  \n",
       "552  0.0  1.0  0.0  1.0  0.0  1.0  0.0  \n",
       "497  0.0  0.0  1.0  1.0  0.0  1.0  0.0  \n",
       "\n",
       "[113 rows x 32 columns]"
      ]
     },
     "execution_count": 10,
     "metadata": {},
     "output_type": "execute_result"
    }
   ],
   "source": [
    "from numpy import asarray\n",
    "from sklearn.preprocessing import OneHotEncoder\n",
    "\n",
    "encoder = OneHotEncoder(sparse=False)\n",
    "# transform data\n",
    "onehot = encoder.fit_transform(t1d_clean.drop(columns = ['Age']).drop(columns = ['Diagnosis']))\n",
    "ohv_df = pd.DataFrame(onehot)\n",
    "# print(onehot)\n",
    "# print((pd.DataFrame(onehot)))\n",
    "X_train_ohv, X_test_ohv, y_train_ohv, y_test_ohv = train_test_split(ohv_df, np.ravel(diagnosis), test_size=0.2,\n",
    "                                                        random_state=0, stratify=np.ravel(diagnosis))\n",
    "X_train_ohv\n",
    "X_test_ohv\n"
   ]
  },
  {
   "cell_type": "markdown",
   "metadata": {},
   "source": [
    "Additional plots:"
   ]
  },
  {
   "cell_type": "markdown",
   "metadata": {},
   "source": [
    "# **Q5 - K cross fold**\n",
    "# * Change Kfold to StratifiesKfold"
   ]
  },
  {
   "cell_type": "code",
   "execution_count": 11,
   "metadata": {},
   "outputs": [],
   "source": [
    "from sklearn.model_selection import StratifiedKFold\n",
    "from sklearn.linear_model import LogisticRegression\n",
    "from sklearn.svm import NuSVC\n",
    "from sklearn.ensemble import RandomForestClassifier\n",
    "from sklearn.linear_model import SGDClassifier"
   ]
  },
  {
   "cell_type": "code",
   "execution_count": 12,
   "metadata": {},
   "outputs": [],
   "source": [
    "def get_score(model, X_train_gs, X_test_gs, y_train_gs, y_test_gs):\n",
    "    model.fit(X_train_gs, y_train_gs)\n",
    "    return model.score(X_test_gs, y_test_gs)"
   ]
  },
  {
   "cell_type": "markdown",
   "metadata": {},
   "source": [
    "**Test and Fit the models**"
   ]
  },
  {
   "cell_type": "code",
   "execution_count": 13,
   "metadata": {},
   "outputs": [],
   "source": [
    "skfold = StratifiedKFold(n_splits = 5)\n",
    "\n",
    "#Define algorithms:\n",
    "model_lr = LogisticRegression()\n",
    "model_sgd = SGDClassifier()\n",
    "model_svm = NuSVC()\n",
    "model_rf = RandomForestClassifier()\n",
    "\n",
    "#Define lists for each algorithm\n",
    "score_lr = []\n",
    "score_svm = []\n",
    "score_rf = []\n",
    "score_sgd = []\n",
    "\n",
    "X_split = X_train_ohv\n",
    "y_split = y_train_ohv\n",
    "for train_index, val_index in skfold.split(X_split, y_split):\n",
    "    X_train_kf, X_test_kf, y_train_kf, y_test_kf = X_split.iloc[train_index],X_split.iloc[val_index], y_split[train_index],y_split[val_index]\n",
    "    score_lr.append(get_score(model_lr,X_train_kf,X_test_kf,y_train_kf,y_test_kf))\n",
    "    score_svm.append(get_score(model_svm,X_train_kf,X_test_kf,y_train_kf,y_test_kf))\n",
    "    score_rf.append(get_score(model_rf,X_train_kf,X_test_kf,y_train_kf,y_test_kf))\n",
    "    score_sgd.append(get_score(model_sgd,X_train_kf,X_test_kf,y_train_kf,y_test_kf))   "
   ]
  },
  {
   "cell_type": "code",
   "execution_count": 14,
   "metadata": {},
   "outputs": [
    {
     "name": "stdout",
     "output_type": "stream",
     "text": [
      "LR: 0.918\n",
      "SGD: 0.887\n",
      "SVM: 0.934\n",
      "RF: 0.962\n",
      "[0.945054945054945, 0.9010989010989011, 0.9555555555555556, 0.8777777777777778, 0.9111111111111111]\n",
      "[0.9120879120879121, 0.8901098901098901, 0.9111111111111111, 0.8777777777777778, 0.8444444444444444]\n",
      "[0.9560439560439561, 0.9340659340659341, 0.9444444444444444, 0.9222222222222223, 0.9111111111111111]\n",
      "[0.967032967032967, 0.978021978021978, 0.9555555555555556, 0.9666666666666667, 0.9444444444444444]\n"
     ]
    }
   ],
   "source": [
    "import statistics\n",
    "\n",
    "print('LR: %.3f' %statistics.mean(score_lr))\n",
    "print('SGD: %.3f' %statistics.mean(score_sgd))\n",
    "print('SVM: %.3f' %statistics.mean(score_svm))\n",
    "print('RF: %.3f' %statistics.mean(score_rf))\n",
    "print((score_lr))\n",
    "print((score_sgd))\n",
    "print((score_svm))\n",
    "print((score_rf))"
   ]
  },
  {
   "cell_type": "code",
   "execution_count": null,
   "metadata": {},
   "outputs": [],
   "source": []
  },
  {
   "cell_type": "markdown",
   "metadata": {},
   "source": [
    "# **Q6 - Feature importance**"
   ]
  },
  {
   "cell_type": "markdown",
   "metadata": {},
   "source": [
    "We shall use the random forest model from the previous section."
   ]
  },
  {
   "cell_type": "code",
   "execution_count": 15,
   "metadata": {},
   "outputs": [
    {
     "data": {
      "image/png": "[encoded data removed]",
      "text/plain": [
       "<Figure size 432x288 with 1 Axes>"
      ]
     },
     "metadata": {
      "needs_background": "light"
     },
     "output_type": "display_data"
    }
   ],
   "source": [
    "# get importance\n",
    "importance = model_rf.feature_importances_\n",
    "# summarize feature importance\n",
    "# for i,v in enumerate(importance):\n",
    "# \tprint('Feature: %0d, Score: %.5f' % (i,v))\n",
    "# plot feature importance\n",
    "labels = ['Gender_M','Gender_F', 'Increased Urination_T','Increased Urination_F', 'Increased Thirst_T',\n",
    "       'Increased Thirst_F','Sudden Weight Loss_T','Sudden Weight Loss_F', 'Weakness_T','Weakness_F',\n",
    "        'Increased Hunger_T','Increased Hunger_F','Genital Thrush_T','Genital Thrush_F', 'Visual Blurring_T','Visual Blurring_F',  \n",
    "        'Itching_T','Itching_F', 'Irritability_T','Irritability_F','Delayed Healing_T','Delayed Healing_F',\n",
    "        'Partial Paresis_T','Partial Paresis_F', 'Muscle Stiffness_T','Muscle Stiffness_F', 'Hair Loss_T','Hair Loss_F',\n",
    "        'Obesity_T','Obesity_F','Family History_T','Family History_F']\n",
    "t= np.arange(0,32)\n",
    "plt.bar([x for x in range(len(importance))], importance)\n",
    "plt.xticks(t,labels, rotation='vertical',fontsize = '10')\n",
    "plt.show()"
   ]
  },
  {
   "cell_type": "markdown",
   "metadata": {},
   "source": [
    "1. As we can see, the 2 most important features are increased urination and increased thirst.\n",
    "\n",
    "2. This matches up with the feature - label correlation from Q3. Looking at the graphs, we can see that these features are the most meaningful ones since they have the largest number of diagnosed patients. Also, among the patients who do have increased urination\\thirst, the number of the healthy ones is the lowest in comparison to the diagnsed ones."
   ]
  },
  {
   "cell_type": "markdown",
   "metadata": {},
   "source": [
    "# **Q7 - Data Separability Visualization**"
   ]
  },
  {
   "cell_type": "markdown",
   "metadata": {},
   "source": [
    "Section a"
   ]
  },
  {
   "cell_type": "code",
   "execution_count": 17,
   "metadata": {},
   "outputs": [],
   "source": [
    "from sklearn.decomposition import PCA\n",
    "from sklearn.preprocessing import StandardScaler\n",
    "n_components = 2\n",
    "pca = PCA(n_components=n_components, whiten=True)\n",
    "scaler = StandardScaler()\n",
    "X_train_copy = scaler.fit_transform(X_train)\n",
    "X_test_copy = scaler.transform(X_test)\n",
    "X_train_pca = pca.fit_transform(X_train_copy)\n",
    "X_test_pca = pca.transform(X_test_copy)"
   ]
  },
  {
   "cell_type": "code",
   "execution_count": 18,
   "metadata": {},
   "outputs": [],
   "source": [
    "def plt_2d_pca(X_pca,y):\n",
    "    fig = plt.figure(figsize=(8, 8))\n",
    "    ax = fig.add_subplot(111, aspect='equal')\n",
    "    ax.scatter(X_pca[y==0, 0], X_pca[y==0, 1], color='b')\n",
    "    ax.scatter(X_pca[y==1, 0], X_pca[y==1, 1], color='r')\n",
    "    ax.legend(('Negative','Positive'))\n",
    "    ax.plot([0], [0], \"ko\")\n",
    "    ax.arrow(0, 0, 0, 1, head_width=0.05, length_includes_head=True, head_length=0.1, fc='k', ec='k')\n",
    "    ax.arrow(0, 0, 1, 0, head_width=0.05, length_includes_head=True, head_length=0.1, fc='k', ec='k')\n",
    "    ax.set_xlabel('$U_1$')\n",
    "    ax.set_ylabel('$U_2$')\n",
    "    ax.set_title('2D PCA')"
   ]
  },
  {
   "cell_type": "code",
   "execution_count": 19,
   "metadata": {},
   "outputs": [
    {
     "data": {
      "image/png": "[encoded data removed]",
      "text/plain": [
       "<Figure size 576x576 with 1 Axes>"
      ]
     },
     "metadata": {
      "needs_background": "light"
     },
     "output_type": "display_data"
    }
   ],
   "source": [
    "plt_2d_pca(X_test_pca,y_test)"
   ]
  },
  {
   "cell_type": "markdown",
   "metadata": {},
   "source": [
    "Section b"
   ]
  },
  {
   "cell_type": "markdown",
   "metadata": {},
   "source": [
    "As can be seen above, the data is not linearly seperable. It is possible to use a linear classifier, however the boundary condition may be misleading."
   ]
  },
  {
   "cell_type": "markdown",
   "metadata": {},
   "source": [
    "Section c"
   ]
  },
  {
   "cell_type": "code",
   "execution_count": 20,
   "metadata": {},
   "outputs": [],
   "source": [
    "from sklearn.metrics import plot_confusion_matrix, roc_auc_score\n",
    "from sklearn.metrics import confusion_matrix\n",
    "from sklearn.metrics import log_loss\n",
    "from sklearn.metrics import hinge_loss\n",
    "calc_TN = lambda y_true, y_pred: confusion_matrix(y_true, y_pred)[0, 0]\n",
    "calc_FP = lambda y_true, y_pred: confusion_matrix(y_true, y_pred)[0, 1]\n",
    "calc_FN = lambda y_true, y_pred: confusion_matrix(y_true, y_pred)[1, 0]\n",
    "calc_TP = lambda y_true, y_pred: confusion_matrix(y_true, y_pred)[1, 1]"
   ]
  },
  {
   "cell_type": "code",
   "execution_count": 21,
   "metadata": {},
   "outputs": [
    {
     "name": "stdout",
     "output_type": "stream",
     "text": [
      "Accuracy is 0.84. \n",
      "F1 is 0.87. \n",
      "Loss is 5.50 \n",
      "AUC is 0.84 \n"
     ]
    }
   ],
   "source": [
    "logreg = LogisticRegression(solver='saga', multi_class='ovr', penalty='l1', C=1, max_iter=10000, random_state=10)\n",
    "logreg.fit(X_train_pca, y_train)\n",
    "y_pred_test = logreg.predict(X_test_pca)\n",
    "TN = calc_TN(y_test, y_pred_test)\n",
    "FP = calc_FP(y_test, y_pred_test)\n",
    "FN = calc_FN(y_test, y_pred_test)\n",
    "TP = calc_TP(y_test, y_pred_test)\n",
    "Se = TP/(TP+FN)\n",
    "Sp = TN/(TN+FP)\n",
    "PPV = TP/(TP+FP)\n",
    "Acc = (TP+TN)/(TP+TN+FP+FN)\n",
    "F1 = (2*Se*PPV)/(Se+PPV)\n",
    "loss = log_loss(y_test, y_pred_test)\n",
    "AUC = metrics.roc_auc_score(y_test, y_pred_test)\n",
    "print('Accuracy is {:.2f}. \\nF1 is {:.2f}. \\nLoss is {:.2f} \\nAUC is {:.2f} '.format(Acc,F1,loss,AUC))"
   ]
  },
  {
   "cell_type": "code",
   "execution_count": 22,
   "metadata": {},
   "outputs": [
    {
     "data": {
      "text/plain": [
       "SVC(C=100, gamma='auto', probability=True)"
      ]
     },
     "execution_count": 22,
     "metadata": {},
     "output_type": "execute_result"
    }
   ],
   "source": [
    "from sklearn.pipeline import Pipeline\n",
    "from sklearn.svm import SVC\n",
    "from sklearn.model_selection import GridSearchCV\n",
    "svc = SVC(C=100, kernel='rbf',gamma='auto',probability=True)\n",
    "svc.fit(X_train_pca, y_train)  "
   ]
  },
  {
   "cell_type": "code",
   "execution_count": 23,
   "metadata": {},
   "outputs": [
    {
     "name": "stdout",
     "output_type": "stream",
     "text": [
      "Accuracy is 0.84. \n",
      "F1 is 0.87. \n",
      "Loss is 5.50 \n",
      "AUC is 0.87 \n"
     ]
    }
   ],
   "source": [
    "\n",
    "y_pred_test1 = svc.predict(X_test_pca) \n",
    "TN1 = calc_TN(y_test, y_pred_test1)\n",
    "FP1 = calc_FP(y_test, y_pred_test1)\n",
    "FN1 = calc_FN(y_test, y_pred_test1)\n",
    "TP1 = calc_TP(y_test, y_pred_test1)\n",
    "Se1 = TP1/(TP1+FN1)\n",
    "Sp1 = TN1/(TN1+FP1)\n",
    "PPV1 = TP1/(TP1+FP1)\n",
    "Acc1 = (TP1+TN1)/(TP1+TN1+FP1+FN1)\n",
    "F11 = (2*Se1*PPV1)/(Se1+PPV1)\n",
    "loss3 = hinge_loss(y_test, y_pred_test1)\n",
    "AUC1 = metrics.roc_auc_score(y_test, y_pred_test1)\n",
    "print('Accuracy is {:.2f}. \\nF1 is {:.2f}. \\nLoss is {:.2f} \\nAUC is {:.2f} '.format(Acc,F1,loss,AUC1))"
   ]
  },
  {
   "cell_type": "markdown",
   "metadata": {},
   "source": [
    "Section d"
   ]
  },
  {
   "cell_type": "code",
   "execution_count": 26,
   "metadata": {},
   "outputs": [],
   "source": [
    "feat_name =['Increased Urination','Increased Thirst']\n",
    "X_train_2feat = X_train[feat_name]\n",
    "X_test_2feat =  X_test[feat_name]"
   ]
  },
  {
   "cell_type": "code",
   "execution_count": 27,
   "metadata": {},
   "outputs": [
    {
     "name": "stdout",
     "output_type": "stream",
     "text": [
      "Accuracy is 0.84. \n",
      "F1 is 0.87. \n",
      "Loss is 5.50 \n",
      "AUC is 0.47 \n"
     ]
    }
   ],
   "source": [
    "logreg1 = LogisticRegression(solver='saga', multi_class='ovr', penalty='l1', C=1, max_iter=10000, random_state=10)\n",
    "logreg1.fit(X_train_2feat, y_train)\n",
    "y_pred_test2 = logreg.predict(X_test_2feat) \n",
    "TN2 = calc_TN(y_test, y_pred_test2)\n",
    "FP2 = calc_FP(y_test, y_pred_test2)\n",
    "FN2 = calc_FN(y_test, y_pred_test2)\n",
    "TP2 = calc_TP(y_test, y_pred_test2)\n",
    "Se2 = TP2/(TP2+FN2)\n",
    "Sp2 = TN2/(TN2+FP2)\n",
    "PPV2 = TP2/(TP2+FP2)\n",
    "Acc2 = (TP2+TN2)/(TP2+TN2+FP2+FN2)\n",
    "F12 = (2*Se*PPV)/(Se2+PPV2)\n",
    "loss2 = log_loss(y_test, y_pred_test2)\n",
    "AUC2 = metrics.roc_auc_score(y_test, y_pred_test2)\n",
    "print('Accuracy is {:.2f}. \\nF1 is {:.2f}. \\nLoss is {:.2f} \\nAUC is {:.2f} '.format(Acc,F1,loss,AUC2))"
   ]
  },
  {
   "cell_type": "code",
   "execution_count": 28,
   "metadata": {},
   "outputs": [
    {
     "name": "stdout",
     "output_type": "stream",
     "text": [
      "Accuracy is 0.84. \n",
      "F1 is 0.87. \n",
      "Loss is 5.50 \n",
      "AUC is 0.50 \n"
     ]
    }
   ],
   "source": [
    "svc1 = SVC(C=100, kernel='rbf',gamma='auto',probability=True)\n",
    "svc1.fit(X_train_2feat, y_train)  \n",
    "y_pred_test3 = svc.predict(X_test_2feat) \n",
    "TN3 = calc_TN(y_test, y_pred_test3)\n",
    "FP3 = calc_FP(y_test, y_pred_test3)\n",
    "FN3 = calc_FN(y_test, y_pred_test3)\n",
    "TP3 = calc_TP(y_test, y_pred_test3)\n",
    "Se3 = TP3/(TP3+FN3)\n",
    "Sp3 = TN3/(TN3+FP3)\n",
    "PPV3 = TP3/(TP3+FP3)\n",
    "Acc3 = (TP3+TN3)/(TP3+TN3+FP3+FN3)\n",
    "F13 = (2*Se3*PPV3)/(Se3+PPV3)\n",
    "loss5 = hinge_loss(y_test, y_pred_test3)\n",
    "AUC3 = metrics.roc_auc_score(y_test, y_pred_test3)\n",
    "print('Accuracy is {:.2f}. \\nF1 is {:.2f}. \\nLoss is {:.2f} \\nAUC is {:.2f} '.format(Acc,F1,loss,AUC3))\n"
   ]
  },
  {
   "cell_type": "code",
   "execution_count": null,
   "metadata": {},
   "outputs": [],
   "source": []
  }
 ],
 "metadata": {
  "kernelspec": {
   "display_name": "Python 3",
   "language": "python",
   "name": "python3"
  },
  "language_info": {
   "codemirror_mode": {
    "name": "ipython",
    "version": 3
   },
   "file_extension": ".py",
   "mimetype": "text/x-python",
   "name": "python",
   "nbconvert_exporter": "python",
   "pygments_lexer": "ipython3",
   "version": "3.7.9"
  }
 },
 "nbformat": 4,
 "nbformat_minor": 4
}
