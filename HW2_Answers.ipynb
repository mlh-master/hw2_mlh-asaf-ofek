{
 "cells": [
  {
   "cell_type": "markdown",
   "metadata": {},
   "source": [
    "***HW2 - Detecting Type 1 Diabetes***"
   ]
  },
  {
   "cell_type": "markdown",
   "metadata": {},
   "source": [
    "# Theory Assignment"
   ]
  },
  {
   "cell_type": "markdown",
   "metadata": {},
   "source": [
    "**A1**\n",
    "\n",
    "For our opinion, when it comes to healthcare ML algorithms, Accuracy is more important than performance.\n",
    "Because we're speaking on human lives, it is better to be more precise than, for example, when estimating house value.\n",
    "\n",
    "האם התכוונו כאן לביצועיות של המודל? כלומר למהירות בה הוא מגיע לתוצאות?"
   ]
  },
  {
   "cell_type": "markdown",
   "metadata": {},
   "source": [
    "**A2**\n",
    "\n",
    "Too many features is often a bad thing. It may lead to Overfitting, meaning that the fitting of your parameters is too tightly to the training data. This results in model discovering random noise in the finite training set instead of the wider relationship between the features and the output variable. Consequently, the model will often perform very well on the training data but perform quite poorly on the test data.\n",
    "In conclusion, overfitting may be done due to choosing all features, especially whenn taking irrelevant feature like income.\n",
    "\n",
    "On the other hand, choosing only 2 features for such complex problem may cause under-fitting. meaning that both training accuracy and testing accuracy will be poor.\n"
   ]
  },
  {
   "cell_type": "markdown",
   "metadata": {},
   "source": [
    "# Coding Assignment:"
   ]
  },
  {
   "cell_type": "markdown",
   "metadata": {},
   "source": [
    "Import and load packages:"
   ]
  },
  {
   "cell_type": "code",
   "execution_count": 1,
   "metadata": {},
   "outputs": [],
   "source": [
    "import pandas as pd \n",
    "import numpy as np\n",
    "from pathlib import Path\n",
    "import random\n",
    "import distutils\n",
    "from sklearn import metrics\n",
    "from sklearn.model_selection import train_test_split\n",
    "import matplotlib.pyplot as plt\n",
    "from Ext_Functions import str_to_bool_series"
   ]
  },
  {
   "cell_type": "markdown",
   "metadata": {},
   "source": [
    "# **Q1 - Data loading and preprocessing:**"
   ]
  },
  {
   "cell_type": "code",
   "execution_count": 2,
   "metadata": {},
   "outputs": [],
   "source": [
    "def nan2num(dataframe):\n",
    "    \"\"\"\n",
    "    :param dataframe: Pandas series of features\n",
    "    :return: A pandas dataframe of the dictionary c_cdf containing the \"clean\" features\n",
    "    \"\"\"\n",
    "    # dataframe = pd.DataFrame(dataframe).drop(extra_feature, 1)\n",
    "    c_cdf = {}\n",
    "    c_cdf = dataframe\n",
    "    for column in dataframe.columns:\n",
    "        if column == 'Age':\n",
    "            i=0\n",
    "        else:\n",
    "            replacing_value = np.random.choice(dataframe[column])\n",
    "            c_cdf[column].replace(to_replace= np.nan , value=replacing_value, inplace = True)\n",
    "    return pd.DataFrame(c_cdf)\n",
    "\n",
    "def str_to_bool_series(s_orig):\n",
    "    s = s_orig.copy()\n",
    "    for index, value in s.items():\n",
    "        if(value=='Yes'):\n",
    "            s[index] = 1\n",
    "        elif(value=='No'):\n",
    "            s[index] = 0\n",
    "        elif(value=='Male'):\n",
    "            s[index] = 1\n",
    "        elif(value == 'Female'):\n",
    "            s[index] = 0\n",
    "        elif(value=='Positive'):\n",
    "            s[index] = 1\n",
    "        elif (value == 'Negative'):\n",
    "            s[index] = 0\n",
    "#         elif(value==1):\n",
    "#             s[index] = True\n",
    "#         elif(value==0):\n",
    "#             s[index] = False\n",
    "    return s"
   ]
  },
  {
   "cell_type": "markdown",
   "metadata": {},
   "source": [
    "Load data:"
   ]
  },
  {
   "cell_type": "code",
   "execution_count": 3,
   "metadata": {},
   "outputs": [],
   "source": [
    "df_orig = pd.read_csv('HW2_data.csv')"
   ]
  },
  {
   "cell_type": "markdown",
   "metadata": {},
   "source": [
    "Transfer all data to numeric values:"
   ]
  },
  {
   "cell_type": "code",
   "execution_count": 4,
   "metadata": {},
   "outputs": [
    {
     "data": {
      "text/html": [
       "<div>\n",
       "<style scoped>\n",
       "    .dataframe tbody tr th:only-of-type {\n",
       "        vertical-align: middle;\n",
       "    }\n",
       "\n",
       "    .dataframe tbody tr th {\n",
       "        vertical-align: top;\n",
       "    }\n",
       "\n",
       "    .dataframe thead th {\n",
       "        text-align: right;\n",
       "    }\n",
       "</style>\n",
       "<table border=\"1\" class=\"dataframe\">\n",
       "  <thead>\n",
       "    <tr style=\"text-align: right;\">\n",
       "      <th></th>\n",
       "      <th>Age</th>\n",
       "      <th>Gender</th>\n",
       "      <th>Increased Urination</th>\n",
       "      <th>Increased Thirst</th>\n",
       "      <th>Sudden Weight Loss</th>\n",
       "      <th>Weakness</th>\n",
       "      <th>Increased Hunger</th>\n",
       "      <th>Genital Thrush</th>\n",
       "      <th>Visual Blurring</th>\n",
       "      <th>Itching</th>\n",
       "      <th>Irritability</th>\n",
       "      <th>Delayed Healing</th>\n",
       "      <th>Partial Paresis</th>\n",
       "      <th>Muscle Stiffness</th>\n",
       "      <th>Hair Loss</th>\n",
       "      <th>Obesity</th>\n",
       "      <th>Diagnosis</th>\n",
       "      <th>Family History</th>\n",
       "    </tr>\n",
       "  </thead>\n",
       "  <tbody>\n",
       "    <tr>\n",
       "      <th>560</th>\n",
       "      <td>54</td>\n",
       "      <td>1</td>\n",
       "      <td>1</td>\n",
       "      <td>1</td>\n",
       "      <td>1</td>\n",
       "      <td>1</td>\n",
       "      <td>0</td>\n",
       "      <td>NaN</td>\n",
       "      <td>1</td>\n",
       "      <td>1</td>\n",
       "      <td>1</td>\n",
       "      <td>1</td>\n",
       "      <td>1</td>\n",
       "      <td>1</td>\n",
       "      <td>0</td>\n",
       "      <td>0</td>\n",
       "      <td>1</td>\n",
       "      <td>0</td>\n",
       "    </tr>\n",
       "    <tr>\n",
       "      <th>561</th>\n",
       "      <td>32</td>\n",
       "      <td>1</td>\n",
       "      <td>0</td>\n",
       "      <td>0</td>\n",
       "      <td>0</td>\n",
       "      <td>0</td>\n",
       "      <td>0</td>\n",
       "      <td>NaN</td>\n",
       "      <td>0</td>\n",
       "      <td>0</td>\n",
       "      <td>1</td>\n",
       "      <td>1</td>\n",
       "      <td>0</td>\n",
       "      <td>0</td>\n",
       "      <td>0</td>\n",
       "      <td>1</td>\n",
       "      <td>1</td>\n",
       "      <td>0</td>\n",
       "    </tr>\n",
       "    <tr>\n",
       "      <th>562</th>\n",
       "      <td>61</td>\n",
       "      <td>0</td>\n",
       "      <td>1</td>\n",
       "      <td>0</td>\n",
       "      <td>0</td>\n",
       "      <td>0</td>\n",
       "      <td>1</td>\n",
       "      <td>0</td>\n",
       "      <td>0</td>\n",
       "      <td>0</td>\n",
       "      <td>1</td>\n",
       "      <td>0</td>\n",
       "      <td>0</td>\n",
       "      <td>0</td>\n",
       "      <td>1</td>\n",
       "      <td>0</td>\n",
       "      <td>1</td>\n",
       "      <td>1</td>\n",
       "    </tr>\n",
       "    <tr>\n",
       "      <th>563</th>\n",
       "      <td>46</td>\n",
       "      <td>1</td>\n",
       "      <td>0</td>\n",
       "      <td>0</td>\n",
       "      <td>0</td>\n",
       "      <td>1</td>\n",
       "      <td>0</td>\n",
       "      <td>0</td>\n",
       "      <td>0</td>\n",
       "      <td>1</td>\n",
       "      <td>0</td>\n",
       "      <td>1</td>\n",
       "      <td>0</td>\n",
       "      <td>0</td>\n",
       "      <td>1</td>\n",
       "      <td>0</td>\n",
       "      <td>0</td>\n",
       "      <td>0</td>\n",
       "    </tr>\n",
       "    <tr>\n",
       "      <th>564</th>\n",
       "      <td>37</td>\n",
       "      <td>1</td>\n",
       "      <td>0</td>\n",
       "      <td>0</td>\n",
       "      <td>0</td>\n",
       "      <td>0</td>\n",
       "      <td>0</td>\n",
       "      <td>0</td>\n",
       "      <td>0</td>\n",
       "      <td>0</td>\n",
       "      <td>0</td>\n",
       "      <td>0</td>\n",
       "      <td>0</td>\n",
       "      <td>0</td>\n",
       "      <td>0</td>\n",
       "      <td>0</td>\n",
       "      <td>0</td>\n",
       "      <td>0</td>\n",
       "    </tr>\n",
       "  </tbody>\n",
       "</table>\n",
       "</div>"
      ],
      "text/plain": [
       "     Age Gender Increased Urination Increased Thirst Sudden Weight Loss  \\\n",
       "560   54      1                   1                1                  1   \n",
       "561   32      1                   0                0                  0   \n",
       "562   61      0                   1                0                  0   \n",
       "563   46      1                   0                0                  0   \n",
       "564   37      1                   0                0                  0   \n",
       "\n",
       "    Weakness Increased Hunger Genital Thrush Visual Blurring Itching  \\\n",
       "560        1                0            NaN               1       1   \n",
       "561        0                0            NaN               0       0   \n",
       "562        0                1              0               0       0   \n",
       "563        1                0              0               0       1   \n",
       "564        0                0              0               0       0   \n",
       "\n",
       "    Irritability Delayed Healing Partial Paresis Muscle Stiffness Hair Loss  \\\n",
       "560            1               1               1                1         0   \n",
       "561            1               1               0                0         0   \n",
       "562            1               0               0                0         1   \n",
       "563            0               1               0                0         1   \n",
       "564            0               0               0                0         0   \n",
       "\n",
       "    Obesity Diagnosis  Family History  \n",
       "560       0         1               0  \n",
       "561       1         1               0  \n",
       "562       0         1               1  \n",
       "563       0         0               0  \n",
       "564       0         0               0  "
      ]
     },
     "execution_count": 4,
     "metadata": {},
     "output_type": "execute_result"
    }
   ],
   "source": [
    "from Ext_Functions import nan2num\n",
    "\n",
    "df = df_orig\n",
    "for column in df.columns:\n",
    "    df[column] = str_to_bool_series(df_orig[column])\n",
    "df.tail()"
   ]
  },
  {
   "cell_type": "markdown",
   "metadata": {},
   "source": [
    "Clean NaN's:\n"
   ]
  },
  {
   "cell_type": "code",
   "execution_count": 5,
   "metadata": {},
   "outputs": [
    {
     "data": {
      "text/html": [
       "<div>\n",
       "<style scoped>\n",
       "    .dataframe tbody tr th:only-of-type {\n",
       "        vertical-align: middle;\n",
       "    }\n",
       "\n",
       "    .dataframe tbody tr th {\n",
       "        vertical-align: top;\n",
       "    }\n",
       "\n",
       "    .dataframe thead th {\n",
       "        text-align: right;\n",
       "    }\n",
       "</style>\n",
       "<table border=\"1\" class=\"dataframe\">\n",
       "  <thead>\n",
       "    <tr style=\"text-align: right;\">\n",
       "      <th></th>\n",
       "      <th>Age</th>\n",
       "      <th>Gender</th>\n",
       "      <th>Increased Urination</th>\n",
       "      <th>Increased Thirst</th>\n",
       "      <th>Sudden Weight Loss</th>\n",
       "      <th>Weakness</th>\n",
       "      <th>Increased Hunger</th>\n",
       "      <th>Genital Thrush</th>\n",
       "      <th>Visual Blurring</th>\n",
       "      <th>Itching</th>\n",
       "      <th>Irritability</th>\n",
       "      <th>Delayed Healing</th>\n",
       "      <th>Partial Paresis</th>\n",
       "      <th>Muscle Stiffness</th>\n",
       "      <th>Hair Loss</th>\n",
       "      <th>Obesity</th>\n",
       "      <th>Diagnosis</th>\n",
       "      <th>Family History</th>\n",
       "    </tr>\n",
       "  </thead>\n",
       "  <tbody>\n",
       "    <tr>\n",
       "      <th>560</th>\n",
       "      <td>54</td>\n",
       "      <td>1</td>\n",
       "      <td>1</td>\n",
       "      <td>1</td>\n",
       "      <td>1</td>\n",
       "      <td>1</td>\n",
       "      <td>0</td>\n",
       "      <td>0</td>\n",
       "      <td>1</td>\n",
       "      <td>1</td>\n",
       "      <td>1</td>\n",
       "      <td>1</td>\n",
       "      <td>1</td>\n",
       "      <td>1</td>\n",
       "      <td>0</td>\n",
       "      <td>0</td>\n",
       "      <td>1</td>\n",
       "      <td>0</td>\n",
       "    </tr>\n",
       "    <tr>\n",
       "      <th>561</th>\n",
       "      <td>32</td>\n",
       "      <td>1</td>\n",
       "      <td>0</td>\n",
       "      <td>0</td>\n",
       "      <td>0</td>\n",
       "      <td>0</td>\n",
       "      <td>0</td>\n",
       "      <td>0</td>\n",
       "      <td>0</td>\n",
       "      <td>0</td>\n",
       "      <td>1</td>\n",
       "      <td>1</td>\n",
       "      <td>0</td>\n",
       "      <td>0</td>\n",
       "      <td>0</td>\n",
       "      <td>1</td>\n",
       "      <td>1</td>\n",
       "      <td>0</td>\n",
       "    </tr>\n",
       "    <tr>\n",
       "      <th>562</th>\n",
       "      <td>61</td>\n",
       "      <td>0</td>\n",
       "      <td>1</td>\n",
       "      <td>0</td>\n",
       "      <td>0</td>\n",
       "      <td>0</td>\n",
       "      <td>1</td>\n",
       "      <td>0</td>\n",
       "      <td>0</td>\n",
       "      <td>0</td>\n",
       "      <td>1</td>\n",
       "      <td>0</td>\n",
       "      <td>0</td>\n",
       "      <td>0</td>\n",
       "      <td>1</td>\n",
       "      <td>0</td>\n",
       "      <td>1</td>\n",
       "      <td>1</td>\n",
       "    </tr>\n",
       "    <tr>\n",
       "      <th>563</th>\n",
       "      <td>46</td>\n",
       "      <td>1</td>\n",
       "      <td>0</td>\n",
       "      <td>0</td>\n",
       "      <td>0</td>\n",
       "      <td>1</td>\n",
       "      <td>0</td>\n",
       "      <td>0</td>\n",
       "      <td>0</td>\n",
       "      <td>1</td>\n",
       "      <td>0</td>\n",
       "      <td>1</td>\n",
       "      <td>0</td>\n",
       "      <td>0</td>\n",
       "      <td>1</td>\n",
       "      <td>0</td>\n",
       "      <td>0</td>\n",
       "      <td>0</td>\n",
       "    </tr>\n",
       "    <tr>\n",
       "      <th>564</th>\n",
       "      <td>37</td>\n",
       "      <td>1</td>\n",
       "      <td>0</td>\n",
       "      <td>0</td>\n",
       "      <td>0</td>\n",
       "      <td>0</td>\n",
       "      <td>0</td>\n",
       "      <td>0</td>\n",
       "      <td>0</td>\n",
       "      <td>0</td>\n",
       "      <td>0</td>\n",
       "      <td>0</td>\n",
       "      <td>0</td>\n",
       "      <td>0</td>\n",
       "      <td>0</td>\n",
       "      <td>0</td>\n",
       "      <td>0</td>\n",
       "      <td>0</td>\n",
       "    </tr>\n",
       "  </tbody>\n",
       "</table>\n",
       "</div>"
      ],
      "text/plain": [
       "     Age  Gender  Increased Urination  Increased Thirst  Sudden Weight Loss  \\\n",
       "560   54       1                    1                 1                   1   \n",
       "561   32       1                    0                 0                   0   \n",
       "562   61       0                    1                 0                   0   \n",
       "563   46       1                    0                 0                   0   \n",
       "564   37       1                    0                 0                   0   \n",
       "\n",
       "     Weakness  Increased Hunger  Genital Thrush  Visual Blurring  Itching  \\\n",
       "560         1                 0               0                1        1   \n",
       "561         0                 0               0                0        0   \n",
       "562         0                 1               0                0        0   \n",
       "563         1                 0               0                0        1   \n",
       "564         0                 0               0                0        0   \n",
       "\n",
       "     Irritability  Delayed Healing  Partial Paresis  Muscle Stiffness  \\\n",
       "560             1                1                1                 1   \n",
       "561             1                1                0                 0   \n",
       "562             1                0                0                 0   \n",
       "563             0                1                0                 0   \n",
       "564             0                0                0                 0   \n",
       "\n",
       "     Hair Loss  Obesity  Diagnosis  Family History  \n",
       "560          0        0          1               0  \n",
       "561          0        1          1               0  \n",
       "562          1        0          1               1  \n",
       "563          1        0          0               0  \n",
       "564          0        0          0               0  "
      ]
     },
     "execution_count": 5,
     "metadata": {},
     "output_type": "execute_result"
    }
   ],
   "source": [
    "t1d_clean = nan2num(df)\n",
    "t1d_clean.tail()"
   ]
  },
  {
   "cell_type": "markdown",
   "metadata": {},
   "source": [
    "Scale Age column:"
   ]
  },
  {
   "cell_type": "code",
   "execution_count": 6,
   "metadata": {},
   "outputs": [
    {
     "data": {
      "text/html": [
       "<div>\n",
       "<style scoped>\n",
       "    .dataframe tbody tr th:only-of-type {\n",
       "        vertical-align: middle;\n",
       "    }\n",
       "\n",
       "    .dataframe tbody tr th {\n",
       "        vertical-align: top;\n",
       "    }\n",
       "\n",
       "    .dataframe thead th {\n",
       "        text-align: right;\n",
       "    }\n",
       "</style>\n",
       "<table border=\"1\" class=\"dataframe\">\n",
       "  <thead>\n",
       "    <tr style=\"text-align: right;\">\n",
       "      <th></th>\n",
       "      <th>Age</th>\n",
       "      <th>Gender</th>\n",
       "      <th>Increased Urination</th>\n",
       "      <th>Increased Thirst</th>\n",
       "      <th>Sudden Weight Loss</th>\n",
       "      <th>Weakness</th>\n",
       "      <th>Increased Hunger</th>\n",
       "      <th>Genital Thrush</th>\n",
       "      <th>Visual Blurring</th>\n",
       "      <th>Itching</th>\n",
       "      <th>Irritability</th>\n",
       "      <th>Delayed Healing</th>\n",
       "      <th>Partial Paresis</th>\n",
       "      <th>Muscle Stiffness</th>\n",
       "      <th>Hair Loss</th>\n",
       "      <th>Obesity</th>\n",
       "      <th>Diagnosis</th>\n",
       "      <th>Family History</th>\n",
       "    </tr>\n",
       "  </thead>\n",
       "  <tbody>\n",
       "    <tr>\n",
       "      <th>0</th>\n",
       "      <td>0.391892</td>\n",
       "      <td>1</td>\n",
       "      <td>0</td>\n",
       "      <td>0</td>\n",
       "      <td>0</td>\n",
       "      <td>1</td>\n",
       "      <td>0</td>\n",
       "      <td>0</td>\n",
       "      <td>0</td>\n",
       "      <td>1</td>\n",
       "      <td>0</td>\n",
       "      <td>0</td>\n",
       "      <td>1</td>\n",
       "      <td>0</td>\n",
       "      <td>1</td>\n",
       "      <td>0</td>\n",
       "      <td>0</td>\n",
       "      <td>0</td>\n",
       "    </tr>\n",
       "    <tr>\n",
       "      <th>1</th>\n",
       "      <td>0.351351</td>\n",
       "      <td>1</td>\n",
       "      <td>0</td>\n",
       "      <td>0</td>\n",
       "      <td>0</td>\n",
       "      <td>0</td>\n",
       "      <td>0</td>\n",
       "      <td>0</td>\n",
       "      <td>0</td>\n",
       "      <td>0</td>\n",
       "      <td>0</td>\n",
       "      <td>0</td>\n",
       "      <td>0</td>\n",
       "      <td>0</td>\n",
       "      <td>1</td>\n",
       "      <td>0</td>\n",
       "      <td>0</td>\n",
       "      <td>0</td>\n",
       "    </tr>\n",
       "    <tr>\n",
       "      <th>2</th>\n",
       "      <td>0.391892</td>\n",
       "      <td>1</td>\n",
       "      <td>1</td>\n",
       "      <td>1</td>\n",
       "      <td>0</td>\n",
       "      <td>1</td>\n",
       "      <td>0</td>\n",
       "      <td>1</td>\n",
       "      <td>0</td>\n",
       "      <td>0</td>\n",
       "      <td>0</td>\n",
       "      <td>1</td>\n",
       "      <td>0</td>\n",
       "      <td>0</td>\n",
       "      <td>1</td>\n",
       "      <td>0</td>\n",
       "      <td>1</td>\n",
       "      <td>0</td>\n",
       "    </tr>\n",
       "    <tr>\n",
       "      <th>3</th>\n",
       "      <td>0.581081</td>\n",
       "      <td>0</td>\n",
       "      <td>0</td>\n",
       "      <td>0</td>\n",
       "      <td>0</td>\n",
       "      <td>0</td>\n",
       "      <td>0</td>\n",
       "      <td>0</td>\n",
       "      <td>0</td>\n",
       "      <td>0</td>\n",
       "      <td>0</td>\n",
       "      <td>0</td>\n",
       "      <td>0</td>\n",
       "      <td>0</td>\n",
       "      <td>0</td>\n",
       "      <td>0</td>\n",
       "      <td>1</td>\n",
       "      <td>1</td>\n",
       "    </tr>\n",
       "    <tr>\n",
       "      <th>4</th>\n",
       "      <td>0.324324</td>\n",
       "      <td>0</td>\n",
       "      <td>1</td>\n",
       "      <td>1</td>\n",
       "      <td>1</td>\n",
       "      <td>1</td>\n",
       "      <td>0</td>\n",
       "      <td>0</td>\n",
       "      <td>1</td>\n",
       "      <td>1</td>\n",
       "      <td>0</td>\n",
       "      <td>0</td>\n",
       "      <td>1</td>\n",
       "      <td>1</td>\n",
       "      <td>0</td>\n",
       "      <td>0</td>\n",
       "      <td>1</td>\n",
       "      <td>0</td>\n",
       "    </tr>\n",
       "    <tr>\n",
       "      <th>...</th>\n",
       "      <td>...</td>\n",
       "      <td>...</td>\n",
       "      <td>...</td>\n",
       "      <td>...</td>\n",
       "      <td>...</td>\n",
       "      <td>...</td>\n",
       "      <td>...</td>\n",
       "      <td>...</td>\n",
       "      <td>...</td>\n",
       "      <td>...</td>\n",
       "      <td>...</td>\n",
       "      <td>...</td>\n",
       "      <td>...</td>\n",
       "      <td>...</td>\n",
       "      <td>...</td>\n",
       "      <td>...</td>\n",
       "      <td>...</td>\n",
       "      <td>...</td>\n",
       "    </tr>\n",
       "    <tr>\n",
       "      <th>560</th>\n",
       "      <td>0.513514</td>\n",
       "      <td>1</td>\n",
       "      <td>1</td>\n",
       "      <td>1</td>\n",
       "      <td>1</td>\n",
       "      <td>1</td>\n",
       "      <td>0</td>\n",
       "      <td>0</td>\n",
       "      <td>1</td>\n",
       "      <td>1</td>\n",
       "      <td>1</td>\n",
       "      <td>1</td>\n",
       "      <td>1</td>\n",
       "      <td>1</td>\n",
       "      <td>0</td>\n",
       "      <td>0</td>\n",
       "      <td>1</td>\n",
       "      <td>0</td>\n",
       "    </tr>\n",
       "    <tr>\n",
       "      <th>561</th>\n",
       "      <td>0.216216</td>\n",
       "      <td>1</td>\n",
       "      <td>0</td>\n",
       "      <td>0</td>\n",
       "      <td>0</td>\n",
       "      <td>0</td>\n",
       "      <td>0</td>\n",
       "      <td>0</td>\n",
       "      <td>0</td>\n",
       "      <td>0</td>\n",
       "      <td>1</td>\n",
       "      <td>1</td>\n",
       "      <td>0</td>\n",
       "      <td>0</td>\n",
       "      <td>0</td>\n",
       "      <td>1</td>\n",
       "      <td>1</td>\n",
       "      <td>0</td>\n",
       "    </tr>\n",
       "    <tr>\n",
       "      <th>562</th>\n",
       "      <td>0.608108</td>\n",
       "      <td>0</td>\n",
       "      <td>1</td>\n",
       "      <td>0</td>\n",
       "      <td>0</td>\n",
       "      <td>0</td>\n",
       "      <td>1</td>\n",
       "      <td>0</td>\n",
       "      <td>0</td>\n",
       "      <td>0</td>\n",
       "      <td>1</td>\n",
       "      <td>0</td>\n",
       "      <td>0</td>\n",
       "      <td>0</td>\n",
       "      <td>1</td>\n",
       "      <td>0</td>\n",
       "      <td>1</td>\n",
       "      <td>1</td>\n",
       "    </tr>\n",
       "    <tr>\n",
       "      <th>563</th>\n",
       "      <td>0.405405</td>\n",
       "      <td>1</td>\n",
       "      <td>0</td>\n",
       "      <td>0</td>\n",
       "      <td>0</td>\n",
       "      <td>1</td>\n",
       "      <td>0</td>\n",
       "      <td>0</td>\n",
       "      <td>0</td>\n",
       "      <td>1</td>\n",
       "      <td>0</td>\n",
       "      <td>1</td>\n",
       "      <td>0</td>\n",
       "      <td>0</td>\n",
       "      <td>1</td>\n",
       "      <td>0</td>\n",
       "      <td>0</td>\n",
       "      <td>0</td>\n",
       "    </tr>\n",
       "    <tr>\n",
       "      <th>564</th>\n",
       "      <td>0.283784</td>\n",
       "      <td>1</td>\n",
       "      <td>0</td>\n",
       "      <td>0</td>\n",
       "      <td>0</td>\n",
       "      <td>0</td>\n",
       "      <td>0</td>\n",
       "      <td>0</td>\n",
       "      <td>0</td>\n",
       "      <td>0</td>\n",
       "      <td>0</td>\n",
       "      <td>0</td>\n",
       "      <td>0</td>\n",
       "      <td>0</td>\n",
       "      <td>0</td>\n",
       "      <td>0</td>\n",
       "      <td>0</td>\n",
       "      <td>0</td>\n",
       "    </tr>\n",
       "  </tbody>\n",
       "</table>\n",
       "<p>565 rows × 18 columns</p>\n",
       "</div>"
      ],
      "text/plain": [
       "          Age  Gender  Increased Urination  Increased Thirst  \\\n",
       "0    0.391892       1                    0                 0   \n",
       "1    0.351351       1                    0                 0   \n",
       "2    0.391892       1                    1                 1   \n",
       "3    0.581081       0                    0                 0   \n",
       "4    0.324324       0                    1                 1   \n",
       "..        ...     ...                  ...               ...   \n",
       "560  0.513514       1                    1                 1   \n",
       "561  0.216216       1                    0                 0   \n",
       "562  0.608108       0                    1                 0   \n",
       "563  0.405405       1                    0                 0   \n",
       "564  0.283784       1                    0                 0   \n",
       "\n",
       "     Sudden Weight Loss  Weakness  Increased Hunger  Genital Thrush  \\\n",
       "0                     0         1                 0               0   \n",
       "1                     0         0                 0               0   \n",
       "2                     0         1                 0               1   \n",
       "3                     0         0                 0               0   \n",
       "4                     1         1                 0               0   \n",
       "..                  ...       ...               ...             ...   \n",
       "560                   1         1                 0               0   \n",
       "561                   0         0                 0               0   \n",
       "562                   0         0                 1               0   \n",
       "563                   0         1                 0               0   \n",
       "564                   0         0                 0               0   \n",
       "\n",
       "     Visual Blurring  Itching  Irritability  Delayed Healing  Partial Paresis  \\\n",
       "0                  0        1             0                0                1   \n",
       "1                  0        0             0                0                0   \n",
       "2                  0        0             0                1                0   \n",
       "3                  0        0             0                0                0   \n",
       "4                  1        1             0                0                1   \n",
       "..               ...      ...           ...              ...              ...   \n",
       "560                1        1             1                1                1   \n",
       "561                0        0             1                1                0   \n",
       "562                0        0             1                0                0   \n",
       "563                0        1             0                1                0   \n",
       "564                0        0             0                0                0   \n",
       "\n",
       "     Muscle Stiffness  Hair Loss  Obesity  Diagnosis  Family History  \n",
       "0                   0          1        0          0               0  \n",
       "1                   0          1        0          0               0  \n",
       "2                   0          1        0          1               0  \n",
       "3                   0          0        0          1               1  \n",
       "4                   1          0        0          1               0  \n",
       "..                ...        ...      ...        ...             ...  \n",
       "560                 1          0        0          1               0  \n",
       "561                 0          0        1          1               0  \n",
       "562                 0          1        0          1               1  \n",
       "563                 0          1        0          0               0  \n",
       "564                 0          0        0          0               0  \n",
       "\n",
       "[565 rows x 18 columns]"
      ]
     },
     "execution_count": 6,
     "metadata": {},
     "output_type": "execute_result"
    }
   ],
   "source": [
    "from sklearn.preprocessing import MinMaxScaler\n",
    "min_max_scaler = MinMaxScaler()\n",
    "t1d_clean[['Age']] = min_max_scaler.fit_transform(t1d_clean[['Age']])\n",
    "t1d_clean"
   ]
  },
  {
   "cell_type": "markdown",
   "metadata": {
    "pycharm": {
     "name": "#%% md\n"
    }
   },
   "source": [
    "# **Q2 -  Split the data into Test Train 20%**"
   ]
  },
  {
   "cell_type": "code",
   "execution_count": 7,
   "metadata": {
    "collapsed": false,
    "jupyter": {
     "outputs_hidden": false
    },
    "pycharm": {
     "name": "#%%\n"
    }
   },
   "outputs": [
    {
     "data": {
      "text/html": [
       "<div>\n",
       "<style scoped>\n",
       "    .dataframe tbody tr th:only-of-type {\n",
       "        vertical-align: middle;\n",
       "    }\n",
       "\n",
       "    .dataframe tbody tr th {\n",
       "        vertical-align: top;\n",
       "    }\n",
       "\n",
       "    .dataframe thead th {\n",
       "        text-align: right;\n",
       "    }\n",
       "</style>\n",
       "<table border=\"1\" class=\"dataframe\">\n",
       "  <thead>\n",
       "    <tr style=\"text-align: right;\">\n",
       "      <th></th>\n",
       "      <th>Age</th>\n",
       "      <th>Gender</th>\n",
       "      <th>Increased Urination</th>\n",
       "      <th>Increased Thirst</th>\n",
       "      <th>Sudden Weight Loss</th>\n",
       "      <th>Weakness</th>\n",
       "      <th>Increased Hunger</th>\n",
       "      <th>Genital Thrush</th>\n",
       "      <th>Visual Blurring</th>\n",
       "      <th>Itching</th>\n",
       "      <th>Irritability</th>\n",
       "      <th>Delayed Healing</th>\n",
       "      <th>Partial Paresis</th>\n",
       "      <th>Muscle Stiffness</th>\n",
       "      <th>Hair Loss</th>\n",
       "      <th>Obesity</th>\n",
       "      <th>Diagnosis</th>\n",
       "      <th>Family History</th>\n",
       "    </tr>\n",
       "  </thead>\n",
       "  <tbody>\n",
       "    <tr>\n",
       "      <th>65</th>\n",
       "      <td>0.621622</td>\n",
       "      <td>1</td>\n",
       "      <td>1</td>\n",
       "      <td>0</td>\n",
       "      <td>0</td>\n",
       "      <td>1</td>\n",
       "      <td>0</td>\n",
       "      <td>1</td>\n",
       "      <td>1</td>\n",
       "      <td>1</td>\n",
       "      <td>1</td>\n",
       "      <td>0</td>\n",
       "      <td>1</td>\n",
       "      <td>1</td>\n",
       "      <td>1</td>\n",
       "      <td>1</td>\n",
       "      <td>1</td>\n",
       "      <td>0</td>\n",
       "    </tr>\n",
       "    <tr>\n",
       "      <th>435</th>\n",
       "      <td>0.283784</td>\n",
       "      <td>1</td>\n",
       "      <td>0</td>\n",
       "      <td>0</td>\n",
       "      <td>0</td>\n",
       "      <td>0</td>\n",
       "      <td>0</td>\n",
       "      <td>0</td>\n",
       "      <td>0</td>\n",
       "      <td>1</td>\n",
       "      <td>0</td>\n",
       "      <td>0</td>\n",
       "      <td>0</td>\n",
       "      <td>0</td>\n",
       "      <td>0</td>\n",
       "      <td>0</td>\n",
       "      <td>0</td>\n",
       "      <td>0</td>\n",
       "    </tr>\n",
       "    <tr>\n",
       "      <th>71</th>\n",
       "      <td>0.418919</td>\n",
       "      <td>1</td>\n",
       "      <td>0</td>\n",
       "      <td>0</td>\n",
       "      <td>0</td>\n",
       "      <td>0</td>\n",
       "      <td>0</td>\n",
       "      <td>0</td>\n",
       "      <td>0</td>\n",
       "      <td>1</td>\n",
       "      <td>0</td>\n",
       "      <td>0</td>\n",
       "      <td>0</td>\n",
       "      <td>0</td>\n",
       "      <td>1</td>\n",
       "      <td>0</td>\n",
       "      <td>0</td>\n",
       "      <td>1</td>\n",
       "    </tr>\n",
       "    <tr>\n",
       "      <th>554</th>\n",
       "      <td>0.256757</td>\n",
       "      <td>1</td>\n",
       "      <td>1</td>\n",
       "      <td>0</td>\n",
       "      <td>1</td>\n",
       "      <td>0</td>\n",
       "      <td>0</td>\n",
       "      <td>0</td>\n",
       "      <td>0</td>\n",
       "      <td>0</td>\n",
       "      <td>0</td>\n",
       "      <td>0</td>\n",
       "      <td>1</td>\n",
       "      <td>0</td>\n",
       "      <td>1</td>\n",
       "      <td>0</td>\n",
       "      <td>1</td>\n",
       "      <td>0</td>\n",
       "    </tr>\n",
       "    <tr>\n",
       "      <th>75</th>\n",
       "      <td>0.540541</td>\n",
       "      <td>1</td>\n",
       "      <td>1</td>\n",
       "      <td>0</td>\n",
       "      <td>1</td>\n",
       "      <td>1</td>\n",
       "      <td>0</td>\n",
       "      <td>1</td>\n",
       "      <td>0</td>\n",
       "      <td>1</td>\n",
       "      <td>1</td>\n",
       "      <td>0</td>\n",
       "      <td>0</td>\n",
       "      <td>0</td>\n",
       "      <td>1</td>\n",
       "      <td>0</td>\n",
       "      <td>1</td>\n",
       "      <td>0</td>\n",
       "    </tr>\n",
       "    <tr>\n",
       "      <th>...</th>\n",
       "      <td>...</td>\n",
       "      <td>...</td>\n",
       "      <td>...</td>\n",
       "      <td>...</td>\n",
       "      <td>...</td>\n",
       "      <td>...</td>\n",
       "      <td>...</td>\n",
       "      <td>...</td>\n",
       "      <td>...</td>\n",
       "      <td>...</td>\n",
       "      <td>...</td>\n",
       "      <td>...</td>\n",
       "      <td>...</td>\n",
       "      <td>...</td>\n",
       "      <td>...</td>\n",
       "      <td>...</td>\n",
       "      <td>...</td>\n",
       "      <td>...</td>\n",
       "    </tr>\n",
       "    <tr>\n",
       "      <th>365</th>\n",
       "      <td>0.459459</td>\n",
       "      <td>0</td>\n",
       "      <td>0</td>\n",
       "      <td>0</td>\n",
       "      <td>0</td>\n",
       "      <td>1</td>\n",
       "      <td>0</td>\n",
       "      <td>0</td>\n",
       "      <td>1</td>\n",
       "      <td>1</td>\n",
       "      <td>0</td>\n",
       "      <td>1</td>\n",
       "      <td>0</td>\n",
       "      <td>0</td>\n",
       "      <td>1</td>\n",
       "      <td>0</td>\n",
       "      <td>0</td>\n",
       "      <td>1</td>\n",
       "    </tr>\n",
       "    <tr>\n",
       "      <th>481</th>\n",
       "      <td>0.364865</td>\n",
       "      <td>1</td>\n",
       "      <td>0</td>\n",
       "      <td>0</td>\n",
       "      <td>0</td>\n",
       "      <td>1</td>\n",
       "      <td>0</td>\n",
       "      <td>1</td>\n",
       "      <td>0</td>\n",
       "      <td>1</td>\n",
       "      <td>0</td>\n",
       "      <td>0</td>\n",
       "      <td>0</td>\n",
       "      <td>0</td>\n",
       "      <td>1</td>\n",
       "      <td>0</td>\n",
       "      <td>0</td>\n",
       "      <td>1</td>\n",
       "    </tr>\n",
       "    <tr>\n",
       "      <th>272</th>\n",
       "      <td>0.189189</td>\n",
       "      <td>1</td>\n",
       "      <td>0</td>\n",
       "      <td>0</td>\n",
       "      <td>0</td>\n",
       "      <td>1</td>\n",
       "      <td>0</td>\n",
       "      <td>0</td>\n",
       "      <td>0</td>\n",
       "      <td>0</td>\n",
       "      <td>0</td>\n",
       "      <td>0</td>\n",
       "      <td>0</td>\n",
       "      <td>0</td>\n",
       "      <td>0</td>\n",
       "      <td>0</td>\n",
       "      <td>0</td>\n",
       "      <td>0</td>\n",
       "    </tr>\n",
       "    <tr>\n",
       "      <th>552</th>\n",
       "      <td>0.148649</td>\n",
       "      <td>1</td>\n",
       "      <td>0</td>\n",
       "      <td>0</td>\n",
       "      <td>0</td>\n",
       "      <td>0</td>\n",
       "      <td>0</td>\n",
       "      <td>0</td>\n",
       "      <td>0</td>\n",
       "      <td>0</td>\n",
       "      <td>0</td>\n",
       "      <td>0</td>\n",
       "      <td>0</td>\n",
       "      <td>0</td>\n",
       "      <td>0</td>\n",
       "      <td>0</td>\n",
       "      <td>0</td>\n",
       "      <td>0</td>\n",
       "    </tr>\n",
       "    <tr>\n",
       "      <th>497</th>\n",
       "      <td>0.608108</td>\n",
       "      <td>0</td>\n",
       "      <td>1</td>\n",
       "      <td>0</td>\n",
       "      <td>0</td>\n",
       "      <td>0</td>\n",
       "      <td>1</td>\n",
       "      <td>0</td>\n",
       "      <td>0</td>\n",
       "      <td>0</td>\n",
       "      <td>1</td>\n",
       "      <td>0</td>\n",
       "      <td>0</td>\n",
       "      <td>0</td>\n",
       "      <td>1</td>\n",
       "      <td>0</td>\n",
       "      <td>1</td>\n",
       "      <td>0</td>\n",
       "    </tr>\n",
       "  </tbody>\n",
       "</table>\n",
       "<p>113 rows × 18 columns</p>\n",
       "</div>"
      ],
      "text/plain": [
       "          Age  Gender  Increased Urination  Increased Thirst  \\\n",
       "65   0.621622       1                    1                 0   \n",
       "435  0.283784       1                    0                 0   \n",
       "71   0.418919       1                    0                 0   \n",
       "554  0.256757       1                    1                 0   \n",
       "75   0.540541       1                    1                 0   \n",
       "..        ...     ...                  ...               ...   \n",
       "365  0.459459       0                    0                 0   \n",
       "481  0.364865       1                    0                 0   \n",
       "272  0.189189       1                    0                 0   \n",
       "552  0.148649       1                    0                 0   \n",
       "497  0.608108       0                    1                 0   \n",
       "\n",
       "     Sudden Weight Loss  Weakness  Increased Hunger  Genital Thrush  \\\n",
       "65                    0         1                 0               1   \n",
       "435                   0         0                 0               0   \n",
       "71                    0         0                 0               0   \n",
       "554                   1         0                 0               0   \n",
       "75                    1         1                 0               1   \n",
       "..                  ...       ...               ...             ...   \n",
       "365                   0         1                 0               0   \n",
       "481                   0         1                 0               1   \n",
       "272                   0         1                 0               0   \n",
       "552                   0         0                 0               0   \n",
       "497                   0         0                 1               0   \n",
       "\n",
       "     Visual Blurring  Itching  Irritability  Delayed Healing  Partial Paresis  \\\n",
       "65                 1        1             1                0                1   \n",
       "435                0        1             0                0                0   \n",
       "71                 0        1             0                0                0   \n",
       "554                0        0             0                0                1   \n",
       "75                 0        1             1                0                0   \n",
       "..               ...      ...           ...              ...              ...   \n",
       "365                1        1             0                1                0   \n",
       "481                0        1             0                0                0   \n",
       "272                0        0             0                0                0   \n",
       "552                0        0             0                0                0   \n",
       "497                0        0             1                0                0   \n",
       "\n",
       "     Muscle Stiffness  Hair Loss  Obesity  Diagnosis  Family History  \n",
       "65                  1          1        1          1               0  \n",
       "435                 0          0        0          0               0  \n",
       "71                  0          1        0          0               1  \n",
       "554                 0          1        0          1               0  \n",
       "75                  0          1        0          1               0  \n",
       "..                ...        ...      ...        ...             ...  \n",
       "365                 0          1        0          0               1  \n",
       "481                 0          1        0          0               1  \n",
       "272                 0          0        0          0               0  \n",
       "552                 0          0        0          0               0  \n",
       "497                 0          1        0          1               0  \n",
       "\n",
       "[113 rows x 18 columns]"
      ]
     },
     "execution_count": 7,
     "metadata": {},
     "output_type": "execute_result"
    }
   ],
   "source": [
    "diagnosis = t1d_clean['Diagnosis']\n",
    "\n",
    "X_train, X_test, y_train, y_test = train_test_split(t1d_clean, np.ravel(diagnosis), test_size=0.2,\n",
    "                                                        random_state=0, stratify=np.ravel(diagnosis))\n",
    "\n",
    "X_test"
   ]
  },
  {
   "cell_type": "markdown",
   "metadata": {},
   "source": [
    "# **Q3 - Visualization and exploration of the data**\n",
    "\n"
   ]
  },
  {
   "cell_type": "markdown",
   "metadata": {},
   "source": [
    "# Distribution of the features:"
   ]
  },
  {
   "cell_type": "code",
   "execution_count": 8,
   "metadata": {
    "collapsed": false,
    "jupyter": {
     "outputs_hidden": false
    },
    "pycharm": {
     "name": "#%%\n"
    }
   },
   "outputs": [
    {
     "name": "stdout",
     "output_type": "stream",
     "text": [
      "Feature            | Train % | Test % | Difference\n",
      "Age                  0.43     0.43     0.0     \n",
      "Gender               63.94     62.83     1.11\n",
      "Increased Urination  48.23     48.67     -0.44\n",
      "Increased Thirst     44.03     38.05     5.98\n",
      "Sudden Weight Loss   40.93     46.02     -5.09\n",
      "Weakness             56.42     60.18     -3.76\n",
      "Increased Hunger     44.03     41.59     2.44\n",
      "Genital Thrush       20.58     25.66     -5.08\n",
      "Visual Blurring      45.8      41.59     4.21\n",
      "Itching              50.22     46.02     4.2\n",
      "Irritability         23.01     25.66     -2.65\n",
      "Delayed Healing      46.9      43.36     3.54\n",
      "Partial Paresis      42.7      42.48     0.22\n",
      "Muscle Stiffness     35.62     36.28     -0.66\n",
      "Hair Loss            34.29     41.59     -7.3\n",
      "Obesity              17.48     14.16     3.32\n",
      "Diagnosis            60.62     61.06     -0.44\n",
      "Family History       50.22     52.21     -1.99\n"
     ]
    }
   ],
   "source": [
    "from Ext_Functions import print_dist_features\n",
    "print_dist_features(t1d_clean, X_train, X_test)"
   ]
  },
  {
   "cell_type": "markdown",
   "metadata": {},
   "source": [
    "**A3 Section a**\n",
    "\n",
    "Imbalance between train and test set could cause the learning algorithm to fail in classification of the test set.\n",
    "Balance can be reached with stratification or normalization. in our case, due to the booleanic nature of the data, its better to do stratification."
   ]
  },
  {
   "cell_type": "markdown",
   "metadata": {},
   "source": [
    "# Relationship between feature and label:\n",
    "\n",
    "These plots shows the relationsship between each feature and label. The age feature is shown in zoom-in plot because it has many details and was not clear in a small plot"
   ]
  },
  {
   "cell_type": "code",
   "execution_count": 9,
   "metadata": {
    "collapsed": false,
    "jupyter": {
     "outputs_hidden": false
    },
    "pycharm": {
     "name": "#%%\n"
    }
   },
   "outputs": [
    {
     "data": {
      "image/png": "[encoded data removed]",
      "text/plain": [
       "<Figure size 1440x1080 with 20 Axes>"
      ]
     },
     "metadata": {
      "needs_background": "light"
     },
     "output_type": "display_data"
    },
    {
     "data": {
      "image/png": "[encoded data removed]",
      "text/plain": [
       "<Figure size 1080x720 with 1 Axes>"
      ]
     },
     "metadata": {},
     "output_type": "display_data"
    }
   ],
   "source": [
    "import seaborn as sbn\n",
    "import matplotlib.ticker as ticker\n",
    "from Ext_Functions import feature_corr\n",
    "\n",
    "feature_corr(t1d_clean)\n",
    "\n",
    "fig, axes = plt.subplots(1, 1,figsize=(15, 10) )\n",
    "\n",
    "\n",
    "# Plot Age seperately:\n",
    "title_text = 'Number of patients as a function of age - Zoom in'\n",
    "feat_lab = sbn.countplot(ax = axes, x='Age', hue = 'Diagnosis', data = t1d_clean)\n",
    "feat_lab.xaxis.set_major_locator(ticker.LinearLocator(10))\n",
    "feat_lab.set_title(title_text, fontsize=15)\n",
    "axes.tick_params(axis='both', which='major', labelsize=15)"
   ]
  },
  {
   "cell_type": "markdown",
   "metadata": {},
   "source": [
    "Additional plots:"
   ]
  },
  {
   "cell_type": "code",
   "execution_count": 10,
   "metadata": {
    "collapsed": false,
    "jupyter": {
     "outputs_hidden": false
    },
    "pycharm": {
     "name": "#%%\n"
    }
   },
   "outputs": [],
   "source": [
    "X_train = X_train.drop(columns=['Diagnosis'])\n",
    "X_test = X_test.drop(columns=['Diagnosis'])"
   ]
  },
  {
   "cell_type": "markdown",
   "metadata": {},
   "source": [
    "# **Q4 - One Hot Vector**"
   ]
  },
  {
   "cell_type": "markdown",
   "metadata": {},
   "source": [
    "**We have already done this step - manually - in the data pre-processing stage**"
   ]
  },
  {
   "cell_type": "code",
   "execution_count": 11,
   "metadata": {
    "collapsed": false,
    "jupyter": {
     "outputs_hidden": false
    },
    "pycharm": {
     "name": "#%%\n"
    }
   },
   "outputs": [
    {
     "data": {
      "text/plain": [
       "pandas.core.frame.DataFrame"
      ]
     },
     "execution_count": 11,
     "metadata": {},
     "output_type": "execute_result"
    }
   ],
   "source": [
    "X_train_ohv = X_train\n",
    "X_test_ohv = X_test\n",
    "y_train_ohv = y_train\n",
    "y_test_ohv = y_test\n",
    "\n",
    "type(X_train_ohv)"
   ]
  },
  {
   "cell_type": "markdown",
   "metadata": {},
   "source": [
    "Additional plots:"
   ]
  },
  {
   "cell_type": "code",
   "execution_count": 12,
   "metadata": {},
   "outputs": [],
   "source": [
    "from sklearn.model_selection import StratifiedKFold\n",
    "from sklearn.linear_model import LogisticRegression\n",
    "from sklearn.svm import NuSVC\n",
    "from sklearn.ensemble import RandomForestClassifier\n",
    "from sklearn.linear_model import SGDClassifier"
   ]
  },
  {
   "cell_type": "code",
   "execution_count": 13,
   "metadata": {},
   "outputs": [],
   "source": [
    "from Ext_Functions import cv_kfold\n",
    "from Ext_Functions import pred_log"
   ]
  },
  {
   "cell_type": "markdown",
   "metadata": {},
   "source": [
    "**Test and Fit the models**"
   ]
  },
  {
   "cell_type": "code",
   "execution_count": 14,
   "metadata": {},
   "outputs": [
    {
     "name": "stdout",
     "output_type": "stream",
     "text": [
      "         C penalty        Mu     Sigma       AUC     Score\n",
      "0     0.01      l1  0.671948  0.004128  0.500000  0.611111\n",
      "1     0.01      l2  0.480173  0.012268  0.976768  0.934066\n",
      "2     0.10      l1  0.302059  0.039561  0.988636  0.934066\n",
      "3     0.10      l2  0.286946  0.023385  0.985082  0.933333\n",
      "4     1.00      l1  0.196794  0.039436  0.987912  0.955556\n",
      "5     1.00      l2  0.203398  0.027633  0.988683  0.955556\n",
      "6     5.00      l1  0.198001  0.038304  0.987140  0.955556\n",
      "7     5.00      l2  0.194247  0.033042  0.987654  0.955556\n",
      "8    10.00      l1  0.200807  0.039917  0.987654  0.955556\n",
      "9    10.00      l2  0.196007  0.035677  0.988169  0.955556\n",
      "10  100.00      l1  0.204760  0.042228  0.987654  0.955556\n",
      "11  100.00      l2  0.203350  0.041281  0.987654  0.955556\n"
     ]
    }
   ],
   "source": [
    "C = np.array([0.01, 0.1, 1, 5, 10, 100]) \n",
    "K = 5  \n",
    "penalty = ['l1', 'l2']\n",
    "val_dict = cv_kfold(X_train_ohv, y_train_ohv, C=C, penalty=penalty, K=K)\n",
    "print(pd.DataFrame(val_dict))\n",
    "\n",
    "# Insert best parameters to get the best model:\n",
    "\n",
    "c = 5\n",
    "p = 'l1'\n",
    "lr_best_model = LogisticRegression(solver='saga', multi_class='ovr', penalty=p, C=c, max_iter=10000, random_state=10)\n",
    "y_pred_best, _ = pred_log(lr_best_model, X_train_ohv, y_train_ohv, X_test_ohv)\n",
    "y_pred_p_best, _ = pred_log(lr_best_model, X_train_ohv, y_train_ohv, X_test_ohv, flag=True)"
   ]
  },
  {
   "cell_type": "code",
   "execution_count": 15,
   "metadata": {},
   "outputs": [
    {
     "name": "stdout",
     "output_type": "stream",
     "text": [
      "Parameters to get best svm are: {'svm__C': 100, 'svm__gamma': 'auto', 'svm__kernel': 'rbf'}\n"
     ]
    }
   ],
   "source": [
    "from sklearn.pipeline import Pipeline\n",
    "from sklearn.preprocessing import StandardScaler\n",
    "from sklearn.model_selection import GridSearchCV\n",
    "from sklearn.svm import SVC\n",
    "\n",
    "n_splits = K\n",
    "skfold = StratifiedKFold(n_splits=n_splits, random_state=10, shuffle=True)\n",
    "svc_model = SVC(probability=True)\n",
    "C = np.array([1, 100, 1000])\n",
    "pipeline = Pipeline(steps=[('scale', StandardScaler()), ('svm', svc_model)])\n",
    "svm_nonlinear = GridSearchCV(estimator=pipeline, param_grid={'svm__C': C, 'svm__kernel': ['rbf', 'poly'],\n",
    "                        'svm__gamma': ['auto', 'scale']}, scoring=['roc_auc'],\n",
    "                        cv=skfold, refit='roc_auc', verbose=0, return_train_score=True)\n",
    "svm_nonlinear.fit(X_train_ohv, y_train_ohv)\n",
    "\n",
    "best_svm_nonlin = svm_nonlinear.best_estimator_\n",
    "print('Parameters to get best svm are:', svm_nonlinear.best_params_)"
   ]
  },
  {
   "cell_type": "code",
   "execution_count": 16,
   "metadata": {},
   "outputs": [
    {
     "data": {
      "image/png": "[encoded data removed]",
      "text/plain": [
       "<Figure size 432x288 with 2 Axes>"
      ]
     },
     "metadata": {},
     "output_type": "display_data"
    },
    {
     "data": {
      "image/png": "[encoded data removed]",
      "text/plain": [
       "<Figure size 432x288 with 2 Axes>"
      ]
     },
     "metadata": {},
     "output_type": "display_data"
    }
   ],
   "source": [
    "from sklearn.metrics import plot_confusion_matrix\n",
    "\n",
    "\n",
    "disp_lr = plot_confusion_matrix(lr_best_model, X_test_ohv, y_test_ohv,\n",
    "                                 display_labels=['Negative', 'Positive'],\n",
    "                                 cmap=plt.cm.Blues)\n",
    "disp_lr.ax_.set_title(\"Confusion Matrix - Logistic Regression\")\n",
    "\n",
    "disp_svm = plot_confusion_matrix(best_svm_nonlin, X_test_ohv, y_test_ohv,\n",
    "                                 display_labels=['Negative', 'Positive'],\n",
    "                                 cmap=plt.cm.Blues)\n",
    "disp_svm.ax_.set_title(\"Confusion Matrix - Non-linear SVM\")\n",
    "\n",
    "plt.show()"
   ]
  },
  {
   "cell_type": "markdown",
   "metadata": {},
   "source": [
    "# Q5 part b\n",
    "\n",
    "Plot statistics for all algorithms:"
   ]
  },
  {
   "cell_type": "code",
   "execution_count": 17,
   "metadata": {},
   "outputs": [
    {
     "data": {
      "image/png": "[encoded data removed]",
      "text/plain": [
       "<Figure size 500x500 with 1 Axes>"
      ]
     },
     "metadata": {},
     "output_type": "display_data"
    },
    {
     "name": "stdout",
     "output_type": "stream",
     "text": [
      "Logistic Regression Results:\n",
      "Test set results:\n",
      "Accuracy is: 90.27%\n",
      "Precision is: 90.28%\n",
      "recall is: 94.20%\n",
      "F1 score is: 89.63%\n",
      "AUC is: 89.15%\n",
      "\n",
      "Train set results:\n",
      "Train accuracy is: 93.81%\n",
      "Train precision is: 95.56%\n",
      "Train recall is: 94.16%\n",
      "Train F1 score is: 93.54%\n",
      "Train AUC is: 93.71%\n",
      "\n",
      "SVM Results:\n",
      "Test set results:\n",
      "Accuracy is: 95.58%\n",
      "Precision is: 95.71%\n",
      "recall is: 97.10%\n",
      "F1 score is: 95.33%\n",
      "AUC is: 95.14%\n",
      "\n",
      "Train set results:\n",
      "Train accuracy is: 99.56%\n",
      "Train precision is: 99.28%\n",
      "Train recall is: 100.00%\n",
      "Train F1 score is: 99.54%\n",
      "Train AUC is: 99.44%\n"
     ]
    }
   ],
   "source": [
    "from sklearn.metrics import roc_curve, auc\n",
    "from sklearn.metrics import f1_score, precision_score, recall_score, confusion_matrix\n",
    "from Ext_Functions import parameter_evaluation\n",
    "# lr = Logistic Regression\n",
    "# svm = Support Vector Machine\n",
    "\n",
    "\n",
    "model_lr = lr_best_model\n",
    "model_svm = best_svm_nonlin\n",
    "y_pred_lr = model_lr.decision_function(X_test_ohv)\n",
    "lr_fpr, lr_tpr, threshold = roc_curve(y_test_ohv, y_pred_lr)\n",
    "y_pred_lr_train = (model_lr.predict(X_train_ohv)).astype(\"int32\")\n",
    "y_pred_lr_test = (model_lr.predict(X_test_ohv)).astype(\"int32\")\n",
    "auc_lr = metrics.roc_auc_score(y_test,y_pred_lr_test)\n",
    "\n",
    "\n",
    "y_pred_svm = model_svm.decision_function(X_test_ohv)\n",
    "svm_fpr, svm_tpr, threshold = roc_curve(y_test_ohv, y_pred_svm)\n",
    "y_pred_svm_train = (model_svm.predict(X_train_ohv)).astype(\"int32\")\n",
    "y_pred_svm_test = (model_svm.predict(X_test_ohv)).astype(\"int32\")\n",
    "auc_svm = metrics.roc_auc_score(y_test,y_pred_svm_test)\n",
    "\n",
    "\n",
    "plt.figure(figsize = (5,5), dpi = 100)\n",
    "plt.plot(svm_fpr, svm_tpr, linestyle = '-', label = 'SVM (auc=%0.3f)' %auc_svm)\n",
    "plt.plot(lr_fpr, lr_tpr,marker='.' ,label = 'Logistic Reg (auc=%0.3f)' %auc_lr)\n",
    "plt.xlabel('False Positive Rate -->')\n",
    "plt.ylabel('True Positive Rate -->')\n",
    "plt.legend()\n",
    "plt.show()\n",
    "\n",
    "print('Logistic Regression Results:')\n",
    "parameter_evaluation(y_test_ohv,y_train_ohv,y_pred_lr_test,y_pred_lr_train)\n",
    "\n",
    "print()\n",
    "print('SVM Results:')\n",
    "parameter_evaluation(y_test_ohv,y_train_ohv,y_pred_svm_test,y_pred_svm_train)"
   ]
  },
  {
   "cell_type": "markdown",
   "metadata": {},
   "source": [
    "# **Q6 - Feature importance**"
   ]
  },
  {
   "cell_type": "code",
   "execution_count": 18,
   "metadata": {},
   "outputs": [
    {
     "name": "stdout",
     "output_type": "stream",
     "text": [
      "Feature: 0, Score: 0.07851\n",
      "Feature: 1, Score: 0.10029\n",
      "Feature: 2, Score: 0.22224\n",
      "Feature: 3, Score: 0.17759\n",
      "Feature: 4, Score: 0.06026\n",
      "Feature: 5, Score: 0.02114\n",
      "Feature: 6, Score: 0.02974\n",
      "Feature: 7, Score: 0.02102\n",
      "Feature: 8, Score: 0.03230\n",
      "Feature: 9, Score: 0.02746\n",
      "Feature: 10, Score: 0.03966\n",
      "Feature: 11, Score: 0.03446\n",
      "Feature: 12, Score: 0.06044\n",
      "Feature: 13, Score: 0.02505\n",
      "Feature: 14, Score: 0.03772\n",
      "Feature: 15, Score: 0.02350\n",
      "Feature: 16, Score: 0.00863\n"
     ]
    },
    {
     "data": {
      "image/png": "[encoded data removed]",
      "text/plain": [
       "<Figure size 432x288 with 1 Axes>"
      ]
     },
     "metadata": {},
     "output_type": "display_data"
    }
   ],
   "source": [
    "from sklearn.ensemble import RandomForestClassifier\n",
    "model_rf = RandomForestClassifier()\n",
    "model_rf.fit(X_train,y_train)\n",
    "# get importance\n",
    "importance = model_rf.feature_importances_\n",
    "# summarize feature importance\n",
    "for i,v in enumerate(importance):\n",
    " \tprint('Feature: %0d, Score: %.5f' % (i,v))\n",
    "# plot feature importance\n",
    "labels = ['Age','Gender_M', 'Increased Urination_T', 'Increased Thirst_T',\n",
    "       'Sudden Weight Loss_T', 'Weakness_T',\n",
    "        'Increased Hunger_T','Genital Thrush_T', 'Visual Blurring_T',  \n",
    "        'Itching_T', 'Irritability_T','Delayed Healing_T',\n",
    "        'Partial Paresis_T', 'Muscle Stiffness_T', 'Hair Loss_T',\n",
    "        'Obesity_T','Family History_T']\n",
    "t= np.arange(0,17)\n",
    "plt.bar([x for x in range(len(importance))], importance)\n",
    "plt.xticks(t,labels, rotation='vertical')\n",
    "plt.show()"
   ]
  },
  {
   "cell_type": "markdown",
   "metadata": {},
   "source": [
    "As we can see, the 2 most important features are increased urination and increased thirst.\n",
    "\n",
    "This matches up with the feature - label correlation from Q3. Looking at the graphs, we can see that these features are the most meaningful ones since they have the largest number of diagnosed patients. Also, among the patients who do have increased urination\\thirst, the number of the healthy ones is the lowest in comparison to the diagnsed ones."
   ]
  },
  {
   "cell_type": "markdown",
   "metadata": {},
   "source": [
    "# Q7 - Data Separability Visualization"
   ]
  },
  {
   "cell_type": "markdown",
   "metadata": {},
   "source": [
    "Section a"
   ]
  },
  {
   "cell_type": "code",
   "execution_count": 19,
   "metadata": {},
   "outputs": [],
   "source": [
    "from sklearn.decomposition import PCA\n",
    "from sklearn.preprocessing import StandardScaler\n",
    "n_components = 2\n",
    "pca = PCA(n_components=n_components, whiten=True)\n",
    "scaler = StandardScaler()\n",
    "X_train_copy = scaler.fit_transform(X_train_ohv)\n",
    "X_test_copy = scaler.transform(X_test_ohv)\n",
    "X_train_pca = pca.fit_transform(X_train_copy)\n",
    "X_test_pca = pca.transform(X_test_copy)"
   ]
  },
  {
   "cell_type": "code",
   "execution_count": 20,
   "metadata": {},
   "outputs": [],
   "source": [
    "def plt_2d_pca(X_pca,y):\n",
    "    fig = plt.figure(figsize=(8, 8))\n",
    "    ax = fig.add_subplot(111, aspect='equal')\n",
    "    ax.scatter(X_pca[y==0, 0], X_pca[y==0, 1], color='b')\n",
    "    ax.scatter(X_pca[y==1, 0], X_pca[y==1, 1], color='r')\n",
    "    ax.legend(('Negative','Positive'))\n",
    "    ax.plot([0], [0], \"ko\")\n",
    "    ax.arrow(0, 0, 0, 1, head_width=0.05, length_includes_head=True, head_length=0.1, fc='k', ec='k')\n",
    "    ax.arrow(0, 0, 1, 0, head_width=0.05, length_includes_head=True, head_length=0.1, fc='k', ec='k')\n",
    "    ax.set_xlabel('$U_1$')\n",
    "    ax.set_ylabel('$U_2$')\n",
    "    ax.set_title('2D PCA')"
   ]
  },
  {
   "cell_type": "code",
   "execution_count": 21,
   "metadata": {},
   "outputs": [
    {
     "data": {
      "image/png": "[encoded data removed]",
      "text/plain": [
       "<Figure size 576x576 with 1 Axes>"
      ]
     },
     "metadata": {},
     "output_type": "display_data"
    }
   ],
   "source": [
    "plt_2d_pca(X_test_pca,y_test)"
   ]
  },
  {
   "cell_type": "markdown",
   "metadata": {},
   "source": [
    "Section b\n",
    "\n",
    "As can be seen above, the data is not linearly seperable. It is possible to use a linear classifier, however the boundary condition may be misleading."
   ]
  },
  {
   "cell_type": "code",
   "execution_count": 22,
   "metadata": {},
   "outputs": [],
   "source": [
    "from sklearn.metrics import plot_confusion_matrix, roc_auc_score\n",
    "from sklearn.metrics import confusion_matrix\n",
    "from sklearn.metrics import log_loss\n",
    "from sklearn.metrics import hinge_loss\n",
    "calc_TN = lambda y_true, y_pred: confusion_matrix(y_true, y_pred)[0, 0]\n",
    "calc_FP = lambda y_true, y_pred: confusion_matrix(y_true, y_pred)[0, 1]\n",
    "calc_FN = lambda y_true, y_pred: confusion_matrix(y_true, y_pred)[1, 0]\n",
    "calc_TP = lambda y_true, y_pred: confusion_matrix(y_true, y_pred)[1, 1]\n"
   ]
  },
  {
   "cell_type": "markdown",
   "metadata": {},
   "source": [
    "Finding the perfect parameters for the new-2D-data:"
   ]
  },
  {
   "cell_type": "code",
   "execution_count": 24,
   "metadata": {},
   "outputs": [
    {
     "name": "stdout",
     "output_type": "stream",
     "text": [
      "         C penalty        Mu     Sigma       AUC     Score\n",
      "0     0.01      l1  0.644279  0.013203  0.931818  0.611111\n",
      "1     0.01      l2  0.481505  0.008088  0.953704  0.879121\n",
      "2     0.10      l1  0.330397  0.018253  0.954218  0.890110\n",
      "3     0.10      l2  0.342398  0.017225  0.957305  0.890110\n",
      "4     1.00      l1  0.311047  0.029242  0.956790  0.890110\n",
      "5     1.00      l2  0.311698  0.027046  0.956790  0.890110\n",
      "6     5.00      l1  0.311018  0.031346  0.956790  0.890110\n",
      "7     5.00      l2  0.310874  0.030644  0.956790  0.890110\n",
      "8    10.00      l1  0.311055  0.031634  0.956790  0.890110\n",
      "9    10.00      l2  0.310957  0.031257  0.956790  0.890110\n",
      "10  100.00      l1  0.311093  0.031898  0.956790  0.890110\n",
      "11  100.00      l2  0.311066  0.031860  0.956790  0.890110\n"
     ]
    }
   ],
   "source": [
    "#Linear Regression:\n",
    "\n",
    "X_train_pca = pd.DataFrame(X_train_pca)\n",
    "X_test_pca = pd.DataFrame(X_test_pca)\n",
    "\n",
    "C = np.array([0.01, 0.1, 1, 5, 10, 100]) \n",
    "K = 5  \n",
    "penalty = ['l1', 'l2']\n",
    "val_dict_pca = cv_kfold(X_train_pca, y_train_ohv, C=C, penalty=penalty, K=K)\n",
    "print(pd.DataFrame(val_dict_pca))\n",
    "\n",
    "# Insert best parameters to get the best model (PCA):\n",
    "\n",
    "c = 1\n",
    "p = 'l2'\n",
    "lr_best_model_pca = LogisticRegression(solver='saga', multi_class='ovr', penalty=p, C=c, max_iter=10000, random_state=10)\n",
    "y_pred_best_pca, _ = pred_log(lr_best_model_pca, X_train_pca, y_train_ohv, X_test_pca)\n",
    "y_pred_prob_best_pca, _ = pred_log(lr_best_model_pca, X_train_pca, y_train_ohv, X_test_pca, flag=True)"
   ]
  },
  {
   "cell_type": "code",
   "execution_count": 25,
   "metadata": {},
   "outputs": [
    {
     "name": "stdout",
     "output_type": "stream",
     "text": [
      "Parameters to get best svm are: {'svm__C': 100, 'svm__gamma': 'scale', 'svm__kernel': 'poly'}\n"
     ]
    }
   ],
   "source": [
    "n_splits = K\n",
    "skfold = StratifiedKFold(n_splits=n_splits, random_state=10, shuffle=True)\n",
    "svc_model = SVC(probability=True)\n",
    "C = np.array([1, 100, 1000])\n",
    "pipeline = Pipeline(steps=[('scale', StandardScaler()), ('svm', svc_model)])\n",
    "svm_nonlinear_pca = GridSearchCV(estimator=pipeline, param_grid={'svm__C': C, 'svm__kernel': ['rbf', 'poly'],\n",
    "                        'svm__gamma': ['auto', 'scale']}, scoring=['roc_auc'],\n",
    "                        cv=skfold, refit='roc_auc', verbose=0, return_train_score=True)\n",
    "svm_nonlinear_pca.fit(X_train_pca, y_train_ohv)\n",
    "\n",
    "best_svm_nonlin_pca = svm_nonlinear_pca.best_estimator_\n",
    "print('Parameters to get best svm are:', svm_nonlinear_pca.best_params_)"
   ]
  },
  {
   "cell_type": "code",
   "execution_count": 32,
   "metadata": {},
   "outputs": [
    {
     "data": {
      "image/png": "[encoded data removed]",
      "text/plain": [
       "<Figure size 500x500 with 1 Axes>"
      ]
     },
     "metadata": {},
     "output_type": "display_data"
    },
    {
     "name": "stdout",
     "output_type": "stream",
     "text": [
      "Logistic Regression Results:\n",
      "Test set results:\n",
      "Accuracy is: 83.19%\n",
      "Precision is: 87.88%\n",
      "recall is: 84.06%\n",
      "F1 score is: 82.52%\n",
      "AUC is: 82.94%\n",
      "\n",
      "Train set results:\n",
      "Train accuracy is: 85.84%\n",
      "Train precision is: 90.08%\n",
      "Train recall is: 86.13%\n",
      "Train F1 score is: 85.33%\n",
      "Train AUC is: 85.76%\n",
      "\n",
      "SVM Results:\n",
      "Test set results:\n",
      "Accuracy is: 84.96%\n",
      "Precision is: 89.39%\n",
      "recall is: 85.51%\n",
      "F1 score is: 84.36%\n",
      "AUC is: 84.80%\n",
      "\n",
      "Train set results:\n",
      "Train accuracy is: 89.16%\n",
      "Train precision is: 91.21%\n",
      "Train recall is: 90.88%\n",
      "Train F1 score is: 88.66%\n",
      "Train AUC is: 88.70%\n"
     ]
    }
   ],
   "source": [
    "#Predict + fit for LR and SVM (PCA):\n",
    "\n",
    "lr_best_model_pca.fit(X_train_pca, y_train)\n",
    "y_pred_test_pca = lr_best_model_pca.predict(X_test_pca)\n",
    "\n",
    "model_lr_pca = lr_best_model_pca\n",
    "model_svm_pca = best_svm_nonlin_pca\n",
    "\n",
    "y_pred_lr_pca = model_lr_pca.decision_function(X_test_pca)\n",
    "lr_fpr_pca, lr_tpr_pca, threshold_pca = roc_curve(y_test_ohv, y_pred_lr_pca)\n",
    "y_pred_lr_train_pca = (model_lr_pca.predict(X_train_pca)).astype(\"int32\")\n",
    "y_pred_lr_test_pca = (model_lr_pca.predict(X_test_pca)).astype(\"int32\")\n",
    "auc_lr_pca = metrics.roc_auc_score(y_test,y_pred_lr_test_pca)\n",
    "\n",
    "\n",
    "y_pred_svm_pca = best_svm_nonlin_pca.decision_function(X_test_pca)\n",
    "svm_fpr_pca, svm_tpr_pca, threshold_pca = roc_curve(y_test_ohv, y_pred_svm_pca)\n",
    "y_pred_svm_train_pca = (best_svm_nonlin_pca.predict(X_train_pca)).astype(\"int32\")\n",
    "y_pred_svm_test_pca = (best_svm_nonlin_pca.predict(X_test_pca)).astype(\"int32\")\n",
    "auc_svm_pca = metrics.roc_auc_score(y_test,y_pred_svm_test_pca)\n",
    "\n",
    "\n",
    "plt.figure(figsize = (5,5), dpi = 100)\n",
    "plt.plot(svm_fpr_pca, svm_tpr_pca, linestyle = '-', label = 'SVM - 2D (auc=%0.3f)' %auc_svm_pca)\n",
    "plt.plot(lr_fpr_pca, lr_tpr_pca,marker='.' ,label = 'Logistic Reg - 2D(auc=%0.3f)' %auc_lr_pca)\n",
    "plt.xlabel('False Positive Rate -->')\n",
    "plt.ylabel('True Positive Rate -->')\n",
    "plt.legend()\n",
    "plt.show()\n",
    "\n",
    "print('Logistic Regression Results:')\n",
    "parameter_evaluation(y_test_ohv,y_train_ohv,y_pred_lr_test_pca,y_pred_lr_train_pca)\n",
    "\n",
    "print()\n",
    "print('SVM Results:')\n",
    "parameter_evaluation(y_test_ohv,y_train_ohv,y_pred_svm_test_pca,y_pred_svm_train_pca)"
   ]
  },
  {
   "cell_type": "markdown",
   "metadata": {},
   "source": [
    "Section D:"
   ]
  },
  {
   "cell_type": "code",
   "execution_count": 28,
   "metadata": {},
   "outputs": [],
   "source": [
    "feat_name =['Increased Urination','Increased Thirst']\n",
    "X_train_2f = X_train[feat_name]\n",
    "X_test_2f =  X_test[feat_name]"
   ]
  },
  {
   "cell_type": "markdown",
   "metadata": {},
   "source": [
    "Again - finding the best parameters for the new data:"
   ]
  },
  {
   "cell_type": "code",
   "execution_count": 30,
   "metadata": {},
   "outputs": [
    {
     "name": "stdout",
     "output_type": "stream",
     "text": [
      "         C penalty        Mu     Sigma       AUC     Score\n",
      "0     0.01      l1  0.675207  0.006084  0.500000  0.611111\n",
      "1     0.01      l2  0.547339  0.010404  0.963636  0.611111\n",
      "2     0.10      l1  0.352961  0.046531  0.959091  0.934066\n",
      "3     0.10      l2  0.375579  0.039221  0.963636  0.934066\n",
      "4     1.00      l1  0.328868  0.064403  0.959091  0.934066\n",
      "5     1.00      l2  0.330043  0.060464  0.959091  0.934066\n",
      "6     5.00      l1  0.328899  0.066503  0.959091  0.934066\n",
      "7     5.00      l2  0.328632  0.065453  0.959091  0.934066\n",
      "8    10.00      l1  0.328949  0.066774  0.959091  0.934066\n",
      "9    10.00      l2  0.328768  0.066229  0.959091  0.934066\n",
      "10  100.00      l1  0.329011  0.067023  0.959091  0.934066\n",
      "11  100.00      l2  0.328986  0.066962  0.959091  0.934066\n"
     ]
    }
   ],
   "source": [
    "#Linear Regression:\n",
    "\n",
    "X_train_2f = pd.DataFrame(X_train_2f)\n",
    "X_test_2f = pd.DataFrame(X_test_2f)\n",
    "\n",
    "C = np.array([0.01, 0.1, 1, 5, 10, 100]) \n",
    "K = 5  \n",
    "penalty = ['l1', 'l2']\n",
    "val_dict_2f = cv_kfold(X_train_2f, y_train_ohv, C=C, penalty=penalty, K=K)\n",
    "print(pd.DataFrame(val_dict_2f))\n",
    "\n",
    "# Insert best parameters to get the best model (PCA):\n",
    "\n",
    "c = 0.1\n",
    "p = 'l2'\n",
    "lr_best_model_2f = LogisticRegression(solver='saga', multi_class='ovr', penalty=p, C=c, max_iter=10000, random_state=10)\n",
    "y_pred_best_2f, _ = pred_log(lr_best_model_2f, X_train_2f, y_train_ohv, X_test_2f)\n",
    "y_pred_prob_best_2f, _ = pred_log(lr_best_model_2f, X_train_2f, y_train_ohv, X_test_pca, flag=True)"
   ]
  },
  {
   "cell_type": "code",
   "execution_count": 31,
   "metadata": {},
   "outputs": [
    {
     "name": "stdout",
     "output_type": "stream",
     "text": [
      "Parameters to get best svm are: {'svm__C': 100, 'svm__gamma': 'auto', 'svm__kernel': 'poly'}\n"
     ]
    }
   ],
   "source": [
    "n_splits = K\n",
    "skfold = StratifiedKFold(n_splits=n_splits, random_state=10, shuffle=True)\n",
    "svc_model_2f = SVC(probability=True)\n",
    "C = np.array([1, 100, 1000])\n",
    "pipeline = Pipeline(steps=[('scale', StandardScaler()), ('svm', svc_model_2f)])\n",
    "svm_nonlinear_2f = GridSearchCV(estimator=pipeline, param_grid={'svm__C': C, 'svm__kernel': ['rbf', 'poly'],\n",
    "                        'svm__gamma': ['auto', 'scale']}, scoring=['roc_auc'],\n",
    "                        cv=skfold, refit='roc_auc', verbose=0, return_train_score=True)\n",
    "svm_nonlinear_2f.fit(X_train_2f, y_train_ohv)\n",
    "\n",
    "best_svm_nonlin_2f = svm_nonlinear_2f.best_estimator_\n",
    "print('Parameters to get best svm are:', svm_nonlinear_2f.best_params_)"
   ]
  },
  {
   "cell_type": "code",
   "execution_count": 35,
   "metadata": {},
   "outputs": [
    {
     "data": {
      "image/png": "[encoded data removed]",
      "text/plain": [
       "<Figure size 500x500 with 1 Axes>"
      ]
     },
     "metadata": {},
     "output_type": "display_data"
    },
    {
     "name": "stdout",
     "output_type": "stream",
     "text": [
      "Logistic Regression Results:\n",
      "Test set results:\n",
      "Accuracy is: 84.96%\n",
      "Precision is: 90.62%\n",
      "recall is: 84.06%\n",
      "F1 score is: 84.47%\n",
      "AUC is: 85.21%\n",
      "\n",
      "Train set results:\n",
      "Train accuracy is: 87.39%\n",
      "Train precision is: 92.89%\n",
      "Train recall is: 85.77%\n",
      "Train F1 score is: 87.03%\n",
      "Train AUC is: 87.83%\n",
      "\n",
      "SVM Results:\n",
      "Test set results:\n",
      "Accuracy is: 84.96%\n",
      "Precision is: 90.62%\n",
      "recall is: 84.06%\n",
      "F1 score is: 84.47%\n",
      "AUC is: 85.21%\n",
      "\n",
      "Train set results:\n",
      "Train accuracy is: 87.39%\n",
      "Train precision is: 92.89%\n",
      "Train recall is: 85.77%\n",
      "Train F1 score is: 87.03%\n",
      "Train AUC is: 87.83%\n"
     ]
    }
   ],
   "source": [
    "#Predict + fit for LR and SVM (PCA):\n",
    "\n",
    "lr_best_model_2f.fit(X_train_2f, y_train)\n",
    "y_pred_test_2f = lr_best_model_2f.predict(X_test_2f)\n",
    "\n",
    "model_lr_2f = lr_best_model_2f\n",
    "model_svm_2f = best_svm_nonlin_2f\n",
    "\n",
    "y_pred_lr_2f = lr_best_model_2f.decision_function(X_test_2f)\n",
    "lr_fpr_2f, lr_tpr_2f, threshold_2f = roc_curve(y_test_ohv, y_pred_lr_2f)\n",
    "y_pred_lr_train_2f = (lr_best_model_2f.predict(X_train_2f)).astype(\"int32\")\n",
    "y_pred_lr_test_2f = (model_lr_2f.predict(X_test_2f)).astype(\"int32\")\n",
    "auc_lr_2f = metrics.roc_auc_score(y_test,y_pred_lr_test_2f)\n",
    "\n",
    "\n",
    "y_pred_svm_2f = svm_nonlinear_2f.decision_function(X_test_2f)\n",
    "svm_fpr_2f, svm_tpr_2f, threshold_2f = roc_curve(y_test_ohv, y_pred_svm_2f)\n",
    "y_pred_svm_train_2f = (svm_nonlinear_2f.predict(X_train_2f)).astype(\"int32\")\n",
    "y_pred_svm_test_2f = (svm_nonlinear_2f.predict(X_test_2f)).astype(\"int32\")\n",
    "auc_svm_2f = metrics.roc_auc_score(y_test,y_pred_svm_test_2f)\n",
    "\n",
    "\n",
    "plt.figure(figsize = (5,5), dpi = 100)\n",
    "plt.plot(svm_fpr_2f, svm_tpr_2f, linestyle = '-', label = 'SVM - 2D (auc=%0.3f)' %auc_svm_2f)\n",
    "plt.plot(lr_fpr_2f, lr_tpr_2f,marker='.' ,label = 'Logistic Reg - 2D(auc=%0.3f)' %auc_lr_2f)\n",
    "plt.xlabel('False Positive Rate -->')\n",
    "plt.ylabel('True Positive Rate -->')\n",
    "plt.legend()\n",
    "plt.show()\n",
    "\n",
    "print('Logistic Regression Results:')\n",
    "parameter_evaluation(y_test_ohv,y_train_ohv,y_pred_lr_test_2f,y_pred_lr_train_2f)\n",
    "\n",
    "print()\n",
    "print('SVM Results:')\n",
    "parameter_evaluation(y_test_ohv,y_train_ohv,y_pred_svm_test_2f,y_pred_svm_train_2f)"
   ]
  },
  {
   "cell_type": "code",
   "execution_count": null,
   "metadata": {},
   "outputs": [],
   "source": []
  }
 ],
 "metadata": {
  "kernelspec": {
   "display_name": "Python 3",
   "language": "python",
   "name": "python3"
  },
  "language_info": {
   "codemirror_mode": {
    "name": "ipython",
    "version": 3
   },
   "file_extension": ".py",
   "mimetype": "text/x-python",
   "name": "python",
   "nbconvert_exporter": "python",
   "pygments_lexer": "ipython3",
   "version": "3.7.9"
  }
 },
 "nbformat": 4,
 "nbformat_minor": 4
}
