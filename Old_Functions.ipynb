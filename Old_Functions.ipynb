{
 "cells": [
  {
   "cell_type": "markdown",
   "metadata": {},
   "source": [
    "# **Old Stuff:**"
   ]
  },
  {
   "cell_type": "code",
   "execution_count": null,
   "metadata": {},
   "outputs": [],
   "source": [
    "\n",
    "skfold = StratifiedKFold(n_splits = 5)\n",
    "\n",
    "#Define algorithms:\n",
    "model_lr = LogisticRegression()\n",
    "model_sgd = SGDClassifier()\n",
    "model_svm = NuSVC()\n",
    "model_rf = RandomForestClassifier()\n",
    "\n",
    "#Define lists for each algorithm\n",
    "score_lr = []\n",
    "score_svm = []\n",
    "score_rf = []\n",
    "score_sgd = []\n",
    "\n",
    "X_split = X_train_ohv\n",
    "y_split = y_train_ohv\n",
    "for train_index, val_index in skfold.split(X_split, y_split):\n",
    "    X_train_kf, X_test_kf, y_train_kf, y_test_kf = X_split.iloc[train_index],X_split.iloc[val_index], y_split[train_index],y_split[val_index]\n",
    "    score_lr.append(get_score(model_lr,X_train_kf,X_test_kf,y_train_kf,y_test_kf))\n",
    "    score_svm.append(get_score(model_svm,X_train_kf,X_test_kf,y_train_kf,y_test_kf))\n",
    "    score_rf.append(get_score(model_rf,X_train_kf,X_test_kf,y_train_kf,y_test_kf))\n",
    "    score_sgd.append(get_score(model_sgd,X_train_kf,X_test_kf,y_train_kf,y_test_kf))   "
   ]
  },
  {
   "cell_type": "code",
   "execution_count": null,
   "metadata": {},
   "outputs": [],
   "source": [
    "import statistics\n",
    "\n",
    "print('LR: %.3f' %statistics.mean(score_lr))\n",
    "print('SGD: %.3f' %statistics.mean(score_sgd))\n",
    "print('SVM: %.3f' %statistics.mean(score_svm))\n",
    "print('RF: %.3f' %statistics.mean(score_rf))\n",
    "print(max(score_lr))\n",
    "print(max(score_sgd))\n",
    "print(max(score_svm))\n",
    "print(max(score_rf))"
   ]
  },
  {
   "cell_type": "markdown",
   "metadata": {},
   "source": [
    "**One Hot Vector**"
   ]
  },
  {
   "cell_type": "code",
   "execution_count": null,
   "metadata": {},
   "outputs": [],
   "source": [
    "from numpy import asarray\n",
    "from sklearn.preprocessing import OneHotEncoder\n",
    "\n",
    "X_columns = pd.get_dummies(X_train.iloc[:, 1:], dummy_na=False, drop_first=True).columns\n",
    "X_train_ohe = pd.get_dummies(X_train.iloc[:, 1:], dummy_na=False, drop_first=True).to_numpy()\n",
    "X_test_ohe = pd.get_dummies(X_test.iloc[:, 1:], dummy_na=False, drop_first=True).to_numpy()\n",
    "\n",
    "\n",
    "# Encode y_train and y_test and\n",
    "\n",
    "encoder = OneHotEncoder(sparse=False)\n",
    "y_train_ohe = encoder.fit_transform(pd.DataFrame(y_train))\n",
    "y_test_ohe = encoder.fit_transform(pd.DataFrame(y_test))\n",
    "y_train_ohe_vec = y_train_ohe[:, 1]  # for 2nd column: 0 means'Negative', 1 means 'Positive'\n",
    "y_test_ohe_vec = y_test_ohe[:, 1]\n",
    "\n",
    "# transform data\n",
    "onehot = encoder.fit_transform(t1d_clean.drop(columns = ['Age']).drop(columns = ['Diagnosis']))\n",
    "ohv_df = pd.DataFrame(onehot)\n",
    "\n",
    "X_train_ohv, X_test_ohv, y_train_ohv, y_test_ohv = train_test_split(ohv_df, np.ravel(diagnosis), test_size=0.2,\n",
    "                                                        random_state=0, stratify=np.ravel(diagnosis))\n",
    "print(pd.get_dummies(t1d_clean.iloc[:, 1:], dummy_na=False, drop_first=True).to_numpy())\n",
    "type(t1d_clean)"
   ]
  }
 ],
 "metadata": {
  "kernelspec": {
   "display_name": "Python 3",
   "language": "python",
   "name": "python3"
  },
  "language_info": {
   "codemirror_mode": {
    "name": "ipython",
    "version": 3
   },
   "file_extension": ".py",
   "mimetype": "text/x-python",
   "name": "python",
   "nbconvert_exporter": "python",
   "pygments_lexer": "ipython3",
   "version": "3.7.9"
  }
 },
 "nbformat": 4,
 "nbformat_minor": 4
}
